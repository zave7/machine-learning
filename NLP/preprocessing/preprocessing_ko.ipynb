{
  "nbformat": 4,
  "nbformat_minor": 0,
  "metadata": {
    "colab": {
      "provenance": []
    },
    "kernelspec": {
      "name": "python3",
      "display_name": "Python 3"
    },
    "language_info": {
      "name": "python"
    }
  },
  "cells": [
    {
      "cell_type": "markdown",
      "source": [
        "# Tokenize"
      ],
      "metadata": {
        "id": "EJ3vMBGFfujZ"
      }
    },
    {
      "cell_type": "markdown",
      "source": [
        "---\n",
        "## KoNLPy"
      ],
      "metadata": {
        "id": "qgcOieeJfxhw"
      }
    },
    {
      "cell_type": "code",
      "execution_count": 2,
      "metadata": {
        "id": "k-wjo8LWfP87"
      },
      "outputs": [],
      "source": [
        "!pip install konlpy"
      ]
    },
    {
      "cell_type": "code",
      "source": [
        "text = \"사람은 비슷한 일을 겪고도 똑같은 일을 반복한다. 사람은 쉽게 변하지 않는다\""
      ],
      "metadata": {
        "id": "614IKGf7f7PG"
      },
      "execution_count": 11,
      "outputs": []
    },
    {
      "cell_type": "code",
      "source": [
        "from konlpy.tag import Okt\n",
        "okt = Okt()\n",
        "print(\"Okt\")\n",
        "print(\"형태소 : \", okt.morphs(text))\n",
        "print(\"표제어 : \", okt.morphs(text, stem=True))\n",
        "print(\"명사 : \", okt.nouns(text))\n",
        "print(\"어절 : \", okt.phrases(text))\n",
        "print(\"품사 : \", okt.pos(text))\n",
        "print(\"품사 조인 : \", okt.pos(text, join=True))"
      ],
      "metadata": {
        "colab": {
          "base_uri": "https://localhost:8080/"
        },
        "id": "K2jHp8XJgMZG",
        "outputId": "8e9b039a-c91a-4c38-c09d-062f7bc6ea70"
      },
      "execution_count": 25,
      "outputs": [
        {
          "output_type": "stream",
          "name": "stdout",
          "text": [
            "Okt\n",
            "형태소 :  ['사람', '은', '비슷한', '일', '을', '겪고도', '똑같은', '일', '을', '반복', '한다', '.', '사람', '은', '쉽게', '변하지', '않는다']\n",
            "표제어 :  ['사람', '은', '비슷하다', '일', '을', '겪다', '똑같다', '일', '을', '반복', '하다', '.', '사람', '은', '쉬다', '변하다', '않다']\n",
            "명사 :  ['사람', '일', '일', '반복', '사람']\n",
            "어절 :  ['사람', '비슷한 일', '똑같은 일', '반복']\n",
            "품사 :  [('사람', 'Noun'), ('은', 'Josa'), ('비슷한', 'Adjective'), ('일', 'Noun'), ('을', 'Josa'), ('겪고도', 'Verb'), ('똑같은', 'Adjective'), ('일', 'Noun'), ('을', 'Josa'), ('반복', 'Noun'), ('한다', 'Verb'), ('.', 'Punctuation'), ('사람', 'Noun'), ('은', 'Josa'), ('쉽게', 'Verb'), ('변하지', 'Adjective'), ('않는다', 'Verb')]\n",
            "품사 조인 :  ['사람/Noun', '은/Josa', '비슷한/Adjective', '일/Noun', '을/Josa', '겪고도/Verb', '똑같은/Adjective', '일/Noun', '을/Josa', '반복/Noun', '한다/Verb', './Punctuation', '사람/Noun', '은/Josa', '쉽게/Verb', '변하지/Adjective', '않는다/Verb']\n"
          ]
        }
      ]
    },
    {
      "cell_type": "code",
      "source": [
        "from konlpy.tag import Kkma\n",
        "okt = Kkma()\n",
        "print(\"Kkma\")\n",
        "print(\"형태소 : \", okt.morphs(text))\n",
        "print(\"명사 : \", okt.nouns(text))\n",
        "print(\"품사 : \", okt.pos(text))\n",
        "print(\"품사 조인 : \", okt.pos(text, join=True))"
      ],
      "metadata": {
        "colab": {
          "base_uri": "https://localhost:8080/"
        },
        "id": "Jxexgbm5m3Iu",
        "outputId": "665dafc8-c7c8-4f88-9346-65fae7ac5162"
      },
      "execution_count": 26,
      "outputs": [
        {
          "output_type": "stream",
          "name": "stdout",
          "text": [
            "Kkma\n",
            "형태소 :  ['사람', '은', '비슷', '하', 'ㄴ', '일', '을', '겪', '고', '도', '똑같', '은', '일', '을', '반복', '하', 'ㄴ다', '.', '사람', '은', '쉽', '게', '변하', '지', '않', '는', '다']\n",
            "명사 :  ['사람', '일', '반복']\n",
            "품사 :  [('사람', 'NNG'), ('은', 'JX'), ('비슷', 'XR'), ('하', 'XSA'), ('ㄴ', 'ETD'), ('일', 'NNG'), ('을', 'JKO'), ('겪', 'VV'), ('고', 'ECE'), ('도', 'JX'), ('똑같', 'VA'), ('은', 'ETD'), ('일', 'NNG'), ('을', 'JKO'), ('반복', 'NNG'), ('하', 'XSV'), ('ㄴ다', 'EFN'), ('.', 'SF'), ('사람', 'NNG'), ('은', 'JX'), ('쉽', 'VA'), ('게', 'ECD'), ('변하', 'VV'), ('지', 'ECD'), ('않', 'VXV'), ('는', 'EPT'), ('다', 'EFN')]\n",
            "품사 조인 :  ['사람/NNG', '은/JX', '비슷/XR', '하/XSA', 'ㄴ/ETD', '일/NNG', '을/JKO', '겪/VV', '고/ECE', '도/JX', '똑같/VA', '은/ETD', '일/NNG', '을/JKO', '반복/NNG', '하/XSV', 'ㄴ다/EFN', './SF', '사람/NNG', '은/JX', '쉽/VA', '게/ECD', '변하/VV', '지/ECD', '않/VXV', '는/EPT', '다/EFN']\n"
          ]
        }
      ]
    },
    {
      "cell_type": "code",
      "source": [
        "from konlpy.tag import Okt\n",
        "okt = Okt()\n",
        "text = \"사람은 비슷한 일을 겪고도 똑같은 일을 반복한다. 사람은 쉽게 변하지 않는다\"\n",
        "stopword = set(\"은 을 한다 쉽게\".split())\n",
        "\n",
        "tokens = okt.morphs(text)\n",
        "result = [ token for token in tokens if token not in stopword ]\n",
        "\n",
        "print(f\"before remove stopword token count : {len(tokens)}\")\n",
        "print(f\"after remove stopword token count : {len(result)}\")"
      ],
      "metadata": {
        "colab": {
          "base_uri": "https://localhost:8080/"
        },
        "id": "LQdHn7kVBhyC",
        "outputId": "4418f446-86f0-470a-827e-3d374a1c38ca"
      },
      "execution_count": 31,
      "outputs": [
        {
          "output_type": "stream",
          "name": "stdout",
          "text": [
            "before remove stopword token count : 17\n",
            "after remove stopword token count : 11\n"
          ]
        }
      ]
    }
  ]
}
{
 "cells": [
  {
   "cell_type": "markdown",
   "metadata": {},
   "source": [
    "# 퍼셉트론(Perceptron)\n",
    "\n",
    "퍼셉트론은 다수의 신호를 입력으로 받아 하나의 신호를 출력한다.<br>\n",
    "퍼셉트론은 입출력을 갖춘 알고리즘이다. 입력을 주면 정해진 규칙에 따른 값을 출력한다.\n",
    "\n",
    "<b>수식</b>   \n",
    "$\n",
    " y =\\begin{cases}0 (w_{1}x_{1} + w_{2}w_{2} \\leq  \\theta )\\\\1 (w_{1}x_{1} + w_{2}w_{2} > \\theta )\\end{cases}\n",
    "$"
   ]
  },
  {
   "cell_type": "markdown",
   "metadata": {},
   "source": [
    "### 1. 논리 회로"
   ]
  },
  {
   "cell_type": "markdown",
   "metadata": {},
   "source": [
    "#### 1) AND 게이트 퍼셉트론"
   ]
  },
  {
   "cell_type": "code",
   "execution_count": 2,
   "metadata": {},
   "outputs": [
    {
     "name": "stdout",
     "output_type": "stream",
     "text": [
      "False\n",
      "False\n",
      "False\n",
      "True\n"
     ]
    }
   ],
   "source": [
    "import numpy as np\n",
    "\n",
    "def AND(x1: int, x2: int) -> bool:\n",
    "    # 가중치를 곱하고 더하여 편향을 더했을 때 0보다 작거나 같으면 False 반환\n",
    "    x = np.array([x1, x2])\n",
    "    w = np.array([0.5, 0.5])\n",
    "    b = -0.7\n",
    "    sum = np.sum(x * w) + b\n",
    "    if sum <= 0:\n",
    "        return False\n",
    "    else:\n",
    "        return True\n",
    "    \n",
    "print(AND(0,0))\n",
    "print(AND(1,0))\n",
    "print(AND(0,1))\n",
    "print(AND(1,1))"
   ]
  },
  {
   "cell_type": "markdown",
   "metadata": {},
   "source": [
    "### 2) OR 게이트 퍼셉트론"
   ]
  },
  {
   "cell_type": "code",
   "execution_count": 4,
   "metadata": {},
   "outputs": [
    {
     "name": "stdout",
     "output_type": "stream",
     "text": [
      "False\n",
      "True\n",
      "True\n",
      "True\n"
     ]
    }
   ],
   "source": [
    "import numpy as np\n",
    "\n",
    "def OR(x1: int, x2: int) -> bool:\n",
    "    x = np.array([x1, x2])\n",
    "    w = np.array([0.5, 0.5])\n",
    "    b = -0.3\n",
    "    sum = np.sum(x * w) + b\n",
    "    if sum <= 0:\n",
    "        return False\n",
    "    else:\n",
    "        return True\n",
    "    \n",
    "print(OR(0,0))\n",
    "print(OR(1,0))\n",
    "print(OR(0,1))\n",
    "print(OR(1,1))"
   ]
  },
  {
   "cell_type": "markdown",
   "metadata": {},
   "source": [
    "### 3) NAND 게이트 퍼셉트론"
   ]
  },
  {
   "cell_type": "code",
   "execution_count": 7,
   "metadata": {},
   "outputs": [
    {
     "name": "stdout",
     "output_type": "stream",
     "text": [
      "True\n",
      "True\n",
      "True\n",
      "False\n"
     ]
    }
   ],
   "source": [
    "import numpy as np\n",
    "\n",
    "def NAND(x1: int, x2: int) -> bool:\n",
    "    x = np.array([x1, x2])\n",
    "    w = np.array([-0.5, -0.5])\n",
    "    b = 0.7\n",
    "    sum = np.sum(x * w) + b\n",
    "    if sum <= 0:\n",
    "        return False\n",
    "    else:\n",
    "        return True\n",
    "    \n",
    "print(NAND(0,0))\n",
    "print(NAND(1,0))\n",
    "print(NAND(0,1))\n",
    "print(NAND(1,1))"
   ]
  },
  {
   "cell_type": "markdown",
   "metadata": {},
   "source": [
    "### 4) XOR 게이트 다층 퍼셉트론\n",
    "\n",
    "단층 퍼셉트론만으로는 선형적인 표현만 가능하고, 비선형적인 XOR을 표현할 수 없다.<br>\n",
    "이를 해결하기 위해 퍼셉트론을 여러 층으로 구성해 비선형적인 표현을 가능하게 할 수 있다."
   ]
  },
  {
   "cell_type": "code",
   "execution_count": 8,
   "metadata": {},
   "outputs": [
    {
     "name": "stdout",
     "output_type": "stream",
     "text": [
      "False\n",
      "True\n",
      "True\n",
      "False\n"
     ]
    }
   ],
   "source": [
    "def XOR(x1: int, x2: int) -> bool:\n",
    "    s1 = OR(x1, x2)\n",
    "    s2 = NAND(x1, x2)\n",
    "    return AND(s1, s2)\n",
    "\n",
    "print(XOR(0,0))\n",
    "print(XOR(1,0))\n",
    "print(XOR(0,1))\n",
    "print(XOR(1,1))"
   ]
  },
  {
   "cell_type": "code",
   "execution_count": 79,
   "metadata": {},
   "outputs": [
    {
     "name": "stdout",
     "output_type": "stream",
     "text": [
      "a(1) + b(1) = 0\n",
      "a(1) + b(1) = {'S': 0, 'C_OUT': 1}\n",
      "a(1) + b(1) + c_in(0) = {'S': 0, 'C_OUT': 1}\n",
      "a(0011) + b(0111) = 10\n"
     ]
    }
   ],
   "source": [
    "def AND(a: int, b: int, bias: float) -> int:\n",
    "    return 1 if a + b > bias else 0\n",
    "    \n",
    "def NAND(a: int, b: int, bias: float) -> int:\n",
    "    return 0 if AND(a=a, b=b, bias=bias) == 1 else 1\n",
    "\n",
    "def OR(a: int, b: int, bias: float=None) -> int:\n",
    "    bias = 0 if bias is None else bias\n",
    "    return 1 if a + b > bias else bias\n",
    "\n",
    "def XOR(a: int, b: int, bias: float) -> int:\n",
    "    _or = OR(a=a, b=b, bias=0)\n",
    "    nand = NAND(a=a, b=b, bias=bias)\n",
    "    return AND(a=_or, b=nand, bias=bias)\n",
    "\n",
    "base_bias=1.5\n",
    "\n",
    "input_a = 1\n",
    "input_b = 1\n",
    "\n",
    "xor = XOR(a=input_a, b=input_b, bias=1.5)\n",
    "\n",
    "print(f\"a({input_a}) + b({input_b}) = {xor}\")\n",
    "\n",
    "# Half Adder\n",
    "def half_add(a: int, b: int) -> dict[str, int]: \n",
    "    s = XOR(a=a, b=b, bias=1.5)\n",
    "    c_out = AND(a=a, b=b, bias=1.5)\n",
    "    return { \"S\": s, \"C_OUT\": c_out }\n",
    "\n",
    "result_half_add = half_add(a=input_a, b=input_b)\n",
    "\n",
    "print(f\"a({input_a}) + b({input_b}) = {result_half_add}\")\n",
    "\n",
    "# Full Adder\n",
    "def full_add(a: int, b: int, c_in: int) -> dict[str, int]:\n",
    "    p = XOR(a=a, b=b, bias=1.5)\n",
    "    q = AND(a=p, b=c_in, bias=1.5)\n",
    "    r = AND(a=a, b=b, bias=1.5)\n",
    "    s = XOR(a=p, b=c_in, bias=1.5)\n",
    "    c_out = OR(a=q, b=r, bias=0)\n",
    "    return { \"S\": s, \"C_OUT\": c_out }\n",
    "\n",
    "input_c_in = 0\n",
    "result_full_add = full_add(a=input_a, b=input_b, c_in=input_c_in)\n",
    "\n",
    "print(f\"a({input_a}) + b({input_b}) + c_in({input_c_in}) = {result_full_add}\")\n",
    "\n",
    "from functools import reduce\n",
    "\n",
    "# bit adder\n",
    "def bit_adder(a: str, b: str) -> int:\n",
    "    a_bits = [ int(bit) for bit in a ]\n",
    "    b_bits = [ int(bit) for bit in b ]\n",
    "    len_bits = len(a)\n",
    "    sum_bits = [ 0 for _ in range(len_bits+1)]\n",
    "    \n",
    "    # half add\n",
    "    half_dict = half_add(a=a_bits[len_bits-1], b=b_bits[len_bits-1])\n",
    "    sum_bits[0] = half_dict[\"S\"]\n",
    "    c_out = half_dict[\"C_OUT\"]\n",
    "    \n",
    "    # full add\n",
    "    for i in range(len_bits-2, -1, -1):\n",
    "        full_dict = full_add(a=a_bits[i], b=b_bits[i], c_in=c_out)\n",
    "        s, c_out = full_dict[\"S\"], full_dict[\"C_OUT\"]\n",
    "        sum_bits[len_bits -i -1] = s\n",
    "    sum_bits[len_bits] = c_out\n",
    "    \n",
    "    return reduce(lambda acc, enum: acc + enum[1]*2**(enum[0]), \n",
    "                    enumerate(sum_bits), \n",
    "                    0)\n",
    "\n",
    "input_bit_adder_a = \"0011\"\n",
    "input_bit_adder_b = \"0111\"\n",
    "print(f\"a({input_bit_adder_a}) + b({input_bit_adder_b}) = {bit_adder(input_bit_adder_a, input_bit_adder_b)}\")"
   ]
  },
  {
   "cell_type": "code",
   "execution_count": 22,
   "metadata": {},
   "outputs": [
    {
     "name": "stdout",
     "output_type": "stream",
     "text": [
      "Goodbye!\n",
      "None Kim\n",
      "Kim\n",
      "김철수\n",
      "김\n",
      "철수\n",
      "ssssssssssssssssssssssssssssssss\n",
      "Yang\n",
      "Hello! I'm Yang\n",
      "xor 0 0 : 0\n",
      "xor 0 1 : 1\n",
      "xor 1 0 : 1\n",
      "xor 1 1 : 0\n",
      "xnor 0 0 : 1\n",
      "xnor 0 1 : 0\n",
      "xnor 1 0 : 0\n",
      "xnor 1 1 : 1\n"
     ]
    }
   ],
   "source": [
    "from ast import main\n",
    "from turtle import forward\n",
    "from typing import Iterable\n",
    "from multipledispatch import dispatch\n",
    "\n",
    "class TestClass:\n",
    "    pass\n",
    "\n",
    "class Person:\n",
    "    @dispatch()\n",
    "    def say_bye(self):\n",
    "        print(\"Goodbye!\")\n",
    "    @dispatch(str)\n",
    "    def say_bye(self, name):\n",
    "        print(self.say_bye(), name)\n",
    "\n",
    "Person().say_bye(\"Kim\")\n",
    "\n",
    "class Person:\n",
    "    def set_name(self, name):\n",
    "        self.name = name\n",
    "        \n",
    "p = Person()\n",
    "p.set_name(\"Kim\")\n",
    "print(p.name)\n",
    "\n",
    "class Person:\n",
    "    def set_name(self: Person, name: str) -> None:\n",
    "        self.name = name\n",
    "        self.family_name = name[:1]\n",
    "        self.person_name = name[1:]\n",
    "        \n",
    "    def say_hello(self: Person) -> None:\n",
    "        print(f\"Hello! I'm {self.name}\")\n",
    "        \n",
    "    def get_name(self: Person) -> str:\n",
    "        return self.name\n",
    "    \n",
    "    def get_family_name(self: Person) -> str:\n",
    "        return self.family_name\n",
    "    \n",
    "    def get_person_name(self: Person) -> str:\n",
    "        return self.person_name\n",
    "    \n",
    "p = Person()\n",
    "p.set_name(\"김철수\")\n",
    "print(p.get_name())\n",
    "print(p.get_family_name())\n",
    "print(p.get_person_name())\n",
    "\n",
    "class Person:\n",
    "    def __init__(self):\n",
    "        print(\"ssssssssssssssssssssssssssssssss\")\n",
    "Person()\n",
    "\n",
    "class Person:\n",
    "    def __init__(self: Person, name: str) -> None:\n",
    "        self.name = name\n",
    "person1 = Person(\"Yang\")\n",
    "print(person1.name)\n",
    "\n",
    "class Person:\n",
    "    def __init__(self: Person, name: str) -> None:\n",
    "        self.name = name\n",
    "        self.say_hello()\n",
    "    def say_hello(self) -> None:\n",
    "        print(f\"Hello! I'm {self.name}\")\n",
    "person1 = Person(\"Yang\")\n",
    "\n",
    "class LogicGate:\n",
    "    def __init__(self: \"LogicGate\", w1: float, w2: float, bias: float) -> None:\n",
    "        self.w1 = w1\n",
    "        self.w2 = w2\n",
    "        self.bias = bias\n",
    "        \n",
    "    def __call__(self: \"LogicGate\", x1: float, x2: float) -> float:\n",
    "        return 1 if x1*self.w1 + x2*self.w2 + self.bias > 0  else 0\n",
    "\n",
    "class ANDGate(LogicGate):\n",
    "    def __init__(self: \"ANDGate\"):\n",
    "        super().__init__(w1=1, w2=1, bias=-1.5)\n",
    "        \n",
    "class ORGate(LogicGate):\n",
    "    def __init__(self: \"ORGate\"):\n",
    "        super().__init__(w1=1, w2=1, bias=-0.5)\n",
    "        \n",
    "class NANDGate(LogicGate):\n",
    "    def __init__(self: \"NANDGate\"):\n",
    "        super().__init__(w1=-1, w2=-1, bias=1.5)\n",
    "        \n",
    "class NORGate(LogicGate):\n",
    "    def __init__(self: \"NORGate\"):\n",
    "        super().__init__(w1=-1, w2=-1, bias=0.5)\n",
    "        \n",
    "class XORGate:\n",
    "    \n",
    "    def __init__(self) -> None:\n",
    "        self.or_gate, self.nand_gate, self.and_gate = ORGate(), NANDGate(), ANDGate()\n",
    "        \n",
    "    def __call__(self: \"LogicGate\", x1: float, x2: float) -> float:\n",
    "        val_or = self.or_gate(x1=x1, x2=x2)\n",
    "        val_nand = self.nand_gate(x1=x1, x2=x2)\n",
    "        return self.and_gate(x1=val_or, x2=val_nand)\n",
    "\n",
    "print(f\"xor 0 0 : {XORGate()(0, 0)}\")\n",
    "print(f\"xor 0 1 : {XORGate()(0, 1)}\")\n",
    "print(f\"xor 1 0 : {XORGate()(1, 0)}\")\n",
    "print(f\"xor 1 1 : {XORGate()(1, 1)}\")\n",
    "\n",
    "class XNORGate:\n",
    "    \n",
    "    def __init__(self) -> None:\n",
    "        self.or_gate, self.nand_gate = ORGate(), NANDGate()\n",
    "    \n",
    "    def __call__(self: \"LogicGate\", x1: float, x2: float) -> float:\n",
    "        val_or = self.or_gate(x1=x1, x2=x2)\n",
    "        val_nand = self.nand_gate(x1=x1, x2=x2)\n",
    "        return self.nand_gate(x1=val_or, x2=val_nand)\n",
    "    \n",
    "print(f\"xnor 0 0 : {XNORGate()(0, 0)}\")\n",
    "print(f\"xnor 0 1 : {XNORGate()(0, 1)}\")\n",
    "print(f\"xnor 1 0 : {XNORGate()(1, 0)}\")\n",
    "print(f\"xnor 1 1 : {XNORGate()(1, 1)}\")\n"
   ]
  }
 ],
 "metadata": {
  "kernelspec": {
   "display_name": "ai2",
   "language": "python",
   "name": "python3"
  },
  "language_info": {
   "codemirror_mode": {
    "name": "ipython",
    "version": 3
   },
   "file_extension": ".py",
   "mimetype": "text/x-python",
   "name": "python",
   "nbconvert_exporter": "python",
   "pygments_lexer": "ipython3",
   "version": "3.11.4"
  },
  "orig_nbformat": 4
 },
 "nbformat": 4,
 "nbformat_minor": 2
}

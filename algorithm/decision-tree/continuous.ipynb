{
 "cells": [
  {
   "cell_type": "code",
   "execution_count": 8,
   "metadata": {},
   "outputs": [
    {
     "name": "stdout",
     "output_type": "stream",
     "text": [
      "root entropy = 1.5566567074628228\n",
      "b1 = 1.2506982145947811, IG = 0.30595849286804166\n",
      "b2 = 1.3728057820624016, IG = 0.18385092540042125\n",
      "b3 = 0.9649839288804956, IG = 0.5916727785823273\n",
      "b4 = 0.6935361388961919, IG = 0.8631205685666309\n",
      "st = 1.2506982145947811, IG = 0.30595849286804166\n",
      "sl = 0.9792504246104777, IG = 0.5774062828523451\n"
     ]
    }
   ],
   "source": [
    "from typing import Any, Iterable\n",
    "import numpy as np\n",
    "from functools import reduce\n",
    "import operator\n",
    "\n",
    "def entropy(p: list[float]) -> float:\n",
    "    return -reduce(lambda acc, curr: acc + curr * np.log2(curr),\n",
    "                    p,\n",
    "                    0)\n",
    "    \n",
    "root_e = entropy([2/7, 3/7, 2/7])\n",
    "    \n",
    "print(f\"root entropy = {root_e}\")\n",
    "\n",
    "e1 = entropy([1])\n",
    "e2 = entropy([1/6, 2/6, 3/6])\n",
    "b1 = (e1 * 1/7 + e2 * 6/7)\n",
    "print(f\"b1 = {b1}, IG = {root_e - b1}\")\n",
    "\n",
    "e3 = entropy([1/2, 1/2])\n",
    "e4 = entropy([1/5, 2/5, 2/5])\n",
    "b2 = (e3 * 2/7 + e4 * 5/7)\n",
    "print(f\"b2 = {b2}, IG = {root_e - b2}\")\n",
    "\n",
    "e5 = entropy([1/3, 2/3])\n",
    "e6 = entropy([1/2, 1/2])\n",
    "b3 = (e5 * 3/7 + e6 * 4/7)\n",
    "print(f\"b3 = {b3}, IG = {root_e - b3}\")\n",
    "\n",
    "e7 = entropy([2/5, 3/5])\n",
    "e8 = entropy([1])\n",
    "b4 = (e7 * 5/7 + e8 * 2/7)\n",
    "print(f\"b4 = {b4}, IG = {root_e - b4}\")\n",
    "\n",
    "st = entropy([2/4, 1/4, 1/4]) * 4/7 + entropy([1/3, 2/3]) * 3/7\n",
    "print(f\"st = {st}, IG = {root_e - st}\")\n",
    "\n",
    "sl = entropy([1]) * 1/7 + entropy([3/5, 1/5, 1/5]) * 5/7 + entropy([1]) * 1/7\n",
    "print(f\"sl = {sl}, IG = {root_e - sl}\")\n"
   ]
  }
 ],
 "metadata": {
  "kernelspec": {
   "display_name": "ai2",
   "language": "python",
   "name": "python3"
  },
  "language_info": {
   "codemirror_mode": {
    "name": "ipython",
    "version": 3
   },
   "file_extension": ".py",
   "mimetype": "text/x-python",
   "name": "python",
   "nbconvert_exporter": "python",
   "pygments_lexer": "ipython3",
   "version": "3.11.4"
  }
 },
 "nbformat": 4,
 "nbformat_minor": 2
}

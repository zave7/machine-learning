{
 "cells": [
  {
   "cell_type": "code",
   "execution_count": 30,
   "metadata": {},
   "outputs": [
    {
     "name": "stdout",
     "output_type": "stream",
     "text": [
      "['winter', 'winter', 'winter', 'spring', 'spring', 'spring', 'summer', 'summer', 'summer', 'autumn', 'autumn', 'autumn']\n",
      "execution = 3678216.888888889\n",
      "season = \t919553.2222222222\n",
      "workday = \t2126510.1111111115\n"
     ]
    }
   ],
   "source": [
    "from functools import reduce\n",
    "from typing import Any\n",
    "import numpy as np\n",
    "\n",
    "def variance(values: list[float]) -> float:\n",
    "    n = len(values)\n",
    "    mean = sum(values) / n\n",
    "    sum_sqaure_deviation = reduce(lambda acc, x: acc + ((x - mean) ** 2), values, 0)\n",
    "    return sum_sqaure_deviation / n - 1\n",
    "\n",
    "# 분산, 값, 인덱스\n",
    "def execution(data, target) -> list[tuple[str | int | bool, int, list[int]]]:\n",
    "    np_data = np.array(data)\n",
    "    values = np.unique(np_data)\n",
    "    np_target = np.array(target)\n",
    "    empty = np.empty(())\n",
    "    indices = [ np.where(np_data == value) for value in values ]\n",
    "    for value in values:\n",
    "        np.append(empty, np_data[np_data == value])\n",
    "    len_data = len(np_data)\n",
    "    mins: list[float] = []\n",
    "    for i in indices:\n",
    "        variance = np_target[i].var()\n",
    "        mins.append(variance)\n",
    "        weight = len(i) / len_data\n",
    "        #variance_weight = variance * weight\n",
    "        #mins.append(variance_weight)\n",
    "    return sum(mins)\n",
    "\n",
    "data = [\"winter\"] * 3 + [\"spring\"] * 3 + [\"summer\"] * 3 + [\"autumn\"] * 3\n",
    "target = [800, 826, 900, 2100, 4740, 4900, 3000, 5800, 6200, 2910, 2880, 2820]\n",
    "print(data)\n",
    "print(f\"execution = {execution(data=data, target=target)}\")\n",
    "\n",
    "season_winter = variance([800, 826, 900]) * 3/12\n",
    "season_spring = variance([2100, 4740, 4900]) * 3/12\n",
    "season_summer = variance([3000, 5800, 6200]) * 3/12\n",
    "season_autumn = variance([2910, 2880, 2820]) * 3/12\n",
    "\n",
    "print(f\"season = \\t{season_winter + season_spring + season_summer + season_autumn}\")\n",
    "\n",
    "workday_true = variance([900, 4740, 4900, 5800, 6200, 2820]) * 6/12\n",
    "workday_false = variance([800, 826, 2100, 3000, 2910, 2880]) * 6/12\n",
    "\n",
    "print(f\"workday = \\t{workday_true + workday_false}\")"
   ]
  }
 ],
 "metadata": {
  "kernelspec": {
   "display_name": "ai2",
   "language": "python",
   "name": "python3"
  },
  "language_info": {
   "codemirror_mode": {
    "name": "ipython",
    "version": 3
   },
   "file_extension": ".py",
   "mimetype": "text/x-python",
   "name": "python",
   "nbconvert_exporter": "python",
   "pygments_lexer": "ipython3",
   "version": "3.11.4"
  }
 },
 "nbformat": 4,
 "nbformat_minor": 2
}

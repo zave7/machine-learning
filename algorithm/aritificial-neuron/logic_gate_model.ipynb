{
 "cells": [
  {
   "cell_type": "code",
   "execution_count": 4,
   "metadata": {},
   "outputs": [
    {
     "name": "stdout",
     "output_type": "stream",
     "text": [
      "[1.6065306597126334, 1.22313016014843, 2.648721270700128]\n"
     ]
    }
   ],
   "source": [
    "from artificial_neuron import ArtificialNeuron\n",
    "\n",
    "class LogicGateModel:\n",
    "    def __init__(self):\n",
    "        self.weight_bias = [\n",
    "            ((1, 1), -1.5), # AND\n",
    "            ((1, 1), -0.5), # OR\n",
    "            ((-1, -1), 1.5) # NAND\n",
    "        ]\n",
    "        self.artificial_neurons = [\n",
    "            ArtificialNeuron(w=w, b=b) for (w, b) in self.weight_bias \n",
    "        ]\n",
    "        \n",
    "    def __call__(self, x):\n",
    "        return [ neuron(x) for neuron in self.artificial_neurons ]\n",
    "    \n",
    "output = LogicGateModel()([1, 1])\n",
    "print(output)"
   ]
  }
 ],
 "metadata": {
  "kernelspec": {
   "display_name": "ai2",
   "language": "python",
   "name": "python3"
  },
  "language_info": {
   "codemirror_mode": {
    "name": "ipython",
    "version": 3
   },
   "file_extension": ".py",
   "mimetype": "text/x-python",
   "name": "python",
   "nbconvert_exporter": "python",
   "pygments_lexer": "ipython3",
   "version": "3.11.4"
  }
 },
 "nbformat": 4,
 "nbformat_minor": 2
}

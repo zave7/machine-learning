{
 "cells": [
  {
   "cell_type": "markdown",
   "metadata": {},
   "source": [
    "# Function"
   ]
  },
  {
   "cell_type": "code",
   "execution_count": 48,
   "metadata": {},
   "outputs": [
    {
     "name": "stdout",
     "output_type": "stream",
     "text": [
      "Input x = 5\n",
      "z = 3\n",
      "y = 18\n",
      "Function2 dx = 12.000000000025324\n",
      "Function1 dx = 0.9999999999976694\n",
      "Chain Rule dx = 11.999999999997357\n"
     ]
    },
    {
     "data": {
      "text/plain": [
       "11.999999999997357"
      ]
     },
     "execution_count": 48,
     "metadata": {},
     "output_type": "execute_result"
    }
   ],
   "source": [
    "h = 1e-4 # 스텝\n",
    "dx = lambda f, x: (f(x+h) - f(x-h)) / (2*h) # 중앙 차분\n",
    "\n",
    "class Function1:\n",
    "\n",
    "    def __init__(self):\n",
    "        self.function = lambda x: x - 2\n",
    "    \n",
    "    def forward(self, x):\n",
    "        self.x = x\n",
    "        z = self.function(x)\n",
    "        return z\n",
    "    \n",
    "    def backward(self, dy_dx):\n",
    "        self.dx = dx(f=self.function, x=self.x)\n",
    "        self.dout = self.dx * dy_dx\n",
    "        return self.dout\n",
    "\n",
    "class Function2:\n",
    "    \n",
    "    def __init__(self):\n",
    "        self.function = lambda z: 2 * z**2\n",
    "\n",
    "    def forward(self, z):\n",
    "        self.z = z\n",
    "        y = self.function(z)\n",
    "        return y\n",
    "    \n",
    "    def backward(self):\n",
    "        self.dx = dx(f=self.function, x=self.z)\n",
    "        self.dout = self.dx\n",
    "        return self.dout\n",
    "        \n",
    "class Function:\n",
    "    \n",
    "    def __init__(self):\n",
    "        self.function_1 = Function1()\n",
    "        self.function_2 = Function2()\n",
    "    \n",
    "    def forward(self, x):\n",
    "        print(f\"Input x = {x}\")\n",
    "        z = self.function_1.forward(x)\n",
    "        print(f\"z = {z}\")\n",
    "        y = self.function_2.forward(z)\n",
    "        print(f\"y = {y}\")\n",
    "        return y\n",
    "\n",
    "    def backward(self):\n",
    "        f2_dout = self.function_2.backward()\n",
    "        f1_dout = self.function_1.backward(f2_dout)\n",
    "        print(f\"Function2 dx = {self.function_2.dx}\")\n",
    "        print(f\"Function1 dx = {self.function_1.dx}\")\n",
    "        print(f\"Chain Rule dx = {f1_dout}\")\n",
    "        return f1_dout\n",
    "\n",
    "function = Function()\n",
    "function.forward(x=5)\n",
    "function.backward()\n",
    "\n",
    "# 전방 차분 결과 값\n",
    "# Function2 dx = 12.000200000024108\n",
    "# Function1 dx = 0.9999999999976694\n",
    "# Chain Rule dx = 12.000199999996141"
   ]
  },
  {
   "cell_type": "code",
   "execution_count": null,
   "metadata": {},
   "outputs": [],
   "source": []
  }
 ],
 "metadata": {
  "kernelspec": {
   "display_name": "ai2",
   "language": "python",
   "name": "python3"
  },
  "language_info": {
   "codemirror_mode": {
    "name": "ipython",
    "version": 3
   },
   "file_extension": ".py",
   "mimetype": "text/x-python",
   "name": "python",
   "nbconvert_exporter": "python",
   "pygments_lexer": "ipython3",
   "version": "3.11.4"
  }
 },
 "nbformat": 4,
 "nbformat_minor": 2
}

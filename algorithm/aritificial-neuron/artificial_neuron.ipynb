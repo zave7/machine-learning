{
 "cells": [
  {
   "cell_type": "code",
   "execution_count": 2,
   "metadata": {},
   "outputs": [
    {
     "name": "stdout",
     "output_type": "stream",
     "text": [
      "2.648721270700128\n"
     ]
    }
   ],
   "source": [
    "import numpy as np\n",
    "from affine_function import Affine\n",
    "from sigmoid_function import Sigmoid\n",
    "\n",
    "class ArtificialNeuron:\n",
    "    \n",
    "    def __init__(self, w, b):\n",
    "        self.affine_neuron = Affine(w=w, b=b)\n",
    "        self.activation_neuron = Sigmoid()\n",
    "        \n",
    "    def __call__(self, x) -> np.ndarray:\n",
    "        return self.activation_neuron(self.affine_neuron(x))\n",
    "    \n",
    "artificia_neuron = ArtificialNeuron(w=[1, 1], b=-1.5)\n",
    "print(artificia_neuron(x=[1, 0])) # 2.64"
   ]
  }
 ],
 "metadata": {
  "kernelspec": {
   "display_name": "ai2",
   "language": "python",
   "name": "python3"
  },
  "language_info": {
   "codemirror_mode": {
    "name": "ipython",
    "version": 3
   },
   "file_extension": ".py",
   "mimetype": "text/x-python",
   "name": "python",
   "nbconvert_exporter": "python",
   "pygments_lexer": "ipython3",
   "version": "3.11.4"
  }
 },
 "nbformat": 4,
 "nbformat_minor": 2
}

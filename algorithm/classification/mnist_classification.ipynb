{
  "cells": [
    {
      "cell_type": "markdown",
      "metadata": {
        "id": "cOv3ookEryiy"
      },
      "source": [
        "# MNIST Classification"
      ]
    },
    {
      "cell_type": "markdown",
      "metadata": {
        "id": "gl9LfM0cyrro"
      },
      "source": [
        "### model"
      ]
    },
    {
      "cell_type": "code",
      "execution_count": 37,
      "metadata": {
        "id": "8CW81MGlyqvP"
      },
      "outputs": [],
      "source": [
        "import torch\n",
        "import torch.nn as nn\n",
        "from torchvision.datasets import MNIST\n",
        "from torchvision.transforms import ToTensor\n",
        "from torch.utils.data import DataLoader\n",
        "\n",
        "# 데이터가 흑백 채널 차원 제거 및 flatten\n",
        "class ToTensorWithoutChannel(ToTensor):\n",
        "    def __call__(self, picture):\n",
        "        img = super(ToTensorWithoutChannel, self).__call__(picture)\n",
        "        return img[0, :, :].view(-1)\n",
        "\n",
        "# 손글씨 모델\n",
        "class MNISTClassificationModel(nn.Module):\n",
        "    def __init__(self, layers):\n",
        "        super(MNISTClassificationModel, self).__init__()\n",
        "        layer_list  = []\n",
        "        for idx, layer in enumerate(layers):\n",
        "            in_feat, out_feat = layer\n",
        "            layer_list.append(nn.Linear(in_features=in_feat, out_features=out_feat))\n",
        "            if idx < len(layers)-1:\n",
        "                layer_list.append(nn.ReLU())\n",
        "        self.layers = nn.Sequential(*layer_list)\n",
        "\n",
        "    def forward(self, x):\n",
        "        return self.layers(x)"
      ]
    },
    {
      "cell_type": "markdown",
      "metadata": {
        "id": "5SdiC7XPytAf"
      },
      "source": [
        "### train"
      ]
    },
    {
      "cell_type": "code",
      "execution_count": 41,
      "metadata": {
        "id": "oQxp_zQryk4s"
      },
      "outputs": [],
      "source": [
        "from sklearn.datasets import make_blobs\n",
        "import torch\n",
        "from torch.utils.data import TensorDataset, DataLoader\n",
        "import matplotlib.pyplot as plt\n",
        "import numpy as np\n",
        "\n",
        "# 데이터 셋 생성\n",
        "def get_dataset(n_samples: int, batch_size: int):\n",
        "    dataset = MNIST(root=\"data\", train=True, download=True, transform=ToTensorWithoutChannel())\n",
        "    data_loader = DataLoader(dataset, batch_size=batch_size)\n",
        "    return DataLoader(dataset=dataset, batch_size=batch_size), dataset.data\n",
        "\n",
        "# 디바이스 체크\n",
        "def get_device():\n",
        "    if torch.cuda.is_available():\n",
        "        return \"cuda\"\n",
        "    elif torch.backends.mps.is_available():\n",
        "        return \"mps\"\n",
        "    else:\n",
        "        return \"cpu\"\n",
        "\n",
        "# 학습\n",
        "def train(data_loader, n_samples, model, loss_function, optimizer, device, y_type=None):\n",
        "    epoch_loss, epoch_acc = 0., 0\n",
        "\n",
        "    for X, y in data_loader:\n",
        "\n",
        "        X, y = X.to(device), y.to(device)\n",
        "\n",
        "        pred = model(X)\n",
        "        y = y.type(y_type) if y_type is not None else y\n",
        "        loss = loss_function(pred, y)\n",
        "\n",
        "        optimizer.zero_grad()\n",
        "        loss.backward()\n",
        "        optimizer.step()\n",
        "\n",
        "        epoch_loss += loss.item() * len(X)\n",
        "        is_corrects = torch.argmax(pred, dim=1) == y\n",
        "        corrects_count = is_corrects.sum().item()\n",
        "        epoch_acc += corrects_count\n",
        "\n",
        "    return epoch_loss / n_samples, epoch_acc / n_samples\n",
        "\n",
        "# 시각화\n",
        "def vis_losses_accs(losses, accs):\n",
        "    fig, axes = plt.subplots(nrows=2, ncols=1, figsize=(5, 7))\n",
        "    axes[0].plot(range(len(losses)), losses)\n",
        "    axes[0].set_ylabel(\"BCE Loss\")\n",
        "    axes[1].plot(range(len(accs)), accs)\n",
        "    axes[1].set_ylabel(\"Accuracy\")\n",
        "    axes[1].set_xlabel(\"Epoch\")\n",
        "    plt.show()"
      ]
    },
    {
      "cell_type": "markdown",
      "metadata": {
        "id": "eP6cbYidzHRB"
      },
      "source": [
        "### main"
      ]
    },
    {
      "cell_type": "code",
      "execution_count": 64,
      "metadata": {
        "colab": {
          "base_uri": "https://localhost:8080/",
          "height": 1000
        },
        "id": "rreE7v-fzGnD",
        "outputId": "b485e183-34dc-4f7b-c673-dd8af55339ee"
      },
      "outputs": [
        {
          "name": "stdout",
          "output_type": "stream",
          "text": [
            "Start Learning Rate(0.01)\n"
          ]
        },
        {
          "name": "stderr",
          "output_type": "stream",
          "text": [
            "진행중: 100%|██████████| 10/10 [01:47<00:00, 10.79s/it]\n"
          ]
        },
        {
          "name": "stdout",
          "output_type": "stream",
          "text": [
            "Start Learning Rate(0.02)\n"
          ]
        },
        {
          "name": "stderr",
          "output_type": "stream",
          "text": [
            "진행중: 100%|██████████| 10/10 [01:49<00:00, 10.93s/it]\n"
          ]
        },
        {
          "name": "stdout",
          "output_type": "stream",
          "text": [
            "Start Learning Rate(0.03)\n"
          ]
        },
        {
          "name": "stderr",
          "output_type": "stream",
          "text": [
            "진행중: 100%|██████████| 10/10 [01:56<00:00, 11.68s/it]\n"
          ]
        },
        {
          "name": "stdout",
          "output_type": "stream",
          "text": [
            "Start Learning Rate(0.04)\n"
          ]
        },
        {
          "name": "stderr",
          "output_type": "stream",
          "text": [
            "진행중: 100%|██████████| 10/10 [01:51<00:00, 11.13s/it]\n"
          ]
        },
        {
          "name": "stdout",
          "output_type": "stream",
          "text": [
            "Start Learning Rate(0.05)\n"
          ]
        },
        {
          "name": "stderr",
          "output_type": "stream",
          "text": [
            "진행중: 100%|██████████| 10/10 [01:48<00:00, 10.82s/it]\n"
          ]
        },
        {
          "name": "stdout",
          "output_type": "stream",
          "text": [
            "Start Learning Rate(0.06)\n"
          ]
        },
        {
          "name": "stderr",
          "output_type": "stream",
          "text": [
            "진행중: 100%|██████████| 10/10 [01:49<00:00, 10.95s/it]\n"
          ]
        },
        {
          "name": "stdout",
          "output_type": "stream",
          "text": [
            "Start Learning Rate(0.07)\n"
          ]
        },
        {
          "name": "stderr",
          "output_type": "stream",
          "text": [
            "진행중: 100%|██████████| 10/10 [01:48<00:00, 10.86s/it]\n"
          ]
        },
        {
          "name": "stdout",
          "output_type": "stream",
          "text": [
            "Start Learning Rate(0.08)\n"
          ]
        },
        {
          "name": "stderr",
          "output_type": "stream",
          "text": [
            "진행중: 100%|██████████| 10/10 [01:46<00:00, 10.64s/it]\n"
          ]
        },
        {
          "name": "stdout",
          "output_type": "stream",
          "text": [
            "Start Learning Rate(0.09)\n"
          ]
        },
        {
          "name": "stderr",
          "output_type": "stream",
          "text": [
            "진행중: 100%|██████████| 10/10 [01:45<00:00, 10.54s/it]\n"
          ]
        },
        {
          "name": "stdout",
          "output_type": "stream",
          "text": [
            "Start Learning Rate(0.1)\n"
          ]
        },
        {
          "name": "stderr",
          "output_type": "stream",
          "text": [
            "진행중: 100%|██████████| 10/10 [01:46<00:00, 10.64s/it]\n"
          ]
        },
        {
          "name": "stdout",
          "output_type": "stream",
          "text": [
            "Learning Rate(0.01) - Epoch(9) :   epoch_loss 2.302057268222173,    epoch_acc 0.10781666666666667\n",
            "\n",
            "Learning Rate(0.02) - Epoch(9) :   epoch_loss 2.301043379306793,    epoch_acc 0.11236666666666667\n",
            "\n",
            "Learning Rate(0.03) - Epoch(9) :   epoch_loss 2.2681314289569854,    epoch_acc 0.23623333333333332\n",
            "\n",
            "Learning Rate(0.04) - Epoch(9) :   epoch_loss 2.0538245658079783,    epoch_acc 0.2131\n",
            "\n",
            "Learning Rate(0.05) - Epoch(9) :   epoch_loss 2.2857112268606823,    epoch_acc 0.11395\n",
            "\n",
            "Learning Rate(0.06) - Epoch(9) :   epoch_loss 2.2895516753196716,    epoch_acc 0.11991666666666667\n",
            "\n",
            "Learning Rate(0.07) - Epoch(9) :   epoch_loss 0.9931938732663791,    epoch_acc 0.65075\n",
            "\n",
            "Learning Rate(0.08) - Epoch(9) :   epoch_loss 2.000196385383606,    epoch_acc 0.21455\n",
            "\n",
            "Learning Rate(0.09) - Epoch(9) :   epoch_loss 1.5170902093251546,    epoch_acc 0.39316666666666666\n",
            "\n",
            "Learning Rate(0.1) - Epoch(9) :   epoch_loss 0.21498763641963403,    epoch_acc 0.9445833333333333\n",
            "\n"
          ]
        },
        {
          "data": {
            "image/png": "[encoded data removed]",
            "text/plain": [
              "<Figure size 500x700 with 2 Axes>"
            ]
          },
          "metadata": {},
          "output_type": "display_data"
        }
      ],
      "source": [
        "from torch.optim import SGD\n",
        "from tqdm import tqdm\n",
        "import time\n",
        "\n",
        "# hyperparameter\n",
        "n_samples = 60000\n",
        "BATCH_SIZE = 500\n",
        "LR_START = 0.01\n",
        "LR_STEP = 0.01\n",
        "LR_REPEAT = 10\n",
        "LR_LIST = [ round(LR_START + (LR_STEP * n), 2) for n in range(LR_REPEAT) ]\n",
        "EPOCHS = 10\n",
        "layers = [\n",
        "    (784, 200),\n",
        "    (200, 30),\n",
        "    (30, 50),\n",
        "    (50, 15),\n",
        "    (15, 100),\n",
        "    (100, 15),\n",
        "    (15, 10)\n",
        "]\n",
        "seed = 42\n",
        "torch.manual_seed(seed)\n",
        "\n",
        "# data set\n",
        "dataset, _ = get_dataset(n_samples=n_samples, batch_size=BATCH_SIZE)\n",
        "device = get_device()\n",
        "\n",
        "# train\n",
        "total_epoch_losses, total_epoch_accs = [], []\n",
        "for lr in LR_LIST:\n",
        "    print(f\"Start Learning Rate({lr})\")\n",
        "    model = MNISTClassificationModel(layers=layers)\n",
        "    loss_function = nn.CrossEntropyLoss()\n",
        "    optimizer = SGD(model.parameters(), lr=lr)\n",
        "    epoch_losses, epoch_accs = [], []\n",
        "    for epoch in tqdm(range(EPOCHS), desc=\"진행중\"):\n",
        "        epoch_loss, epoch_acc = train(data_loader=dataset,\n",
        "                                        n_samples=n_samples,\n",
        "                                        model=model,\n",
        "                                        loss_function=loss_function,\n",
        "                                        optimizer=optimizer,\n",
        "                                        device=device,\n",
        "                                        y_type=torch.long)\n",
        "        epoch_losses.append(epoch_loss)\n",
        "        epoch_accs.append(epoch_acc)\n",
        "    total_epoch_losses.append(epoch_losses)\n",
        "    total_epoch_accs.append(epoch_accs)\n",
        "\n",
        "for idx, lr in enumerate(LR_LIST):\n",
        "    min_loss = np.amin(total_epoch_losses[idx])\n",
        "    min_index = np.argmin(total_epoch_losses[idx])\n",
        "    print(f\"Learning Rate({lr}) - Epoch({min_index}) :\\\n",
        "            epoch_loss {min_loss}, \\\n",
        "            epoch_acc {total_epoch_accs[idx][min_index]}\\n\")\n",
        "\n",
        "vis_losses_accs(total_epoch_losses[-1], total_epoch_accs[-1])"
      ]
    }
  ],
  "metadata": {
    "colab": {
      "provenance": []
    },
    "kernelspec": {
      "display_name": "Python 3",
      "name": "python3"
    },
    "language_info": {
      "name": "python"
    }
  },
  "nbformat": 4,
  "nbformat_minor": 0
}

{
 "cells": [
  {
   "cell_type": "code",
   "execution_count": 6,
   "metadata": {},
   "outputs": [
    {
     "name": "stdout",
     "output_type": "stream",
     "text": [
      "      prior  likelihood  joint  posterior\n",
      "spam    0.5         0.6    0.3       0.75\n",
      "ham     0.5         0.2    0.1       0.25\n"
     ]
    }
   ],
   "source": [
    "import pandas as pd\n",
    "\n",
    "table_L = pd.DataFrame(index=[\"spam\", \"ham\"])\n",
    "table_L[\"prior\"] = 0.5\n",
    "table_L[\"likelihood\"] = 0.6, 0.2\n",
    "table_L[\"joint\"] = table_L[\"prior\"] * table_L[\"likelihood\"]\n",
    "\n",
    "norm_const = table_L[\"joint\"].sum()\n",
    "\n",
    "table_L[\"posterior\"] = table_L[\"joint\"] / norm_const # P(S|L)\n",
    "\n",
    "print(table_L)"
   ]
  },
  {
   "cell_type": "code",
   "execution_count": 8,
   "metadata": {},
   "outputs": [
    {
     "name": "stdout",
     "output_type": "stream",
     "text": [
      "      prior  likelihood  joint  posterior\n",
      "spam    0.5        0.40  0.200   0.888889\n",
      "ham     0.5        0.05  0.025   0.111111\n"
     ]
    }
   ],
   "source": [
    "import pandas as pd\n",
    "\n",
    "table_L = pd.DataFrame(index=[\"spam\", \"ham\"])\n",
    "table_L[\"prior\"] = 0.5\n",
    "table_L[\"likelihood\"] = 0.4, 0.05\n",
    "table_L[\"joint\"] = table_L[\"prior\"] * table_L[\"likelihood\"]\n",
    "\n",
    "norm_const = table_L[\"joint\"].sum()\n",
    "\n",
    "table_L[\"posterior\"] = table_L[\"joint\"] / norm_const\n",
    "\n",
    "print(table_L)"
   ]
  },
  {
   "cell_type": "code",
   "execution_count": 17,
   "metadata": {},
   "outputs": [
    {
     "name": "stdout",
     "output_type": "stream",
     "text": [
      "      prior  likelihood  joint  posterior\n",
      "spam    0.5         0.6    0.3       0.75\n",
      "ham     0.5         0.2    0.1       0.25\n",
      "      prior  likelihood   joint  posterior\n",
      "spam   0.75        0.40  0.3000       0.96\n",
      "ham    0.25        0.05  0.0125       0.04\n",
      "Index(['spam', 'ham'], dtype='object')\n"
     ]
    }
   ],
   "source": [
    "import pandas as pd\n",
    "\n",
    "table_L = pd.DataFrame(index=[\"spam\", \"ham\"])\n",
    "table_L[\"prior\"] = 0.5\n",
    "table_L[\"likelihood\"] = 0.6, 0.2\n",
    "table_L[\"joint\"] = table_L[\"prior\"] * table_L[\"likelihood\"]\n",
    "\n",
    "norm_const = table_L[\"joint\"].sum()\n",
    "\n",
    "table_L[\"posterior\"] = table_L[\"joint\"] / norm_const\n",
    "\n",
    "print(table_L)\n",
    "\n",
    "table_LW = pd.DataFrame(index=[\"spam\", \"ham\"])\n",
    "table_LW[\"prior\"] = table_L.loc[:, \"posterior\"]\n",
    "table_LW[\"likelihood\"] = 0.4, 0.05\n",
    "table_LW[\"joint\"] = table_LW[\"prior\"] * table_LW[\"likelihood\"]\n",
    "\n",
    "norm_const = table_LW[\"joint\"].sum()\n",
    "\n",
    "table_LW[\"posterior\"] = table_LW[\"joint\"] / norm_const\n",
    "\n",
    "print(table_LW)\n",
    "print(table_LW.index)\n"
   ]
  },
  {
   "cell_type": "code",
   "execution_count": 19,
   "metadata": {},
   "outputs": [
    {
     "name": "stdout",
     "output_type": "stream",
     "text": [
      "      posterior\n",
      "spam       0.75\n",
      "ham        0.25\n",
      "      prior  likelihood   joint  posterior\n",
      "spam   0.75        0.40  0.3000       0.96\n",
      "ham    0.25        0.05  0.0125       0.04\n"
     ]
    }
   ],
   "source": [
    "import pandas as pd\n",
    "\n",
    "def update_bayesian_table(table: pd.DataFrame, likelihood) -> pd.DataFrame:\n",
    "    updated_table = pd.DataFrame(index=table.index)\n",
    "    updated_table[\"prior\"] = table[\"posterior\"]\n",
    "    updated_table[\"likelihood\"] = likelihood\n",
    "    updated_table[\"joint\"] = updated_table[\"prior\"] * updated_table[\"likelihood\"]\n",
    "    norm_const = updated_table[\"joint\"].sum()\n",
    "    updated_table[\"posterior\"] = updated_table[\"joint\"] / norm_const\n",
    "    return updated_table\n",
    "\n",
    "table_L = pd.DataFrame(index=[\"spam\", \"ham\"])\n",
    "table_L[\"posterior\"] = 0.75, 0.25\n",
    "print(table_L)\n",
    "\n",
    "updated_table = update_bayesian_table(table_L, (0.4, 0.05))\n",
    "print(updated_table)"
   ]
  },
  {
   "cell_type": "code",
   "execution_count": 42,
   "metadata": {},
   "outputs": [
    {
     "name": "stdout",
     "output_type": "stream",
     "text": [
      "      prior  likelihood  joint  posterior\n",
      "Spam    0.5         0.6    0.3       0.75\n",
      "Ham     0.5         0.2    0.1       0.25\n",
      "      prior  likelihood   joint  posterior\n",
      "Spam   0.75        0.40  0.3000       0.96\n",
      "Ham    0.25        0.05  0.0125       0.04\n"
     ]
    }
   ],
   "source": [
    "from typing import Iterable\n",
    "import pandas as pd\n",
    "\n",
    "def bayesian_table(table: pd.DataFrame, prior: float | Iterable[float], likelihood: Iterable[float]) -> pd.DataFrame:\n",
    "    calc_prior = (prior, 1-prior) if type(prior) is float else prior\n",
    "    posterior = table.get(\"posterior\")\n",
    "    posterior = posterior if posterior is not None else calc_prior\n",
    "    updated_table = pd.DataFrame(index=table.index)\n",
    "    updated_table[\"prior\"] = posterior\n",
    "    updated_table[\"likelihood\"] = likelihood\n",
    "    updated_table[\"joint\"] = posterior * updated_table[\"likelihood\"]\n",
    "    norm_const = updated_table[\"joint\"].sum()\n",
    "    updated_table[\"posterior\"] = updated_table[\"joint\"] / norm_const\n",
    "    return updated_table\n",
    "\n",
    "table = pd.DataFrame(index=['Spam', 'Ham'])\n",
    "\n",
    "prior = 0.5\n",
    "likelihood = [0.6, 0.2]\n",
    "table = bayesian_table(table, prior, likelihood)\n",
    "print(table)\n",
    "\n",
    "likelihood = [0.4, 0.05]\n",
    "table = bayesian_table(table, prior, likelihood)\n",
    "print(table)"
   ]
  },
  {
   "cell_type": "code",
   "execution_count": 57,
   "metadata": {},
   "outputs": [
    {
     "name": "stdout",
     "output_type": "stream",
     "text": [
      "table_B:\n",
      "   prior  likelihood  joint  posterior\n",
      "x    0.5         0.1   0.05   0.111111\n",
      "y    0.5         0.8   0.40   0.888889\n",
      "table_BB:\n",
      "      prior  likelihood     joint  posterior\n",
      "x  0.111111         0.1  0.011111   0.015385\n",
      "y  0.888889         0.8  0.711111   0.984615\n",
      "table_W:\n",
      "   prior  likelihood  joint  posterior\n",
      "x    0.5         0.9   0.45   0.818182\n",
      "y    0.5         0.2   0.10   0.181818\n",
      "table_BW:\n",
      "      prior  likelihood     joint  posterior\n",
      "x  0.111111         0.9  0.100000       0.36\n",
      "y  0.888889         0.2  0.177778       0.64\n"
     ]
    }
   ],
   "source": [
    "from bayes_util import bayesian_table\n",
    "\n",
    "table = pd.DataFrame(index=['x', 'y'])\n",
    "\n",
    "prior = 0.5\n",
    "likelihood_w = (0.9, 0.2)\n",
    "likelihood_b = (0.1, 0.8)\n",
    "\n",
    "table_B = bayesian_table(table=table, prior=prior, likelihood=likelihood_b)\n",
    "print(f\"table_B:\\n{table_B}\")\n",
    "\n",
    "table_BB = bayesian_table(table=table_B, prior=prior, likelihood=likelihood_b)\n",
    "print(f\"table_BB:\\n{table_BB}\")\n",
    "\n",
    "table = pd.DataFrame(index=['x', 'y'])\n",
    "\n",
    "table_W = bayesian_table(table=table, prior=prior, likelihood=likelihood_w)\n",
    "print(f\"table_W:\\n{table_W}\")\n",
    "\n",
    "table_BW = bayesian_table(table=table_B, prior=prior, likelihood=likelihood_w)\n",
    "print(f\"table_BW:\\n{table_BW}\")\n",
    "\n"
   ]
  },
  {
   "cell_type": "code",
   "execution_count": 3,
   "metadata": {},
   "outputs": [
    {
     "name": "stdout",
     "output_type": "stream",
     "text": [
      "prior = (0.6428571428571429, 0.35714285714285715)\n",
      "likelihood_wind:\n",
      "{'Strong': [0.3333333333333333, 0.6], 'Weak': [0.6666666666666666, 0.4]}\n",
      "likelihood_wind:\n",
      "{'Strong': [0.6], 'Weak': [0.4]}\n",
      "likelihood_outlook:\n",
      "{'Overcast': [0.4444444444444444], 'Rain': [0.3333333333333333], 'Sunny': [0.2222222222222222]}\n"
     ]
    }
   ],
   "source": [
    "import pandas as pd\n",
    "import numpy as np\n",
    "from bayes_util import bayesian_table, get_likelihoods\n",
    "\n",
    "data = pd.read_csv(\"PlayTennis.csv\")\n",
    "\n",
    "# def get_likelihoods(data: pd.DataFrame, hypothesis: str | float, var: str) -> list:\n",
    "#     indices = { hypothesis: data.iloc[:, -1] == hypothesis for hypothesis in data.iloc[:, -1].unique() }\n",
    "#     var_data = data[var][indices[hypothesis]]\n",
    "#     len_var_data = len(var_data)\n",
    "#     (states, counts) = np.unique(var_data, return_counts=True)\n",
    "#     return [ (state, counts[idx_state] / len_var_data) for (idx_state, state) in enumerate(states) ]\n",
    "\n",
    "prior = 9/14, 5/14\n",
    "print(f\"prior = {prior}\")\n",
    "\n",
    "yes_likelihood_wind = get_likelihoods(data=data, hypotheses=[\"Yes\"], feature_name=\"Wind\")\n",
    "print(f\"likelihood_wind:\\n{yes_likelihood_wind}\")\n",
    "\n",
    "no_likelihood_wind = get_likelihoods(data=data, hypotheses=[\"No\"], feature_name=\"Wind\")\n",
    "print(f\"likelihood_wind:\\n{no_likelihood_wind}\")\n",
    "\n",
    "yes_likelihood_outlook = get_likelihoods(data=data, hypotheses=[\"Yes\"], feature_name=\"Outlook\")\n",
    "print(f\"likelihood_outlook:\\n{yes_likelihood_outlook}\")##\n",
    "\n",
    "\n",
    "\n",
    "\n"
   ]
  },
  {
   "cell_type": "code",
   "execution_count": 2,
   "metadata": {},
   "outputs": [
    {
     "name": "stdout",
     "output_type": "stream",
     "text": [
      "     Outlook Temperature Humidity    Wind        No       Yes\n",
      "0   Overcast        Cool     High  Strong  0.000000  1.000000\n",
      "1   Overcast        Cool     High    Weak  0.000000  1.000000\n",
      "2   Overcast        Cool   Normal  Strong  0.000000  1.000000\n",
      "3   Overcast        Cool   Normal    Weak  0.000000  1.000000\n",
      "4   Overcast         Hot     High  Strong  0.000000  1.000000\n",
      "5   Overcast         Hot     High    Weak  0.000000  1.000000\n",
      "6   Overcast         Hot   Normal  Strong  0.000000  1.000000\n",
      "7   Overcast         Hot   Normal    Weak  0.000000  1.000000\n",
      "8   Overcast        Mild     High  Strong  0.000000  1.000000\n",
      "9   Overcast        Mild     High    Weak  0.000000  1.000000\n",
      "10  Overcast        Mild   Normal  Strong  0.000000  1.000000\n",
      "11  Overcast        Mild   Normal    Weak  0.000000  1.000000\n",
      "12      Rain        Cool     High  Strong  0.633431  0.366569\n",
      "13      Rain        Cool     High    Weak  0.365482  0.634518\n",
      "14      Rain        Cool   Normal  Strong  0.177632  0.822368\n",
      "15      Rain        Cool   Normal    Weak  0.067164  0.932836\n",
      "16      Rain         Hot     High  Strong  0.838292  0.161708\n",
      "17      Rain         Hot     High    Weak  0.633431  0.366569\n",
      "18      Rain         Hot   Normal  Strong  0.393204  0.606796\n",
      "19      Rain         Hot   Normal    Weak  0.177632  0.822368\n",
      "20      Rain        Mild     High  Strong  0.721604  0.278396\n",
      "21      Rain        Mild     High    Weak  0.463519  0.536481\n",
      "22      Rain        Mild   Normal  Strong  0.244713  0.755287\n",
      "23      Rain        Mild   Normal    Weak  0.097473  0.902527\n",
      "24     Sunny        Cool     High  Strong  0.795417  0.204583\n",
      "25     Sunny        Cool     High    Weak  0.564460  0.435540\n",
      "26     Sunny        Cool   Normal  Strong  0.327052  0.672948\n",
      "27     Sunny        Cool   Normal    Weak  0.139415  0.860585\n",
      "28     Sunny         Hot     High  Strong  0.921036  0.078964\n",
      "29     Sunny         Hot     High    Weak  0.795417  0.204583\n",
      "30     Sunny         Hot   Normal  Strong  0.593165  0.406835\n",
      "31     Sunny         Hot   Normal    Weak  0.327052  0.672948\n",
      "32     Sunny        Mild     High  Strong  0.853630  0.146370\n",
      "33     Sunny        Mild     High    Weak  0.660326  0.339674\n",
      "34     Sunny        Mild   Normal  Strong  0.421631  0.578369\n",
      "35     Sunny        Mild   Normal    Weak  0.195495  0.804505\n"
     ]
    }
   ],
   "source": [
    "\n",
    "import pandas as pd\n",
    "from bayes_util import *\n",
    "\n",
    "data = pd.read_csv(\"PlayTennis.csv\")\n",
    "\n",
    "hypotheses = list(data.iloc[:, -1].unique())\n",
    "feature_names = data.columns[:-1]\n",
    "hypothesis_likelihoods = [ \n",
    "    (feature_name, get_likelihoods(data=data, hypotheses=hypotheses, feature_name=feature_name))\n",
    "    for feature_name in feature_names \n",
    "]\n",
    "\n",
    "def calc(prior, likelihoods, idx_feature) -> pd.DataFrame:\n",
    "    is_last = len(likelihoods) == idx_feature+1\n",
    "    feature_name = likelihoods[idx_feature][0]\n",
    "    rows = []\n",
    "    for (state, state_likelihoods) in likelihoods[idx_feature][1].items():\n",
    "        posterior = bayesian_table_custom(prior=prior, likelihood=state_likelihoods)\n",
    "        df = None\n",
    "        if is_last:\n",
    "            df = pd.DataFrame(posterior).transpose()\n",
    "            df.columns = hypotheses\n",
    "        else:\n",
    "            df = calc(prior=posterior, likelihoods=likelihoods, idx_feature=idx_feature+1)\n",
    "        state_df = pd.Series([state]*len(df)).to_frame()\n",
    "        state_df.columns = [feature_name]\n",
    "        concat_state_df = pd.concat([state_df, df], axis=\"columns\")\n",
    "        rows.append(concat_state_df)\n",
    "    concat_rows = pd.concat(rows, axis=0)\n",
    "    return concat_rows.reset_index(drop=True)\n",
    "\n",
    "result_df = calc(prior=[5/14, 9/14], likelihoods=hypothesis_likelihoods, idx_feature=0)\n",
    "\n",
    "print(result_df)"
   ]
  }
 ],
 "metadata": {
  "kernelspec": {
   "display_name": "ai2",
   "language": "python",
   "name": "python3"
  },
  "language_info": {
   "codemirror_mode": {
    "name": "ipython",
    "version": 3
   },
   "file_extension": ".py",
   "mimetype": "text/x-python",
   "name": "python",
   "nbconvert_exporter": "python",
   "pygments_lexer": "ipython3",
   "version": "3.11.4"
  }
 },
 "nbformat": 4,
 "nbformat_minor": 2
}

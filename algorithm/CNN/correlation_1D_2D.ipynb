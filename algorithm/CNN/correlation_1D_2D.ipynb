{
  "cells": [
    {
      "cell_type": "markdown",
      "metadata": {
        "id": "w-vbVibrwZtD"
      },
      "source": [
        "### 1-D Correlation"
      ]
    },
    {
      "cell_type": "code",
      "execution_count": 10,
      "metadata": {
        "colab": {
          "base_uri": "https://localhost:8080/"
        },
        "id": "7pEK86XXucNm",
        "outputId": "d3bcd06a-02ad-4dea-ce86-796b5e2db0a9"
      },
      "outputs": [
        {
          "name": "stdout",
          "output_type": "stream",
          "text": [
            "[-1  0 -1] • [-1  1 -1] = 2\n",
            "  [ 0 -1  0] • [-1  1 -1] = -1\n",
            "    [-1  0  0] • [-1  1 -1] = 1\n",
            "      [0 0 1] • [-1  1 -1] = -1\n",
            "        [ 0  1 -1] • [-1  1 -1] = 2\n",
            "          [ 1 -1  1] • [-1  1 -1] = -3\n",
            "            [-1  1 -1] • [-1  1 -1] = 3\n",
            "              [ 1 -1 -1] • [-1  1 -1] = -1\n"
          ]
        }
      ],
      "source": [
        "import numpy as np\n",
        "\n",
        "data = np.array([-1, 0, -1, 0, 0, 1, -1, 1, -1, -1])\n",
        "\n",
        "filter = np.array([-1, 1, -1])\n",
        "W = len(filter)\n",
        "L = len(data) - W + 1\n",
        "\n",
        "for i in range(L):\n",
        "    filtered_data = data[i:i+W]\n",
        "    print(f\"{'  ' * i}{filtered_data} • {filter} = {filtered_data.dot(filter)}\")"
      ]
    },
    {
      "cell_type": "markdown",
      "metadata": {
        "id": "w_OEC5gEzMXn"
      },
      "source": [
        "### 2-D Correlation"
      ]
    },
    {
      "cell_type": "code",
      "execution_count": 45,
      "metadata": {
        "colab": {
          "base_uri": "https://localhost:8080/"
        },
        "id": "OR8yTpKgzO_D",
        "outputId": "7352f139-5d82-4148-8d2c-7530a76c7074"
      },
      "outputs": [
        {
          "name": "stdout",
          "output_type": "stream",
          "text": [
            "[[-30. -30. -30. -30. -30.]\n",
            " [-30. -30. -30. -30. -30.]\n",
            " [-30. -30. -30. -30. -30.]]\n"
          ]
        }
      ],
      "source": [
        "import numpy as np\n",
        "\n",
        "width = np.arange(10, 80, 10).reshape(1, -1)\n",
        "height = (np.arange(5) * 10).reshape(-1, 1)\n",
        "data = width + height\n",
        "\n",
        "filter = np.array(\n",
        "    [\n",
        "        [1, 2, 5],\n",
        "        [-10, 2, -2],\n",
        "        [5, 1, -4]\n",
        "    ]\n",
        ")\n",
        "\n",
        "H, W = data.shape\n",
        "window_size = 3\n",
        "L_H = H - window_size + 1\n",
        "L_W = W - window_size + 1\n",
        "\n",
        "result = np.zeros((L_H, L_W))\n",
        "\n",
        "for idx_r in range(L_H):\n",
        "    for idx_c in range(L_W):\n",
        "        filtered_matrix = data[idx_r:idx_r+window_size, idx_c:idx_c+window_size]\n",
        "        correlation_sum_val = (filter * filtered_matrix).sum()\n",
        "        result[idx_r, idx_c] = correlation_sum_val\n",
        "print(result)"
      ]
    },
    {
      "cell_type": "markdown",
      "metadata": {
        "id": "1dyX04NBBuqH"
      },
      "source": [
        "### 1-D Correlation with numpy indexing"
      ]
    },
    {
      "cell_type": "code",
      "execution_count": 149,
      "metadata": {
        "colab": {
          "base_uri": "https://localhost:8080/"
        },
        "id": "zP3EZJDAOFYm",
        "outputId": "1fb779c9-f16a-404e-d1f7-8f1aaf9c0f14"
      },
      "outputs": [
        {
          "name": "stdout",
          "output_type": "stream",
          "text": [
            "indices:\n",
            "[[0 1 2]\n",
            " [1 2 3]\n",
            " [2 3 4]\n",
            " [3 4 5]\n",
            " [4 5 6]\n",
            " [5 6 7]\n",
            " [6 7 8]\n",
            " [7 8 9]]\n",
            "\n",
            "filtered_tensor:\n",
            "[[-1  0 -1]\n",
            " [ 0 -1  0]\n",
            " [-1  0  0]\n",
            " [ 0  0  1]\n",
            " [ 0  1 -1]\n",
            " [ 1 -1  1]\n",
            " [-1  1 -1]\n",
            " [ 1 -1 -1]]\n",
            "\n",
            "filtered_result:\n",
            "[ 2 -1  1 -1  2 -3  3 -1]\n",
            "\n"
          ]
        }
      ],
      "source": [
        "import numpy as np\n",
        "\n",
        "data = np.array([-1, 0, -1, 0, 0, 1, -1, 1, -1, -1])\n",
        "filter = np.array([-1, 1, -1])\n",
        "W = len(filter)\n",
        "L = len(data) - W + 1\n",
        "\n",
        "L_col_vec = np.arange(L).reshape(-1, 1)\n",
        "W_row_vec = np.arange(W).reshape(1, -1)\n",
        "indices = L_col_vec + W_row_vec\n",
        "print(f\"indices:\\n{indices}\\n\")\n",
        "\n",
        "data = data[np.newaxis, :]\n",
        "\n",
        "filtered_tensor = data[:, indices].reshape(-1, *filter.shape)\n",
        "print(f\"filtered_tensor:\\n{filtered_tensor}\\n\")\n",
        "\n",
        "filtered_result = np.sum(filtered_tensor * filter, axis=filter.ndim)\n",
        "print(f\"filtered_result:\\n{filtered_result}\\n\")"
      ]
    }
  ],
  "metadata": {
    "colab": {
      "provenance": []
    },
    "kernelspec": {
      "display_name": "Python 3",
      "name": "python3"
    },
    "language_info": {
      "name": "python"
    }
  },
  "nbformat": 4,
  "nbformat_minor": 0
}

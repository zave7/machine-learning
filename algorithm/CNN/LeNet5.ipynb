{
  "nbformat": 4,
  "nbformat_minor": 0,
  "metadata": {
    "colab": {
      "provenance": []
    },
    "kernelspec": {
      "name": "python3",
      "display_name": "Python 3"
    },
    "language_info": {
      "name": "python"
    }
  },
  "cells": [
    {
      "cell_type": "markdown",
      "source": [
        "# LeNet5"
      ],
      "metadata": {
        "id": "6bTX4N8D5oYi"
      }
    },
    {
      "cell_type": "code",
      "execution_count": 51,
      "metadata": {
        "colab": {
          "base_uri": "https://localhost:8080/"
        },
        "id": "7ulPTf6DVUeh",
        "outputId": "87cca062-4c10-459c-d48e-5712e07dbcc1"
      },
      "outputs": [
        {
          "output_type": "stream",
          "name": "stdout",
          "text": [
            "torch.Size([8, 1, 28, 28])\n",
            "result shape = torch.Size([8, 10])\n"
          ]
        }
      ],
      "source": [
        "import torch\n",
        "import torch.nn as nn\n",
        "from torchvision.datasets import MNIST\n",
        "from torchvision.transforms import ToTensor\n",
        "from torch.utils.data import DataLoader\n",
        "import torch.nn.functional as F\n",
        "\n",
        "class LeNet5Model(nn.Module):\n",
        "\n",
        "    def __init__(self):\n",
        "        super(LeNet5Model, self).__init__()\n",
        "\n",
        "        self.conv1 = nn.Conv2d(in_channels=1, out_channels=6, kernel_size=5, padding=2, stride=1)\n",
        "        self.conv1_act = nn.Tanh()\n",
        "        self.conv1_pool = nn.AvgPool2d(kernel_size=2, stride=2)\n",
        "\n",
        "        self.conv2 = nn.Conv2d(in_channels=6, out_channels=16, kernel_size=5, stride=1)\n",
        "        self.conv2_act = nn.Tanh()\n",
        "        self.conv2_pool = nn.AvgPool2d(kernel_size=2, stride=2)\n",
        "\n",
        "        self.conv3 = nn.Conv2d(in_channels=16, out_channels=120, kernel_size=5, stride=1)\n",
        "        self.conv3_act = nn.Tanh()\n",
        "\n",
        "        self.fc = nn.Linear(in_features=120, out_features=84)\n",
        "        self.fc_act = nn.Tanh()\n",
        "\n",
        "        self.fc_out = nn.Linear(in_features=84, out_features=10)\n",
        "\n",
        "    def forward(self, x):\n",
        "        conv1 = self.conv1(x)\n",
        "        conv1_act = self.conv1_act(conv1)\n",
        "        pool1 = self.conv1_pool(conv1_act)\n",
        "\n",
        "        conv2 = self.conv2(pool1)\n",
        "        conv2_act = self.conv2_act(conv2)\n",
        "        pool2 = self.conv2_pool(conv2_act)\n",
        "        conv3 = self.conv3(pool2)\n",
        "        conv3_act = self.conv3_act(conv3).view(-1, 120)\n",
        "\n",
        "        fc = self.fc(conv3_act)\n",
        "        fc_act = self.fc_act(fc)\n",
        "        fc_out = self.fc_out(fc_act)\n",
        "        return fc_out\n",
        "\n",
        "shape = (8, 1, 28, 28)\n",
        "test_data = torch.randn(torch.prod(torch.tensor(shape))).reshape(shape)\n",
        "print(test_data.shape)\n",
        "model = LeNet5Model()\n",
        "result = model(test_data)\n",
        "print(f\"result shape = {result.shape}\")"
      ]
    },
    {
      "cell_type": "code",
      "source": [
        "class ReshapeModule(nn.Module):\n",
        "    def __init__(self, shape):\n",
        "        super(ReshapeModule, self).__init__()\n",
        "        self.shape = shape\n",
        "    def forward(self, x):\n",
        "        return x.view(*self.shape)\n",
        "\n",
        "class LeNet5SequentialModel(nn.Module):\n",
        "\n",
        "    def __init__(self):\n",
        "        super(LeNet5SequentialModel, self).__init__()\n",
        "\n",
        "        self.conv_layers = nn.Sequential(\n",
        "            nn.Conv2d(in_channels=1, out_channels=6, kernel_size=5, padding=2, stride=1),\n",
        "            nn.Tanh(),\n",
        "            nn.AvgPool2d(kernel_size=2, stride=2),\n",
        "\n",
        "            nn.Conv2d(in_channels=6, out_channels=16, kernel_size=5, stride=1),\n",
        "            nn.Tanh(),\n",
        "            nn.AvgPool2d(kernel_size=2, stride=2),\n",
        "\n",
        "            nn.Conv2d(in_channels=16, out_channels=120, kernel_size=5, stride=1),\n",
        "            nn.Tanh()\n",
        "            # ReshapeModule(shape=(-1, 120))\n",
        "        )\n",
        "\n",
        "        self.classifier_layers = nn.Sequential(\n",
        "            nn.Linear(in_features=120, out_features=84),\n",
        "            nn.Tanh(),\n",
        "            nn.Linear(in_features=84, out_features=10)\n",
        "        )\n",
        "\n",
        "    def forward(self, x):\n",
        "        conv = self.conv_layers(x)\n",
        "        reshape_conv = conv.view(-1, 120)\n",
        "        out = self.classifier_layers(reshape_conv)\n",
        "        return out"
      ],
      "metadata": {
        "id": "-UFTYMppuokR"
      },
      "execution_count": 97,
      "outputs": []
    },
    {
      "cell_type": "markdown",
      "source": [
        "# MNIST learning"
      ],
      "metadata": {
        "id": "X2uB6xhKiDvu"
      }
    },
    {
      "cell_type": "code",
      "source": [
        "from torch.optim import SGD\n",
        "from tqdm import tqdm\n",
        "\n",
        "seed = 42\n",
        "BATCH_SIZE = 8\n",
        "EPOCHS = 10\n",
        "LR = 0.1\n",
        "torch.manual_seed(seed)\n",
        "data = MNIST(root=\"data\", download=True, train=True, transform=ToTensor())\n",
        "len_data = len(data)\n",
        "dataloader = DataLoader(dataset=data, batch_size=BATCH_SIZE)\n",
        "DEVICE = \"cpu\"\n",
        "\n",
        "model = LeNet5SequentialModel()\n",
        "loss_function = nn.CrossEntropyLoss()\n",
        "optimizer = SGD(model.parameters(), lr=LR)\n",
        "\n",
        "epoch_losses, epoch_accs = [], []\n",
        "\n",
        "for epoch in range(EPOCHS):\n",
        "    epoch_loss, epoch_acc = 0., 0\n",
        "    print(f\"Epoch {epoch+1}\")\n",
        "    for X, Y in tqdm(dataloader, desc=\"진행중\"):\n",
        "        X, Y = X.to(DEVICE), Y.to(DEVICE)\n",
        "\n",
        "        pred = model(X)\n",
        "\n",
        "        # cross entropy loss\n",
        "        loss = loss_function(pred, Y)\n",
        "\n",
        "        optimizer.zero_grad()\n",
        "        loss.backward()\n",
        "        optimizer.step()\n",
        "\n",
        "        # 손실\n",
        "        epoch_loss += loss.item() * len(X)\n",
        "\n",
        "        # 정확도\n",
        "        pred_max_indices = torch.argmax(pred, axis=1)\n",
        "        corrects = (pred_max_indices == Y).sum()\n",
        "        epoch_acc += corrects\n",
        "\n",
        "    epoch_losses.append(epoch_loss / len_data)\n",
        "    epoch_accs.append(epoch_acc / len_data)"
      ],
      "metadata": {
        "colab": {
          "base_uri": "https://localhost:8080/"
        },
        "id": "e0IMC_vviDcv",
        "outputId": "00cc295c-9927-41f7-c5a2-b5e4be2971e9"
      },
      "execution_count": 96,
      "outputs": [
        {
          "output_type": "stream",
          "name": "stdout",
          "text": [
            "Epoch 1\n"
          ]
        },
        {
          "output_type": "stream",
          "name": "stderr",
          "text": [
            "진행중: 100%|██████████| 7500/7500 [00:55<00:00, 136.33it/s]\n"
          ]
        },
        {
          "output_type": "stream",
          "name": "stdout",
          "text": [
            "Epoch 2\n"
          ]
        },
        {
          "output_type": "stream",
          "name": "stderr",
          "text": [
            "진행중: 100%|██████████| 7500/7500 [00:52<00:00, 142.02it/s]\n"
          ]
        },
        {
          "output_type": "stream",
          "name": "stdout",
          "text": [
            "Epoch 3\n"
          ]
        },
        {
          "output_type": "stream",
          "name": "stderr",
          "text": [
            "진행중: 100%|██████████| 7500/7500 [00:54<00:00, 136.60it/s]\n"
          ]
        },
        {
          "output_type": "stream",
          "name": "stdout",
          "text": [
            "Epoch 4\n"
          ]
        },
        {
          "output_type": "stream",
          "name": "stderr",
          "text": [
            "진행중: 100%|██████████| 7500/7500 [00:52<00:00, 141.60it/s]\n"
          ]
        },
        {
          "output_type": "stream",
          "name": "stdout",
          "text": [
            "Epoch 5\n"
          ]
        },
        {
          "output_type": "stream",
          "name": "stderr",
          "text": [
            "진행중: 100%|██████████| 7500/7500 [00:50<00:00, 149.06it/s]\n"
          ]
        },
        {
          "output_type": "stream",
          "name": "stdout",
          "text": [
            "Epoch 6\n"
          ]
        },
        {
          "output_type": "stream",
          "name": "stderr",
          "text": [
            "진행중: 100%|██████████| 7500/7500 [00:53<00:00, 139.19it/s]\n"
          ]
        },
        {
          "output_type": "stream",
          "name": "stdout",
          "text": [
            "Epoch 7\n"
          ]
        },
        {
          "output_type": "stream",
          "name": "stderr",
          "text": [
            "진행중: 100%|██████████| 7500/7500 [00:52<00:00, 142.40it/s]\n"
          ]
        },
        {
          "output_type": "stream",
          "name": "stdout",
          "text": [
            "Epoch 8\n"
          ]
        },
        {
          "output_type": "stream",
          "name": "stderr",
          "text": [
            "진행중: 100%|██████████| 7500/7500 [00:51<00:00, 145.90it/s]\n"
          ]
        },
        {
          "output_type": "stream",
          "name": "stdout",
          "text": [
            "Epoch 9\n"
          ]
        },
        {
          "output_type": "stream",
          "name": "stderr",
          "text": [
            "진행중: 100%|██████████| 7500/7500 [00:52<00:00, 144.00it/s]\n"
          ]
        },
        {
          "output_type": "stream",
          "name": "stdout",
          "text": [
            "Epoch 10\n"
          ]
        },
        {
          "output_type": "stream",
          "name": "stderr",
          "text": [
            "진행중: 100%|██████████| 7500/7500 [00:51<00:00, 144.83it/s]\n"
          ]
        }
      ]
    },
    {
      "cell_type": "markdown",
      "source": [
        "### visualization"
      ],
      "metadata": {
        "id": "lB-I3x1TmsR5"
      }
    },
    {
      "cell_type": "code",
      "source": [
        "import matplotlib.pyplot as plt\n",
        "\n",
        "fig, axes = plt.subplots(nrows=2, ncols=1, figsize=(5, 5))\n",
        "\n",
        "axes[0].plot(range(len(epoch_losses)), epoch_losses)\n",
        "axes[0].set_ylabel(\"Cross Entropy Loss\")\n",
        "axes[1].plot(range(len(epoch_accs)), epoch_accs)\n",
        "axes[1].set_ylabel(\"Accuracy\")\n",
        "axes[1].set_xlabel(\"Epoch\")"
      ],
      "metadata": {
        "colab": {
          "base_uri": "https://localhost:8080/",
          "height": 483
        },
        "id": "CNusZGaUmv-_",
        "outputId": "f3229a7b-9000-4129-b287-353d2a71879c"
      },
      "execution_count": 83,
      "outputs": [
        {
          "output_type": "execute_result",
          "data": {
            "text/plain": [
              "Text(0.5, 0, 'Epoch')"
            ]
          },
          "metadata": {},
          "execution_count": 83
        },
        {
          "output_type": "display_data",
          "data": {
            "text/plain": [
              "<Figure size 500x500 with 2 Axes>"
            ],
            "image/png": "[encoded data removed]"
          },
          "metadata": {}
        }
      ]
    },
    {
      "cell_type": "markdown",
      "source": [
        "### torchsummary"
      ],
      "metadata": {
        "id": "zlo8--3t0IOc"
      }
    },
    {
      "cell_type": "code",
      "source": [
        "from torchsummary import summary\n",
        "\n",
        "summary(model, (1, 28, 28))"
      ],
      "metadata": {
        "colab": {
          "base_uri": "https://localhost:8080/"
        },
        "id": "2VnQ_N0m0JsY",
        "outputId": "c6e026b2-8413-46f1-8b42-a5a7d3efc636"
      },
      "execution_count": 89,
      "outputs": [
        {
          "output_type": "stream",
          "name": "stdout",
          "text": [
            "----------------------------------------------------------------\n",
            "        Layer (type)               Output Shape         Param #\n",
            "================================================================\n",
            "            Conv2d-1            [-1, 6, 28, 28]             156\n",
            "              Tanh-2            [-1, 6, 28, 28]               0\n",
            "         AvgPool2d-3            [-1, 6, 14, 14]               0\n",
            "            Conv2d-4           [-1, 16, 10, 10]           2,416\n",
            "              Tanh-5           [-1, 16, 10, 10]               0\n",
            "         AvgPool2d-6             [-1, 16, 5, 5]               0\n",
            "            Conv2d-7            [-1, 120, 1, 1]          48,120\n",
            "              Tanh-8            [-1, 120, 1, 1]               0\n",
            "     ReshapeModule-9                  [-1, 120]               0\n",
            "           Linear-10                   [-1, 84]          10,164\n",
            "             Tanh-11                   [-1, 84]               0\n",
            "           Linear-12                   [-1, 10]             850\n",
            "================================================================\n",
            "Total params: 61,706\n",
            "Trainable params: 61,706\n",
            "Non-trainable params: 0\n",
            "----------------------------------------------------------------\n",
            "Input size (MB): 0.00\n",
            "Forward/backward pass size (MB): 0.11\n",
            "Params size (MB): 0.24\n",
            "Estimated Total Size (MB): 0.35\n",
            "----------------------------------------------------------------\n"
          ]
        }
      ]
    }
  ]
}
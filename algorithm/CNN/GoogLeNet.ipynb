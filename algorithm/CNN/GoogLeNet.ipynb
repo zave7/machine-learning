{
  "nbformat": 4,
  "nbformat_minor": 0,
  "metadata": {
    "colab": {
      "provenance": [],
      "gpuType": "T4"
    },
    "kernelspec": {
      "name": "python3",
      "display_name": "Python 3"
    },
    "language_info": {
      "name": "python"
    },
    "accelerator": "GPU"
  },
  "cells": [
    {
      "cell_type": "markdown",
      "source": [
        "# GoogLeNet"
      ],
      "metadata": {
        "id": "CM9XAeJO72Ig"
      }
    },
    {
      "cell_type": "markdown",
      "source": [
        "### ConvBlock"
      ],
      "metadata": {
        "id": "EQcV3Xy5qecr"
      }
    },
    {
      "cell_type": "code",
      "execution_count": 4,
      "metadata": {
        "id": "yEyC7-TYqcJ1"
      },
      "outputs": [],
      "source": [
        "import torch\n",
        "import torch.nn as nn\n",
        "\n",
        "class ConvBlock(nn.Module):\n",
        "    def __init__(self, in_channels, out_channels, kernel_size, padding=0, stride=1):\n",
        "        super(ConvBlock, self).__init__()\n",
        "\n",
        "        self.conv = nn.Conv2d(in_channels=in_channels, out_channels=out_channels,\n",
        "                              kernel_size=kernel_size, padding=padding, stride=stride)\n",
        "        self.act = nn.ReLU()\n",
        "\n",
        "    def forward(self, x):\n",
        "        x = self.conv(x)\n",
        "        x = self.act(x)\n",
        "        return x"
      ]
    },
    {
      "cell_type": "code",
      "source": [
        "# previous layer 192, 100, 100\n",
        "\n",
        "tensor = torch.tensor([[1, 2, 3],[1, 2, 3]])\n",
        "print(tensor.shape)\n",
        "data = torch.randn((192, 100, 100))\n",
        "\n",
        "conv1 = ConvBlock(in_channels=192, out_channels=64, kernel_size=1, padding=0)\n",
        "output_1 = conv1(data)\n",
        "print(f\"output 1 = {output_1.shape}\")\n",
        "\n",
        "conv2 = ConvBlock(in_channels=192, out_channels=128, kernel_size=3, padding=1)\n",
        "output_2 = conv2(data)\n",
        "print(f\"output 2 = {output_2.shape}\")\n",
        "\n",
        "conv3 = ConvBlock(in_channels=192, out_channels=32, kernel_size=5, padding=2)\n",
        "output_3 = conv3(data)\n",
        "print(f\"output 3 = {output_3.shape}\")\n",
        "\n",
        "conv4 = nn.MaxPool2d(kernel_size=3, padding=1, stride=1)\n",
        "output_4 = conv4(data)\n",
        "print(f\"output 4 = {output_4.shape}\")\n",
        "\n",
        "concat = torch.concat([\n",
        "    output_1, output_2, output_3, output_4\n",
        "], axis=0)\n",
        "\n",
        "print(f\"concat = {concat.shape}\")"
      ],
      "metadata": {
        "colab": {
          "base_uri": "https://localhost:8080/"
        },
        "id": "tytaP2wMsoFl",
        "outputId": "8c453df3-5362-4b11-d7b3-3dfd196adb3a"
      },
      "execution_count": 126,
      "outputs": [
        {
          "output_type": "stream",
          "name": "stdout",
          "text": [
            "torch.Size([2, 3])\n",
            "output 1 = torch.Size([64, 100, 100])\n",
            "output 2 = torch.Size([128, 100, 100])\n",
            "output 3 = torch.Size([32, 100, 100])\n",
            "output 4 = torch.Size([192, 100, 100])\n",
            "concat = torch.Size([416, 100, 100])\n"
          ]
        }
      ]
    },
    {
      "cell_type": "markdown",
      "source": [
        "### Inception Naive"
      ],
      "metadata": {
        "id": "Mbi8XfccE3fw"
      }
    },
    {
      "cell_type": "code",
      "source": [
        "class NaiveInceptionModule(nn.Module):\n",
        "    def __init__(self, in_channels, ch1x1, ch3x3, ch5x5):\n",
        "        super(NaiveInceptionModule, self).__init__()\n",
        "        self.branch1 = ConvBlock(in_channels=in_channels, out_channels=ch1x1, kernel_size=1)\n",
        "        self.branch2 = ConvBlock(in_channels=in_channels, out_channels=ch3x3, kernel_size=3, padding=1)\n",
        "        self.branch3 = ConvBlock(in_channels=in_channels, out_channels=ch5x5, kernel_size=5, padding=2)\n",
        "        self.pool = nn.MaxPool2d(kernel_size=3, padding=1, stride=1)\n",
        "\n",
        "    def forward(self, x):\n",
        "        output1 = self.branch1(x)\n",
        "        output2 = self.branch2(x)\n",
        "        output3 = self.branch3(x)\n",
        "        output4 = self.pool(x)\n",
        "        concatenated = torch.concat([output1, output2, output3, output4], axis=0)\n",
        "        return concatenated\n",
        "\n",
        "data = torch.randn((192, 100, 100))\n",
        "module = NaiveInceptionModule(in_channels=192, ch1x1=64, ch3x3=128, ch5x5=32)\n",
        "concatenated = module(data)\n",
        "print(f\"concatenated = {concatenated.shape}\")\n",
        ""
      ],
      "metadata": {
        "colab": {
          "base_uri": "https://localhost:8080/"
        },
        "id": "s62ieDCb5FUX",
        "outputId": "0e4cac22-fd92-408f-f143-5c630b3d9bdd"
      },
      "execution_count": 21,
      "outputs": [
        {
          "output_type": "stream",
          "name": "stdout",
          "text": [
            "concatenated = torch.Size([416, 100, 100])\n"
          ]
        }
      ]
    },
    {
      "cell_type": "markdown",
      "source": [
        "### Inception Module"
      ],
      "metadata": {
        "id": "UoaZJQnHINZ8"
      }
    },
    {
      "cell_type": "code",
      "source": [
        "import torch\n",
        "import torch.nn as nn\n",
        "class InceptionModule(nn.Module):\n",
        "    def __init__(self, in_channels, ch1x1, ch3x3red, ch3x3, ch5x5red, ch5x5, pool_proj):\n",
        "        super(InceptionModule, self).__init__()\n",
        "        self.branch1 = ConvBlock(in_channels=in_channels, out_channels=ch1x1, kernel_size=1)\n",
        "        self.branch2 = nn.Sequential(\n",
        "            ConvBlock(in_channels=in_channels, out_channels=ch3x3red, kernel_size=1),\n",
        "            ConvBlock(in_channels=ch3x3red, out_channels=ch3x3, kernel_size=3, padding=1)\n",
        "        )\n",
        "        self.branch3 = nn.Sequential(\n",
        "            ConvBlock(in_channels=in_channels, out_channels=ch5x5red, kernel_size=1),\n",
        "            ConvBlock(in_channels=ch5x5red, out_channels=ch5x5, kernel_size=5, padding=2)\n",
        "        )\n",
        "        self.pool = nn.Sequential(\n",
        "            nn.MaxPool2d(kernel_size=3, padding=1, stride=1),\n",
        "            ConvBlock(in_channels=in_channels, out_channels=pool_proj, kernel_size=1)\n",
        "        )\n",
        "\n",
        "    def forward(self, x):\n",
        "        output1 = self.branch1(x)\n",
        "        output2 = self.branch2(x)\n",
        "        output3 = self.branch3(x)\n",
        "        output4 = self.pool(x)\n",
        "        concatenated = torch.concat([output1, output2, output3, output4], axis=1)\n",
        "        return concatenated\n",
        "\n",
        "data = torch.randn((1, 192, 100, 100))\n",
        "module = InceptionModule(in_channels=192, ch1x1=64, ch3x3red=96, ch3x3=128, ch5x5red=16, ch5x5=32, pool_proj=32)\n",
        "concatenated = module(data)\n",
        "print(f\"concatenated = {concatenated.shape}\")"
      ],
      "metadata": {
        "colab": {
          "base_uri": "https://localhost:8080/"
        },
        "id": "I0lHY43XIQex",
        "outputId": "2b188bd2-42fb-4191-b471-891abb6ac88a"
      },
      "execution_count": 125,
      "outputs": [
        {
          "output_type": "stream",
          "name": "stdout",
          "text": [
            "concatenated = torch.Size([1, 256, 100, 100])\n"
          ]
        }
      ]
    },
    {
      "cell_type": "markdown",
      "source": [
        "### GoogLeNet Model (224, 224)"
      ],
      "metadata": {
        "id": "KzmVh7a_hxLX"
      }
    },
    {
      "cell_type": "code",
      "source": [
        "import torch\n",
        "import torch.nn as nn\n",
        "\n",
        "class GoogLeNet(nn.Module):\n",
        "    def __init__(self):\n",
        "        super(GoogLeNet, self).__init__()\n",
        "        self.conv1 = nn.Conv2d(in_channels=3, out_channels=64, kernel_size=7, padding=3, stride=2)\n",
        "        self.conv1_pool = nn.MaxPool2d(kernel_size=3, padding=1, stride=2)\n",
        "        self.conv2 = nn.Conv2d(in_channels=64, out_channels=64, kernel_size=3, padding=1)\n",
        "        self.conv3 = nn.Conv2d(in_channels=64, out_channels=192, kernel_size=3, padding=1)\n",
        "        self.conv3_pool = nn.MaxPool2d(kernel_size=3, padding=1, stride=2)\n",
        "        self.inception1 = InceptionModule(in_channels=192, ch1x1=64, ch3x3red=96, ch3x3=128, ch5x5red=16, ch5x5=32, pool_proj=32)\n",
        "        self.inception2 = InceptionModule(in_channels=256, ch1x1=128, ch3x3red=128, ch3x3=192, ch5x5red=32, ch5x5=96, pool_proj=64)\n",
        "        self.inception2_pool = nn.MaxPool2d(kernel_size=3, padding=1, stride=2)\n",
        "        self.inception3 = InceptionModule(in_channels=480, ch1x1=192, ch3x3red=96, ch3x3=208, ch5x5red=16, ch5x5=48, pool_proj=64)\n",
        "        self.inception4 = InceptionModule(in_channels=512, ch1x1=160, ch3x3red=112, ch3x3=224, ch5x5red=24, ch5x5=64, pool_proj=64)\n",
        "        self.inception5 = InceptionModule(in_channels=512, ch1x1=128, ch3x3red=128, ch3x3=256, ch5x5red=24, ch5x5=64, pool_proj=64)\n",
        "        self.inception6 = InceptionModule(in_channels=512, ch1x1=112, ch3x3red=144, ch3x3=288, ch5x5red=32, ch5x5=64, pool_proj=64)\n",
        "        self.inception7 = InceptionModule(in_channels=528, ch1x1=256, ch3x3red=160, ch3x3=320, ch5x5red=32, ch5x5=128, pool_proj=128)\n",
        "        self.inception7_pool = nn.MaxPool2d(kernel_size=3, padding=1, stride=2)\n",
        "        self.inception8 = InceptionModule(in_channels=832, ch1x1=256, ch3x3red=160, ch3x3=320, ch5x5red=32, ch5x5=128, pool_proj=128)\n",
        "        self.inception9 = InceptionModule(in_channels=832, ch1x1=384, ch3x3red=192, ch3x3=384, ch5x5red=48, ch5x5=128, pool_proj=128)\n",
        "        self.inception9_pool = nn.AvgPool2d(kernel_size=7)\n",
        "        self.fc = nn.Linear(in_features=1024, out_features=1000)\n",
        "\n",
        "    def forward(self, x):\n",
        "        x = self.conv1(x)\n",
        "        x = self.conv1_pool(x)\n",
        "        x = self.conv2(x)\n",
        "        x = self.conv3(x)\n",
        "        x = self.conv3_pool(x)\n",
        "        x = self.inception1(x)\n",
        "        x = self.inception2(x)\n",
        "        x = self.inception2_pool(x)\n",
        "        x = self.inception3(x)\n",
        "        x = self.inception4(x)\n",
        "        x = self.inception5(x)\n",
        "        x = self.inception6(x)\n",
        "        x = self.inception7(x)\n",
        "        x = self.inception7_pool(x)\n",
        "        x = self.inception8(x)\n",
        "        x = self.inception9(x)\n",
        "        x = self.inception9_pool(x)\n",
        "        x = x.view(x.shape[0], -1)\n",
        "        x = self.fc(x)\n",
        "        return x\n",
        "\n",
        "data = torch.randn(2, 3, 224, 224)\n",
        "model = GoogLeNet()\n",
        "output = model(data)\n",
        "print(f\"output = {output.shape}\")"
      ],
      "metadata": {
        "colab": {
          "base_uri": "https://localhost:8080/"
        },
        "id": "McJALwpKh1XH",
        "outputId": "fc1ad46b-7225-4632-ede1-cd6874eec6c2"
      },
      "execution_count": 123,
      "outputs": [
        {
          "output_type": "stream",
          "name": "stdout",
          "text": [
            "output = torch.Size([2, 1000])\n"
          ]
        }
      ]
    },
    {
      "cell_type": "markdown",
      "source": [
        "### GoogLeNet Custom by CIFAR10 (32, 32)"
      ],
      "metadata": {
        "id": "4l7R35pqoQvu"
      }
    },
    {
      "cell_type": "code",
      "source": [
        "import torch\n",
        "import torch.nn as nn\n",
        "\n",
        "class GoogLeNetCIFAR(nn.Module):\n",
        "    def __init__(self):\n",
        "        super(GoogLeNetCIFAR, self).__init__()\n",
        "        self.conv1 = nn.Conv2d(in_channels=3, out_channels=192, kernel_size=3, padding=1)\n",
        "        self.conv1_pool = nn.MaxPool2d(kernel_size=3, padding=1, stride=2)\n",
        "        self.inception1 = InceptionModule(in_channels=192, ch1x1=64, ch3x3red=96, ch3x3=128, ch5x5red=16, ch5x5=32, pool_proj=32)\n",
        "        self.inception2 = InceptionModule(in_channels=256, ch1x1=128, ch3x3red=128, ch3x3=192, ch5x5red=32, ch5x5=96, pool_proj=64)\n",
        "        self.inception2_pool = nn.MaxPool2d(kernel_size=3, padding=1, stride=2)\n",
        "        self.fc = nn.Linear(in_features=480*8*8, out_features=10)\n",
        "\n",
        "    def forward(self, x):\n",
        "        x = self.conv1(x)\n",
        "        x = self.conv1_pool(x)\n",
        "        x = self.inception1(x)\n",
        "        x = self.inception2(x)\n",
        "        x = self.inception2_pool(x)\n",
        "        x = x.view(x.shape[0], -1)\n",
        "        x = self.fc(x)\n",
        "        return x\n",
        "\n",
        "data = torch.randn(2, 3, 32, 32)\n",
        "model = GoogLeNetCIFAR()\n",
        "output = model(data)\n",
        "print(f\"output = {output.shape}\")"
      ],
      "metadata": {
        "colab": {
          "base_uri": "https://localhost:8080/"
        },
        "id": "alq_iF5ioVjy",
        "outputId": "e34af600-ed2c-46f7-b88a-5a3a4c49d32b"
      },
      "execution_count": 115,
      "outputs": [
        {
          "output_type": "stream",
          "name": "stdout",
          "text": [
            "output = torch.Size([2, 10])\n"
          ]
        }
      ]
    },
    {
      "cell_type": "markdown",
      "source": [
        "### CIFAR10 Learning"
      ],
      "metadata": {
        "id": "9FBgtqGOwf6s"
      }
    },
    {
      "cell_type": "code",
      "source": [
        "import torch\n",
        "import torch.nn as nn\n",
        "from torchvision.datasets import CIFAR10\n",
        "from torch.utils.data import DataLoader\n",
        "from torchvision.transforms import ToTensor\n",
        "from tqdm import tqdm\n",
        "from torch.optim import SGD\n",
        "\n",
        "seed = 42\n",
        "torch.manual_seed(42)\n",
        "BATCH_SIZE = 8\n",
        "LR = 0.03\n",
        "EPOCHS = 10\n",
        "DEVICE = \"cuda\"\n",
        "\n",
        "data = CIFAR10(root=\"data\", train=True, download=True, transform=ToTensor())\n",
        "len_data = len(data)\n",
        "dataloader = DataLoader(dataset=data, batch_size=BATCH_SIZE)\n",
        "\n",
        "model = GoogLeNetCIFAR()\n",
        "model.to(DEVICE)\n",
        "optimizer = SGD(model.parameters(), lr=LR)\n",
        "loss_function = nn.CrossEntropyLoss()\n",
        "\n",
        "epoch_losses, epoch_accs = [], []\n",
        "for epoch in range(EPOCHS):\n",
        "    epoch_loss, epoch_acc = 0., 0\n",
        "    for X, Y in tqdm(dataloader, desc=\"진행중\"):\n",
        "        X, Y = X.to(DEVICE), Y.to(DEVICE)\n",
        "\n",
        "        pred = model(X)\n",
        "\n",
        "        loss = loss_function(pred, Y)\n",
        "\n",
        "        optimizer.zero_grad()\n",
        "        loss.backward()\n",
        "        optimizer.step()\n",
        "\n",
        "        epoch_loss += loss.item() * len(X)\n",
        "        pred_max_indices = torch.argmax(pred, axis=1)\n",
        "        corrects = (pred_max_indices == Y).sum()\n",
        "        epoch_acc += corrects.cpu()\n",
        "\n",
        "    epoch_losses.append(epoch_loss / len_data)\n",
        "    epoch_accs.append(epoch_acc / len_data)\n"
      ],
      "metadata": {
        "colab": {
          "base_uri": "https://localhost:8080/"
        },
        "id": "Q9o8KNoGwq-l",
        "outputId": "59541247-7f10-4c34-d8b8-8e08b1d1eefd"
      },
      "execution_count": 121,
      "outputs": [
        {
          "output_type": "stream",
          "name": "stdout",
          "text": [
            "Files already downloaded and verified\n"
          ]
        },
        {
          "output_type": "stream",
          "name": "stderr",
          "text": [
            "진행중: 100%|██████████| 6250/6250 [00:43<00:00, 142.60it/s]\n",
            "진행중: 100%|██████████| 6250/6250 [00:43<00:00, 143.85it/s]\n",
            "진행중: 100%|██████████| 6250/6250 [00:43<00:00, 142.51it/s]\n",
            "진행중: 100%|██████████| 6250/6250 [00:43<00:00, 144.03it/s]\n",
            "진행중: 100%|██████████| 6250/6250 [00:43<00:00, 145.26it/s]\n",
            "진행중: 100%|██████████| 6250/6250 [00:43<00:00, 144.42it/s]\n",
            "진행중: 100%|██████████| 6250/6250 [00:43<00:00, 143.79it/s]\n",
            "진행중: 100%|██████████| 6250/6250 [00:43<00:00, 142.92it/s]\n",
            "진행중: 100%|██████████| 6250/6250 [00:43<00:00, 144.18it/s]\n",
            "진행중: 100%|██████████| 6250/6250 [00:43<00:00, 145.26it/s]\n"
          ]
        }
      ]
    },
    {
      "cell_type": "markdown",
      "source": [
        "### GoogLeNet Learning Visualization - CIFAR10"
      ],
      "metadata": {
        "id": "ybUF9c1X0vCz"
      }
    },
    {
      "cell_type": "code",
      "source": [
        "import matplotlib.pyplot as plt\n",
        "\n",
        "fig, axes = plt.subplots(nrows=2, ncols=1, figsize=(6, 6))\n",
        "axes[0].plot(range(len(epoch_losses)), epoch_losses)\n",
        "axes[0].set_ylabel(\"Cross Entropy Loss\")\n",
        "axes[1].plot(range(len(epoch_accs)), epoch_accs)\n",
        "axes[1].set_ylabel(\"Accuracy\")\n",
        "axes[1].set_xlabel(\"Epoch\")"
      ],
      "metadata": {
        "colab": {
          "base_uri": "https://localhost:8080/",
          "height": 560
        },
        "id": "mdFhltwt02YN",
        "outputId": "fc5e82f0-1077-4dd2-ec63-bc460017e778"
      },
      "execution_count": 122,
      "outputs": [
        {
          "output_type": "execute_result",
          "data": {
            "text/plain": [
              "Text(0.5, 0, 'Epoch')"
            ]
          },
          "metadata": {},
          "execution_count": 122
        },
        {
          "output_type": "display_data",
          "data": {
            "text/plain": [
              "<Figure size 600x600 with 2 Axes>"
            ],
            "image/png": "[encoded data removed]"
          },
          "metadata": {}
        }
      ]
    }
  ]
}
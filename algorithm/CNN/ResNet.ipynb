{
  "nbformat": 4,
  "nbformat_minor": 0,
  "metadata": {
    "colab": {
      "provenance": [],
      "gpuType": "T4"
    },
    "kernelspec": {
      "name": "python3",
      "display_name": "Python 3"
    },
    "language_info": {
      "name": "python"
    },
    "accelerator": "GPU"
  },
  "cells": [
    {
      "cell_type": "markdown",
      "source": [
        "# ResNet"
      ],
      "metadata": {
        "id": "ZLS1ZyOM1Cn0"
      }
    },
    {
      "cell_type": "markdown",
      "source": [
        "### ResidualBlock"
      ],
      "metadata": {
        "id": "Z-Y3Zx_l1FZo"
      }
    },
    {
      "cell_type": "code",
      "execution_count": 23,
      "metadata": {
        "colab": {
          "base_uri": "https://localhost:8080/"
        },
        "id": "wmuQguyy-raE",
        "outputId": "75d3945b-c285-4cdb-e14c-86b2f2e58adf"
      },
      "outputs": [
        {
          "output_type": "stream",
          "name": "stdout",
          "text": [
            "output shape : torch.Size([1, 3, 32, 32])\n"
          ]
        }
      ],
      "source": [
        "import torch\n",
        "import torch.nn as nn\n",
        "\n",
        "class ResidualBlock(nn.Module):\n",
        "    def __init__(self, in_channels, out_channels):\n",
        "        super(ResidualBlock, self).__init__()\n",
        "        self.conv_path = nn.Sequential(\n",
        "            nn.Conv2d(in_channels=in_channels, out_channels=out_channels,\n",
        "                      kernel_size=3, padding=1),\n",
        "            nn.ReLU(),\n",
        "            nn.Conv2d(in_channels=out_channels, out_channels=out_channels,\n",
        "                      kernel_size=3, padding=1)\n",
        "        )\n",
        "        self.skip_path = nn.Identity()\n",
        "        self.act = nn.ReLU()\n",
        "\n",
        "    def forward(self, x):\n",
        "        conv = self.conv_path(x)\n",
        "        skip = self.skip_path(x)\n",
        "        sum = conv + skip\n",
        "        out = self.act(sum)\n",
        "        return out\n",
        "\n",
        "test_data = torch.randn((1, 3, 32, 32))\n",
        "residual_block = ResidualBlock(in_channels=3, out_channels=3)\n",
        "output = residual_block(test_data)\n",
        "print(f\"output shape : {output.shape}\")"
      ]
    },
    {
      "cell_type": "markdown",
      "source": [
        "### ResidualBlockDown"
      ],
      "metadata": {
        "id": "KPQm1CmYR3j9"
      }
    },
    {
      "cell_type": "code",
      "source": [
        "import torch.nn as nn\n",
        "\n",
        "class ResidualBlockDown(nn.Module):\n",
        "    def __init__(self, in_channels, out_channels):\n",
        "        super(ResidualBlockDown, self).__init__()\n",
        "        self.conv_path = nn.Sequential(\n",
        "            nn.Conv2d(in_channels=in_channels, out_channels=out_channels,\n",
        "                      kernel_size=3, padding=1, stride=2),\n",
        "            nn.ReLU(),\n",
        "            nn.Conv2d(in_channels=out_channels, out_channels=out_channels,\n",
        "                      kernel_size=3, padding=1)\n",
        "        )\n",
        "        self.conv2_path = nn.Conv2d(\n",
        "            in_channels=in_channels, out_channels=out_channels,\n",
        "            kernel_size=1, stride=2\n",
        "        )\n",
        "        self.act = nn.ReLU()\n",
        "    def forward(self, x):\n",
        "        conv = self.conv_path(x)\n",
        "        conv2 = self.conv2_path(x)\n",
        "        sum = conv + conv2\n",
        "        out = self.act(sum)\n",
        "        return out\n",
        "\n",
        "test_data = torch.randn((1, 3, 32, 32))\n",
        "residual_block = ResidualBlockDown(in_channels=3, out_channels=3)\n",
        "output = residual_block(test_data)\n",
        "print(f\"output shape : {output.shape}\")"
      ],
      "metadata": {
        "colab": {
          "base_uri": "https://localhost:8080/"
        },
        "id": "sVUXKyD4R6BA",
        "outputId": "59d48cae-21f3-4781-91fc-40e8a6f0b43e"
      },
      "execution_count": 24,
      "outputs": [
        {
          "output_type": "stream",
          "name": "stdout",
          "text": [
            "output shape : torch.Size([1, 3, 16, 16])\n"
          ]
        }
      ]
    },
    {
      "cell_type": "markdown",
      "source": [
        "### ResNet34 Naive"
      ],
      "metadata": {
        "id": "kfk55hHZqhC1"
      }
    },
    {
      "cell_type": "code",
      "source": [
        "import torch\n",
        "import torch.nn as nn\n",
        "\n",
        "class ResNet(nn.Module):\n",
        "    def __init__(self):\n",
        "        super(ResNet, self).__init__()\n",
        "        self.conv1 = nn.Sequential(\n",
        "            nn.Conv2d(in_channels=3, out_channels=64, kernel_size=7, padding=3, stride=2),\n",
        "            nn.ReLU()\n",
        "        )\n",
        "        self.conv2_x = nn.Sequential(\n",
        "            nn.MaxPool2d(kernel_size=3, padding=1, stride=2),\n",
        "            ResidualBlock(in_channels=64, out_channels=64),\n",
        "            ResidualBlock(in_channels=64, out_channels=64),\n",
        "            ResidualBlock(in_channels=64, out_channels=64)\n",
        "        )\n",
        "        self.conv3_x = nn.Sequential(\n",
        "            ResidualBlockDown(in_channels=64, out_channels=128),\n",
        "            ResidualBlock(in_channels=128, out_channels=128),\n",
        "            ResidualBlock(in_channels=128, out_channels=128),\n",
        "            ResidualBlock(in_channels=128, out_channels=128)\n",
        "        )\n",
        "        self.conv4_x = nn.Sequential(\n",
        "            ResidualBlockDown(in_channels=128, out_channels=256),\n",
        "            ResidualBlock(in_channels=256, out_channels=256),\n",
        "            ResidualBlock(in_channels=256, out_channels=256),\n",
        "            ResidualBlock(in_channels=256, out_channels=256),\n",
        "            ResidualBlock(in_channels=256, out_channels=256),\n",
        "            ResidualBlock(in_channels=256, out_channels=256)\n",
        "        )\n",
        "        self.conv5_x = nn.Sequential(\n",
        "            ResidualBlockDown(in_channels=256, out_channels=512),\n",
        "            ResidualBlock(in_channels=512, out_channels=512),\n",
        "            ResidualBlock(in_channels=512, out_channels=512)\n",
        "        )\n",
        "        self.pool = nn.AvgPool2d(kernel_size=7)\n",
        "        self.classifier = nn.Linear(in_features=512, out_features=1000)\n",
        "\n",
        "    def forward(self, x):\n",
        "        x = self.conv1(x)\n",
        "        x = self.conv2_x(x)\n",
        "        x = self.conv3_x(x)\n",
        "        x = self.conv4_x(x)\n",
        "        x = self.conv5_x(x)\n",
        "        x = self.pool(x)\n",
        "        x = x.view(x.shape[0], -1)\n",
        "        out = self.classifier(x)\n",
        "        return out\n",
        "\n",
        "shape = (8, 3, 224, 224)\n",
        "test_data = torch.randn(shape)\n",
        "model = ResNet()\n",
        "output = model(test_data)\n",
        "print(f\"output shape : {output.shape}\")"
      ],
      "metadata": {
        "colab": {
          "base_uri": "https://localhost:8080/"
        },
        "id": "7gVTi8kvqi8n",
        "outputId": "44eae449-e36a-4656-be43-83ef4ccfb555"
      },
      "execution_count": 25,
      "outputs": [
        {
          "output_type": "stream",
          "name": "stdout",
          "text": [
            "output shape : torch.Size([8, 1000])\n"
          ]
        }
      ]
    },
    {
      "cell_type": "markdown",
      "source": [
        "### AdvancedResiducalBlock"
      ],
      "metadata": {
        "id": "HwJY2T_A158v"
      }
    },
    {
      "cell_type": "code",
      "source": [
        "import torch\n",
        "import torch.nn as nn\n",
        "\n",
        "class AdvancedResidualBlock(nn.Module):\n",
        "    def __init__(self, in_channels, out_channels, is_down=False):\n",
        "        super(AdvancedResidualBlock, self).__init__()\n",
        "\n",
        "        if not is_down and in_channels != out_channels:\n",
        "            raise ValueError(\"When it's not 'down', `in_channels` and `out_channels` should be the same.\")\n",
        "\n",
        "        self.in_channels, self.out_channels = in_channels, out_channels\n",
        "        stride = 2 if is_down else 1\n",
        "\n",
        "        self.conv_path = nn.Sequential(\n",
        "            self._make_conv(stride=stride),\n",
        "            nn.ReLU(),\n",
        "            self._make_conv(is_second=True)\n",
        "        )\n",
        "        self.skip_path = self._make_conv(stride=stride) if is_down else nn.Identity()\n",
        "        self.act = nn.ReLU()\n",
        "\n",
        "    def forward(self, x):\n",
        "        conv = self.conv_path(x)\n",
        "        skip = self.skip_path(x)\n",
        "        sum = conv + skip\n",
        "        out = self.act(sum)\n",
        "        return out\n",
        "\n",
        "    def _make_conv(self, is_second=False, stride=1):\n",
        "        in_channels = self.out_channels if is_second else self.in_channels\n",
        "        conv = nn.Conv2d(in_channels=in_channels, out_channels=self.out_channels,\n",
        "                         kernel_size=3, padding=1, stride=stride)\n",
        "        return conv\n",
        "\n",
        "\n",
        "\n",
        "data = torch.randn((1, 3, 32, 32))\n",
        "residual_block = AdvancedResidualBlock(in_channels=3, out_channels=3)\n",
        "output = residual_block(data)\n",
        "print(f\"output shape : {output.shape}\")\n",
        "\n",
        "residual_block = AdvancedResidualBlock(in_channels=3, out_channels=6, is_down=True)\n",
        "output = residual_block(data)\n",
        "print(f\"down output shape : {output.shape}\")"
      ],
      "metadata": {
        "colab": {
          "base_uri": "https://localhost:8080/"
        },
        "id": "KGi-FCop19BJ",
        "outputId": "8c082f80-403a-4b52-8961-e76913d948d8"
      },
      "execution_count": 29,
      "outputs": [
        {
          "output_type": "stream",
          "name": "stdout",
          "text": [
            "output shape : torch.Size([1, 3, 32, 32])\n",
            "down output shape : torch.Size([1, 6, 16, 16])\n"
          ]
        }
      ]
    },
    {
      "cell_type": "markdown",
      "source": [
        "### ResNet34"
      ],
      "metadata": {
        "id": "hqUFhHEUDwYq"
      }
    },
    {
      "cell_type": "code",
      "source": [
        "import torch\n",
        "import torch.nn as nn\n",
        "\n",
        "class ResNet34(nn.Module):\n",
        "    def __init__(self):\n",
        "        super(ResNet34, self).__init__()\n",
        "        self.conv1 = nn.Sequential(\n",
        "            nn.Conv2d(in_channels=3, out_channels=64, kernel_size=7, padding=3, stride=2),\n",
        "            nn.ReLU(),\n",
        "            nn.MaxPool2d(kernel_size=3, padding=1, stride=2),\n",
        "        )\n",
        "        self.conv2_x = self._make_layers(in_channels=64, out_channels=64,\n",
        "                                         n_blocks=3, downsmaple=False)\n",
        "        self.conv3_x = self._make_layers(in_channels=64, out_channels=128,\n",
        "                                         n_blocks=4, downsmaple=True)\n",
        "        self.conv4_x = self._make_layers(in_channels=128, out_channels=256,\n",
        "                                         n_blocks=6, downsmaple=True)\n",
        "        self.conv5_x = self._make_layers(in_channels=256, out_channels=512,\n",
        "                                         n_blocks=3, downsmaple=True)\n",
        "        self.pool = nn.AvgPool2d(kernel_size=7)\n",
        "        self.classifier = nn.Linear(in_features=512, out_features=1000)\n",
        "\n",
        "    def _make_layers(self, in_channels, out_channels, n_blocks, downsample):\n",
        "\n",
        "        blocks = []\n",
        "\n",
        "        for _ in range(n_blocks):\n",
        "            block = AdvancedResidualBlock(in_channels=in_channels, out_channels=out_channels, is_down=downsample)\n",
        "            blocks.append(block)\n",
        "            in_channels = out_channels\n",
        "            downsample = False\n",
        "\n",
        "        return nn.Sequential(*blocks)\n",
        "\n",
        "    def forward(self, x):\n",
        "        x = self.conv1(x)\n",
        "        x = self.conv2_x(x)\n",
        "        x = self.conv3_x(x)\n",
        "        x = self.conv4_x(x)\n",
        "        x = self.conv5_x(x)\n",
        "        x = self.pool(x)\n",
        "        x = x.view(x.shape[0], -1)\n",
        "        out = self.classifier(x)\n",
        "        return out\n",
        "\n",
        "shape = (8, 3, 224, 224)\n",
        "test_data = torch.randn(shape)\n",
        "model = ResNet()\n",
        "output = model(test_data)\n",
        "print(f\"output shape : {output.shape}\")"
      ],
      "metadata": {
        "colab": {
          "base_uri": "https://localhost:8080/"
        },
        "id": "-Q_bHqjUD767",
        "outputId": "f619aa76-30c6-4066-d953-883795ca8d02"
      },
      "execution_count": 31,
      "outputs": [
        {
          "output_type": "stream",
          "name": "stdout",
          "text": [
            "output shape : torch.Size([8, 1000])\n"
          ]
        }
      ]
    },
    {
      "cell_type": "markdown",
      "source": [
        "### ResNet"
      ],
      "metadata": {
        "id": "RJyLt7SZIlU7"
      }
    },
    {
      "cell_type": "code",
      "source": [
        "import torch\n",
        "import torch.nn as nn\n",
        "\n",
        "class ResNet(nn.Module):\n",
        "    def __init__(self, n_blocks_list):\n",
        "        super(ResNet, self).__init__()\n",
        "        self.conv1 = nn.Sequential(\n",
        "            nn.Conv2d(in_channels=3, out_channels=64, kernel_size=7, padding=3, stride=2),\n",
        "            nn.ReLU(),\n",
        "            nn.MaxPool2d(kernel_size=3, padding=1, stride=2),\n",
        "        )\n",
        "        self.conv2_x = self._make_layers(in_channels=64, out_channels=64,\n",
        "                                         n_blocks=n_blocks_list[0], downsample=False)\n",
        "        self.conv3_x = self._make_layers(in_channels=64, out_channels=128,\n",
        "                                         n_blocks=n_blocks_list[1], downsample=True)\n",
        "        self.conv4_x = self._make_layers(in_channels=128, out_channels=256,\n",
        "                                         n_blocks=n_blocks_list[2], downsample=True)\n",
        "        self.conv5_x = self._make_layers(in_channels=256, out_channels=512,\n",
        "                                         n_blocks=n_blocks_list[3], downsample=True)\n",
        "        self.pool = nn.AvgPool2d(kernel_size=7)\n",
        "        self.classifier = nn.Linear(in_features=512, out_features=10000)\n",
        "\n",
        "    def _make_layers(self, in_channels, out_channels, n_blocks, downsample):\n",
        "\n",
        "        blocks = []\n",
        "\n",
        "        for _ in range(n_blocks):\n",
        "            block = AdvancedResidualBlock(in_channels=in_channels, out_channels=out_channels, is_down=downsample)\n",
        "            blocks.append(block)\n",
        "            in_channels = out_channels\n",
        "            downsample = False\n",
        "\n",
        "        return nn.Sequential(*blocks)\n",
        "\n",
        "    def forward(self, x):\n",
        "        x = self.conv1(x)\n",
        "        x = self.conv2_x(x)\n",
        "        x = self.conv3_x(x)\n",
        "        x = self.conv4_x(x)\n",
        "        x = self.conv5_x(x)\n",
        "        x = self.pool(x)\n",
        "        x = x.view(x.shape[0], -1)\n",
        "        out = self.classifier(x)\n",
        "        return out\n",
        "\n",
        "resNet32 = lambda : ResNet(n_blocks_list=[3, 4, 6, 3])\n",
        "\n",
        "shape = (8, 3, 224, 224)\n",
        "test_data = torch.randn(shape)\n",
        "model = resNet32()\n",
        "output = model(test_data)\n",
        "print(f\"output shape : {output.shape}\")\n"
      ],
      "metadata": {
        "colab": {
          "base_uri": "https://localhost:8080/"
        },
        "id": "T_MZ9BPJInAe",
        "outputId": "c6bf7b5a-a924-4e5b-d67c-5505ad3b1cff"
      },
      "execution_count": 49,
      "outputs": [
        {
          "output_type": "stream",
          "name": "stdout",
          "text": [
            "output shape : torch.Size([8, 10000])\n"
          ]
        }
      ]
    },
    {
      "cell_type": "markdown",
      "source": [
        "### CIFAR Learning"
      ],
      "metadata": {
        "id": "EQtzoG_SwV6s"
      }
    },
    {
      "cell_type": "code",
      "source": [
        "import torch\n",
        "import torch.nn as nn\n",
        "from torchvision.datasets import CIFAR10\n",
        "from torchvision.transforms import ToTensor\n",
        "from torch.utils.data import DataLoader\n",
        "from tqdm import tqdm\n",
        "from torch.optim import SGD\n",
        "\n",
        "seed = 42\n",
        "torch.manual_seed(seed)\n",
        "BATCH_SIZE = 8\n",
        "LR = 0.02\n",
        "EPOCHS = 10\n",
        "DEVICE = \"cuda\"\n",
        "\n",
        "data = CIFAR10(root=\"data\", train=True, download=True, transform=ToTensor())\n",
        "n_data = len(data)\n",
        "dataloader = DataLoader(dataset=data, batch_size=BATCH_SIZE)\n",
        "\n",
        "model = ResNet(n_blocks_list=[3, 4, 6, 3])\n",
        "model.to(DEVICE)\n",
        "optimizer = SGD(model.parameters(), lr=LR)\n",
        "loss_function = nn.CrossEntropyLoss()\n",
        "\n",
        "epoch_losses, epoch_accs = [], []\n",
        "\n",
        "for epoch in range(EPOCHS):\n",
        "    epoch_loss, epoch_acc = 0., 0\n",
        "    for X, Y in tqdm(dataloader, desc=\"진행중\"):\n",
        "        X, Y = X.to(DEVICE), Y.to(DEVICE)\n",
        "\n",
        "        pred = model(X)\n",
        "\n",
        "        loss = loss_function(pred, Y)\n",
        "\n",
        "        optimizer.zero_grad()\n",
        "        loss.backward()\n",
        "        optimizer.step()\n",
        "\n",
        "        epoch_loss += loss.item() * len(X)\n",
        "\n",
        "        pred_max_indices = torch.argmax(pred, axis=1)\n",
        "        corrects = torch.sum(pred_max_indices == Y)\n",
        "        epoch_acc += corrects.cpu()\n",
        "\n",
        "    epoch_losses.append(epoch_loss / n_data)\n",
        "    epoch_accs.append(epoch_acc / n_data)"
      ],
      "metadata": {
        "colab": {
          "base_uri": "https://localhost:8080/"
        },
        "id": "folLvcZUwY_0",
        "outputId": "b81e2105-2c3d-4fb9-8364-7c4fc4c3daa3"
      },
      "execution_count": 47,
      "outputs": [
        {
          "output_type": "stream",
          "name": "stdout",
          "text": [
            "Files already downloaded and verified\n"
          ]
        },
        {
          "output_type": "stream",
          "name": "stderr",
          "text": [
            "진행중: 100%|██████████| 6250/6250 [01:37<00:00, 64.37it/s]\n",
            "진행중: 100%|██████████| 6250/6250 [01:37<00:00, 64.01it/s]\n",
            "진행중: 100%|██████████| 6250/6250 [01:37<00:00, 64.05it/s]\n",
            "진행중: 100%|██████████| 6250/6250 [01:37<00:00, 64.29it/s]\n",
            "진행중: 100%|██████████| 6250/6250 [01:37<00:00, 64.17it/s]\n",
            "진행중: 100%|██████████| 6250/6250 [01:37<00:00, 64.33it/s]\n",
            "진행중: 100%|██████████| 6250/6250 [01:37<00:00, 64.40it/s]\n",
            "진행중: 100%|██████████| 6250/6250 [01:36<00:00, 64.54it/s]\n",
            "진행중: 100%|██████████| 6250/6250 [01:36<00:00, 64.63it/s]\n",
            "진행중: 100%|██████████| 6250/6250 [01:37<00:00, 64.41it/s]\n"
          ]
        }
      ]
    },
    {
      "cell_type": "markdown",
      "source": [
        "### visualization"
      ],
      "metadata": {
        "id": "kpMXCSKmO86Q"
      }
    },
    {
      "cell_type": "code",
      "source": [
        "import matplotlib.pyplot as plt\n",
        "\n",
        "fig, axes = plt.subplots(nrows=2, ncols=1, figsize=(6, 6))\n",
        "axes[0].plot(range(len(epoch_losses)), epoch_losses)\n",
        "axes[0].set_ylabel(\"Cross Entropy Loss\")\n",
        "axes[1].plot(range(len(epoch_accs)), epoch_accs)\n",
        "axes[1].set_ylabel(\"Accuracy\")\n",
        "axes[1].set_xlabel(\"Epoch\")"
      ],
      "metadata": {
        "colab": {
          "base_uri": "https://localhost:8080/",
          "height": 560
        },
        "id": "d-PD2mYOPBf9",
        "outputId": "17557680-d33b-4a14-a973-66ac4847418b"
      },
      "execution_count": 48,
      "outputs": [
        {
          "output_type": "execute_result",
          "data": {
            "text/plain": [
              "Text(0.5, 0, 'Epoch')"
            ]
          },
          "metadata": {},
          "execution_count": 48
        },
        {
          "output_type": "display_data",
          "data": {
            "text/plain": [
              "<Figure size 600x600 with 2 Axes>"
            ],
            "image/png": "[encoded data removed]"
          },
          "metadata": {}
        }
      ]
    }
  ]
}
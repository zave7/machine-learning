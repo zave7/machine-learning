{
  "cells": [
    {
      "cell_type": "markdown",
      "metadata": {
        "id": "sieWGLNqM_ED"
      },
      "source": [
        "# Sobel Filtering"
      ]
    },
    {
      "cell_type": "markdown",
      "metadata": {
        "id": "6LKncdqxND6D"
      },
      "source": [
        "### numpy ones"
      ]
    },
    {
      "cell_type": "code",
      "execution_count": 1,
      "metadata": {
        "colab": {
          "base_uri": "https://localhost:8080/"
        },
        "id": "66mfU-fP8ijK",
        "outputId": "5c45b154-f3fa-434a-b76a-8c312be2d286"
      },
      "outputs": [
        {
          "name": "stdout",
          "output_type": "stream",
          "text": [
            "[[1. 1. 1.]\n",
            " [1. 1. 1.]] \n",
            "\n",
            "[[10. 10. 10.]\n",
            " [10. 10. 10.]]\n"
          ]
        }
      ],
      "source": [
        "import numpy as np\n",
        "import matplotlib.pyplot as plt\n",
        "\n",
        "tmp = np.ones(shape=(2, 3))\n",
        "print(tmp, \"\\n\")\n",
        "\n",
        "tmp2 = 10 * tmp\n",
        "print(tmp2)"
      ]
    },
    {
      "cell_type": "markdown",
      "metadata": {
        "id": "L_1QkhD6NGv6"
      },
      "source": [
        "### check block"
      ]
    },
    {
      "cell_type": "code",
      "execution_count": 105,
      "metadata": {
        "colab": {
          "base_uri": "https://localhost:8080/",
          "height": 422
        },
        "id": "87qTKJ739ErG",
        "outputId": "d0c64c21-85a0-4be4-b790-e3ed49454d6e"
      },
      "outputs": [
        {
          "data": {
            "image/png": "[encoded data removed]",
            "text/plain": [
              "<Figure size 500x500 with 1 Axes>"
            ]
          },
          "metadata": {},
          "output_type": "display_data"
        }
      ],
      "source": [
        "import numpy as np\n",
        "import matplotlib.pyplot as plt\n",
        "\n",
        "ten = np.ones(shape=(10, 10))\n",
        "white_patch = ten * 255\n",
        "black_patch = ten * 0\n",
        "\n",
        "img1 = np.hstack([white_patch, black_patch])\n",
        "img2 = np.hstack([black_patch, white_patch])\n",
        "\n",
        "checkered_block = np.vstack([img1, img2])\n",
        "\n",
        "fig, ax = plt.subplots(figsize=(5, 5))\n",
        "ax.axis(\"off\")\n",
        "ax.imshow(checkered_block, cmap=\"gray\")\n",
        "plt.show()"
      ]
    },
    {
      "cell_type": "markdown",
      "metadata": {
        "id": "aYOAiriANchK"
      },
      "source": [
        "### numpy repeat, tile"
      ]
    },
    {
      "cell_type": "code",
      "execution_count": 6,
      "metadata": {
        "colab": {
          "base_uri": "https://localhost:8080/"
        },
        "id": "iWa-Uad1-2RB",
        "outputId": "1492f7ed-c245-444e-ff08-beb8e7d9458e"
      },
      "outputs": [
        {
          "name": "stdout",
          "output_type": "stream",
          "text": [
            "[0 1 2 3 4]\n",
            "repeat [0 0 0 1 1 1 2 2 2 3 3 3 4 4 4]\n",
            "tile [0 1 2 3 4 0 1 2 3 4 0 1 2 3 4]\n"
          ]
        }
      ],
      "source": [
        "import numpy as np\n",
        "\n",
        "data = np.arange(5)\n",
        "print(data)\n",
        "\n",
        "print(f\"repeat {np.repeat(data, repeats=3)}\")\n",
        "print(f\"tile {np.tile(data, reps=3)}\")"
      ]
    },
    {
      "cell_type": "code",
      "execution_count": 8,
      "metadata": {
        "colab": {
          "base_uri": "https://localhost:8080/"
        },
        "id": "gtrKCZwd_TBi",
        "outputId": "e382b6da-3d3c-42e8-af4c-9db4c285984b"
      },
      "outputs": [
        {
          "name": "stdout",
          "output_type": "stream",
          "text": [
            "[[0 1 2]\n",
            " [3 4 5]]\n",
            "repeat 1 (6, 3)\n",
            "[[0 1 2]\n",
            " [0 1 2]\n",
            " [0 1 2]\n",
            " [3 4 5]\n",
            " [3 4 5]\n",
            " [3 4 5]]\n",
            "repeat 2 (2, 9)\n",
            "[[0 0 0 1 1 1 2 2 2]\n",
            " [3 3 3 4 4 4 5 5 5]]\n",
            "repeat 3 (4, 9)\n",
            "[[0 0 0 1 1 1 2 2 2]\n",
            " [0 0 0 1 1 1 2 2 2]\n",
            " [3 3 3 4 4 4 5 5 5]\n",
            " [3 3 3 4 4 4 5 5 5]]\n"
          ]
        }
      ],
      "source": [
        "import numpy as np\n",
        "\n",
        "data = np.arange(6).reshape(2, 3)\n",
        "print(data)\n",
        "\n",
        "repeat_1 = np.repeat(data, repeats=3, axis=0)\n",
        "repeat_2 = np.repeat(data, repeats=3, axis=1)\n",
        "repeat_3 = np.repeat(np.repeat(data, repeats=2, axis=0), repeats=3, axis=1)\n",
        "\n",
        "print(f\"repeat 1 {repeat_1.shape}\\n{repeat_1}\") # 6, 3\n",
        "print(f\"repeat 2 {repeat_2.shape}\\n{repeat_2}\") # 2, 9\n",
        "print(f\"repeat 3 {repeat_3.shape}\\n{repeat_3}\") # 4, 9"
      ]
    },
    {
      "cell_type": "code",
      "execution_count": 10,
      "metadata": {
        "colab": {
          "base_uri": "https://localhost:8080/"
        },
        "id": "CYfXLUmJCAqD",
        "outputId": "5539d274-24f3-4cbf-9c82-5f4552183bf2"
      },
      "outputs": [
        {
          "name": "stdout",
          "output_type": "stream",
          "text": [
            "[[0 1 2]\n",
            " [3 4 5]]\n",
            "tile_1 (6, 3)\n",
            " [[0 1 2]\n",
            " [3 4 5]\n",
            " [0 1 2]\n",
            " [3 4 5]\n",
            " [0 1 2]\n",
            " [3 4 5]]\n",
            "tile_2 (2, 9)\n",
            " [[0 1 2 0 1 2 0 1 2]\n",
            " [3 4 5 3 4 5 3 4 5]]\n",
            "tile_3 (6, 9)\n",
            " [[0 1 2 0 1 2 0 1 2]\n",
            " [3 4 5 3 4 5 3 4 5]\n",
            " [0 1 2 0 1 2 0 1 2]\n",
            " [3 4 5 3 4 5 3 4 5]\n",
            " [0 1 2 0 1 2 0 1 2]\n",
            " [3 4 5 3 4 5 3 4 5]]\n"
          ]
        }
      ],
      "source": [
        "import numpy as np\n",
        "\n",
        "data = np.arange(6).reshape(2, 3)\n",
        "print(data)\n",
        "\n",
        "tile_1 = np.tile(data, reps=[3, 1])\n",
        "tile_2 = np.tile(data, reps=[1, 3])\n",
        "tile_3 = np.tile(data, reps=[3, 3])\n",
        "\n",
        "print(f\"tile_1 {tile_1.shape}\\n {tile_1}\") # 6, 3\n",
        "print(f\"tile_2 {tile_2.shape}\\n {tile_2}\") # 2, 9\n",
        "print(f\"tile_3 {tile_3.shape}\\n {tile_3}\") # 6, 9"
      ]
    },
    {
      "cell_type": "code",
      "execution_count": 106,
      "metadata": {
        "colab": {
          "base_uri": "https://localhost:8080/",
          "height": 422
        },
        "id": "30e_2M5-DcDU",
        "outputId": "20a6cd3c-0134-4e21-ce86-36c85fb7a20c"
      },
      "outputs": [
        {
          "data": {
            "image/png": "[encoded data removed]",
            "text/plain": [
              "<Figure size 500x500 with 1 Axes>"
            ]
          },
          "metadata": {},
          "output_type": "display_data"
        }
      ],
      "source": [
        "import numpy as np\n",
        "import matplotlib.pyplot as plt\n",
        "\n",
        "ten = np.ones(shape=(10, 10))\n",
        "white_patch = ten * 255\n",
        "black_patch = ten * 0\n",
        "\n",
        "img1 = np.hstack([white_patch, black_patch])\n",
        "img2 = np.hstack([black_patch, white_patch])\n",
        "checkered_block = np.vstack([img1, img2])\n",
        "checkered_block = np.tile(checkered_block, reps=[4, 4])\n",
        "\n",
        "fig, ax = plt.subplots(figsize=(5, 5))\n",
        "ax.axis(\"off\")\n",
        "ax.imshow(checkered_block, cmap=\"gray\")\n",
        "plt.show()"
      ]
    },
    {
      "cell_type": "code",
      "execution_count": 107,
      "metadata": {
        "colab": {
          "base_uri": "https://localhost:8080/",
          "height": 422
        },
        "id": "h0VrtdBIaqsA",
        "outputId": "4a2dd420-c389-4387-d2a9-b4be35f53d96"
      },
      "outputs": [
        {
          "data": {
            "image/png": "[encoded data removed]",
            "text/plain": [
              "<Figure size 500x500 with 1 Axes>"
            ]
          },
          "metadata": {},
          "output_type": "display_data"
        }
      ],
      "source": [
        "import numpy as np\n",
        "import matplotlib.pyplot as plt\n",
        "\n",
        "ten_by_ten = np.ones(shape=(10, 10))\n",
        "white_patch = ten_by_ten * 255\n",
        "gray_patch = ten_by_ten * (255/2)\n",
        "black_patch = ten_by_ten * 0\n",
        "\n",
        "img1 = np.hstack([white_patch, gray_patch])\n",
        "img2 = np.hstack([gray_patch, black_patch])\n",
        "checkered_block = np.vstack([img1, img2])\n",
        "checkered_block = np.tile(checkered_block, reps=[4, 4])\n",
        "\n",
        "fig, ax = plt.subplots(figsize=(5, 5))\n",
        "ax.axis(\"off\")\n",
        "ax.imshow(checkered_block, cmap=\"gray\")\n",
        "plt.show()"
      ]
    },
    {
      "cell_type": "code",
      "execution_count": 19,
      "metadata": {
        "colab": {
          "base_uri": "https://localhost:8080/",
          "height": 295
        },
        "id": "jlJf28-UcZo-",
        "outputId": "ce65a76e-9f8d-46d3-d0e7-b2e24efbbbaa"
      },
      "outputs": [
        {
          "data": {
            "image/png": "[encoded data removed]",
            "text/plain": [
              "<Figure size 600x600 with 1 Axes>"
            ]
          },
          "metadata": {},
          "output_type": "display_data"
        }
      ],
      "source": [
        "import numpy as np\n",
        "import matplotlib.pyplot as plt\n",
        "\n",
        "img = np.arange(0, 256, 50).reshape(1, -1)\n",
        "img = img.repeat(100, axis=0).repeat(30, axis=1)\n",
        "\n",
        "fig, ax = plt.subplots(figsize=(6, 6))\n",
        "ax.imshow(img, cmap=\"gray\")\n",
        "ax.tick_params(left=False, labelleft=False, bottom=False, labelbottom=False)\n",
        "plt.show()"
      ]
    },
    {
      "cell_type": "code",
      "execution_count": 22,
      "metadata": {
        "colab": {
          "base_uri": "https://localhost:8080/",
          "height": 424
        },
        "id": "G0weIISjdXPD",
        "outputId": "4722a090-151b-4848-8271-962048f0d0eb"
      },
      "outputs": [
        {
          "data": {
            "image/png": "[encoded data removed]",
            "text/plain": [
              "<Figure size 600x600 with 1 Axes>"
            ]
          },
          "metadata": {},
          "output_type": "display_data"
        }
      ],
      "source": [
        "import numpy as np\n",
        "import matplotlib.pyplot as plt\n",
        "\n",
        "img = np.arange(0, 256, int(256/4)).reshape(1, -1)\n",
        "img = img.repeat(100, axis=0).repeat(30, axis=1)\n",
        "\n",
        "fig, ax = plt.subplots(figsize=(6, 6))\n",
        "ax.imshow(img, cmap=\"gray\")\n",
        "ax.tick_params(left=False, labelleft=False, bottom=False, labelbottom=False)\n",
        "plt.show()"
      ]
    },
    {
      "cell_type": "code",
      "execution_count": 23,
      "metadata": {
        "colab": {
          "base_uri": "https://localhost:8080/",
          "height": 424
        },
        "id": "YLFi5bT0eOTV",
        "outputId": "60a21d36-8e82-433e-cd3c-79b38a9ab298"
      },
      "outputs": [
        {
          "data": {
            "image/png": "[encoded data removed]",
            "text/plain": [
              "<Figure size 600x600 with 1 Axes>"
            ]
          },
          "metadata": {},
          "output_type": "display_data"
        }
      ],
      "source": [
        "import numpy as np\n",
        "import matplotlib.pyplot as plt\n",
        "\n",
        "img = np.arange(0, 151, 50).reshape(1, -1)\n",
        "img = img.repeat(100, axis=0).repeat(30, axis=1)\n",
        "\n",
        "fig, ax = plt.subplots(figsize=(6, 6))\n",
        "ax.imshow(img, cmap=\"gray\")\n",
        "ax.tick_params(left=False, labelleft=False, bottom=False, labelbottom=False)\n",
        "plt.show()"
      ]
    },
    {
      "cell_type": "code",
      "execution_count": 26,
      "metadata": {
        "colab": {
          "base_uri": "https://localhost:8080/",
          "height": 424
        },
        "id": "PEJWLNbFekkk",
        "outputId": "5eee605a-1a1c-4fd9-8747-7b9a5eeae224"
      },
      "outputs": [
        {
          "data": {
            "image/png": "[encoded data removed]",
            "text/plain": [
              "<Figure size 600x600 with 1 Axes>"
            ]
          },
          "metadata": {},
          "output_type": "display_data"
        }
      ],
      "source": [
        "import numpy as np\n",
        "import matplotlib.pyplot as plt\n",
        "\n",
        "img = np.arange(0, 151, 50).reshape(1, -1)\n",
        "img = img.repeat(100, axis=0).repeat(30, axis=1)\n",
        "\n",
        "fig, ax = plt.subplots(figsize=(6, 6))\n",
        "ax.imshow(img, cmap=\"gray\", vmax=255, vmin=0)\n",
        "ax.tick_params(left=False, labelleft=False, bottom=False, labelbottom=False)\n",
        "plt.show()"
      ]
    },
    {
      "cell_type": "code",
      "execution_count": 34,
      "metadata": {
        "colab": {
          "base_uri": "https://localhost:8080/",
          "height": 499
        },
        "id": "WH-y5Z_He4nX",
        "outputId": "e6155b65-5175-4439-f922-0f1f6e480202"
      },
      "outputs": [
        {
          "data": {
            "image/png": "[encoded data removed]",
            "text/plain": [
              "<Figure size 600x600 with 1 Axes>"
            ]
          },
          "metadata": {},
          "output_type": "display_data"
        }
      ],
      "source": [
        "import numpy as np\n",
        "import matplotlib.pyplot as plt\n",
        "\n",
        "img = np.arange(255, 0, -(255/6)).reshape(-1, 1)\n",
        "img = img.repeat(100, axis=1).repeat(30, axis=0)\n",
        "\n",
        "fig, ax = plt.subplots(figsize=(6, 6))\n",
        "ax.imshow(img, cmap=\"gray\", vmax=255, vmin=0)\n",
        "ax.tick_params(left=False, labelleft=False, bottom=False, labelbottom=False)\n",
        "plt.show()"
      ]
    },
    {
      "cell_type": "code",
      "execution_count": 44,
      "metadata": {
        "colab": {
          "base_uri": "https://localhost:8080/",
          "height": 401
        },
        "id": "hoXDOTvfgXZ-",
        "outputId": "fc59b92c-6665-4218-9167-c812acdf0211"
      },
      "outputs": [
        {
          "data": {
            "image/png": "[encoded data removed]",
            "text/plain": [
              "<Figure size 600x600 with 1 Axes>"
            ]
          },
          "metadata": {},
          "output_type": "display_data"
        }
      ],
      "source": [
        "import numpy as np\n",
        "import matplotlib.pyplot as plt\n",
        "\n",
        "img = np.arange(0, 255, 1)\n",
        "img = np.vstack([img, img[::-1]])\n",
        "img = img.repeat(100, axis=0)\n",
        "\n",
        "fig, ax = plt.subplots(figsize=(6, 6))\n",
        "ax.imshow(img, cmap=\"gray\", vmax=255, vmin=0)\n",
        "ax.tick_params(left=False, labelleft=False, bottom=False, labelbottom=False)\n",
        "plt.show()"
      ]
    },
    {
      "cell_type": "markdown",
      "metadata": {
        "id": "5y_qJfqin5CY"
      },
      "source": [
        "### window\n",
        "- 1D sliding window"
      ]
    },
    {
      "cell_type": "code",
      "execution_count": 55,
      "metadata": {
        "colab": {
          "base_uri": "https://localhost:8080/"
        },
        "id": "Ez3naawRn6mo",
        "outputId": "19d9adaa-ad2a-4c9d-d6ad-ad5319c8a230"
      },
      "outputs": [
        {
          "name": "stdout",
          "output_type": "stream",
          "text": [
            "[10 20 30]\n",
            "[20 30 40]\n",
            "[30 40 50]\n",
            "[40 50 60]\n",
            "[50 60 70]\n",
            "[60 70 80]\n",
            "[70 80 90]\n",
            "[ 80  90 100]\n"
          ]
        }
      ],
      "source": [
        "import numpy as np\n",
        "\n",
        "data = np.arange(1, 11) * 10\n",
        "window_size = 3\n",
        "window_count = len(data) - window_size + 1\n",
        "for i in range(window_count):\n",
        "    print(data[i:i+window_size])"
      ]
    },
    {
      "cell_type": "markdown",
      "metadata": {
        "id": "H64KToa6PDJK"
      },
      "source": [
        "### matrix dataset"
      ]
    },
    {
      "cell_type": "code",
      "execution_count": 108,
      "metadata": {
        "colab": {
          "base_uri": "https://localhost:8080/"
        },
        "id": "NAnAp-QJO97l",
        "outputId": "92b7bfe3-b589-4def-e833-bc6f6bf60652"
      },
      "outputs": [
        {
          "name": "stdout",
          "output_type": "stream",
          "text": [
            "[[ 10  20  30  40  50  60  70]\n",
            " [ 20  30  40  50  60  70  80]\n",
            " [ 30  40  50  60  70  80  90]\n",
            " [ 40  50  60  70  80  90 100]\n",
            " [ 50  60  70  80  90 100 110]]\n",
            "------------------------------\n",
            "[[ 10  20  30  40  50  60  70]\n",
            " [ 20  30  40  50  60  70  80]\n",
            " [ 30  40  50  60  70  80  90]\n",
            " [ 40  50  60  70  80  90 100]\n",
            " [ 50  60  70  80  90 100 110]]\n",
            "------------------------------\n",
            "[[ 10  20  30  40  50  60  70]\n",
            " [ 20  30  40  50  60  70  80]\n",
            " [ 30  40  50  60  70  80  90]\n",
            " [ 40  50  60  70  80  90 100]\n",
            " [ 50  60  70  80  90 100 110]]\n",
            "------------------------------\n",
            "[[ 10  20  30  40  50  60  70]\n",
            " [ 20  30  40  50  60  70  80]\n",
            " [ 30  40  50  60  70  80  90]\n",
            " [ 40  50  60  70  80  90 100]\n",
            " [ 50  60  70  80  90 100 110]]\n"
          ]
        }
      ],
      "source": [
        "out_arr = []\n",
        "out_ = 10\n",
        "for y in range(5):\n",
        "    in_ = out_\n",
        "    in_arr = []\n",
        "    for x in range(7):\n",
        "        in_arr.append(in_)\n",
        "        in_ += 10\n",
        "    out_arr.append(in_arr)\n",
        "    out_ += 10\n",
        "\n",
        "start = 10\n",
        "data = [\n",
        "    [\n",
        "        (start * y) + (x * 10)\n",
        "        for x in range(7)\n",
        "    ]\n",
        "    for y in range(1, 6)\n",
        "]\n",
        "\n",
        "print(np.array(out_arr))\n",
        "\n",
        "print(\"-\"*30)\n",
        "\n",
        "print(np.array(data))\n",
        "\n",
        "print(\"-\"*30)\n",
        "\n",
        "data = np.arange(1, 8, 1) * 10\n",
        "data = np.array([ data + (i * 10) for i in range(5) ])\n",
        "\n",
        "print(data)\n",
        "\n",
        "print(\"-\"*30)\n",
        "\n",
        "x = np.arange(1, 8, 1).reshape(1, -1)\n",
        "y = np.arange(0, 5, 1).reshape(-1, 1)\n",
        "print((x+y)*10)"
      ]
    },
    {
      "cell_type": "markdown",
      "metadata": {
        "id": "ieNGDrRDPl5s"
      },
      "source": [
        "### 2D Sliding Window"
      ]
    },
    {
      "cell_type": "code",
      "execution_count": 104,
      "metadata": {
        "colab": {
          "base_uri": "https://localhost:8080/"
        },
        "id": "J5BQ6sQQrCE5",
        "outputId": "3f3ea019-ce4f-4a7b-aeb1-11e75fd5e1dc"
      },
      "outputs": [
        {
          "name": "stdout",
          "output_type": "stream",
          "text": [
            "[[ 10  20  30  40  50  60  70]\n",
            " [ 20  30  40  50  60  70  80]\n",
            " [ 30  40  50  60  70  80  90]\n",
            " [ 40  50  60  70  80  90 100]\n",
            " [ 50  60  70  80  90 100 110]]\n",
            "----H(1)----\n",
            "[[10 20 30]\n",
            " [20 30 40]\n",
            " [30 40 50]]\n",
            "[[20 30 40]\n",
            " [30 40 50]\n",
            " [40 50 60]]\n",
            "[[30 40 50]\n",
            " [40 50 60]\n",
            " [50 60 70]]\n",
            "[[40 50 60]\n",
            " [50 60 70]\n",
            " [60 70 80]]\n",
            "[[50 60 70]\n",
            " [60 70 80]\n",
            " [70 80 90]]\n",
            "------------\n",
            "----H(2)----\n",
            "[[20 30 40]\n",
            " [30 40 50]\n",
            " [40 50 60]]\n",
            "[[30 40 50]\n",
            " [40 50 60]\n",
            " [50 60 70]]\n",
            "[[40 50 60]\n",
            " [50 60 70]\n",
            " [60 70 80]]\n",
            "[[50 60 70]\n",
            " [60 70 80]\n",
            " [70 80 90]]\n",
            "[[ 60  70  80]\n",
            " [ 70  80  90]\n",
            " [ 80  90 100]]\n",
            "------------\n",
            "----H(3)----\n",
            "[[30 40 50]\n",
            " [40 50 60]\n",
            " [50 60 70]]\n",
            "[[40 50 60]\n",
            " [50 60 70]\n",
            " [60 70 80]]\n",
            "[[50 60 70]\n",
            " [60 70 80]\n",
            " [70 80 90]]\n",
            "[[ 60  70  80]\n",
            " [ 70  80  90]\n",
            " [ 80  90 100]]\n",
            "[[ 70  80  90]\n",
            " [ 80  90 100]\n",
            " [ 90 100 110]]\n",
            "------------\n"
          ]
        }
      ],
      "source": [
        "import numpy as np\n",
        "\n",
        "x = np.arange(1, 8, 1).reshape(1, -1)\n",
        "y = np.arange(0, 5, 1).reshape(-1, 1)\n",
        "data = (x+y)*10\n",
        "print(data)\n",
        "\n",
        "W = 3\n",
        "H_, W_ = data.shape\n",
        "L_H = H_ - W + 1\n",
        "L_W = W_ - W + 1\n",
        "\n",
        "window_size_x = 3\n",
        "window_count_x = data.shape[1] - window_size_x + 1\n",
        "window_size_y = 3\n",
        "window_count_y = data.shape[0] - window_size_y + 1\n",
        "\n",
        "for idx_h in range(L_H):\n",
        "    print(f\"----H({idx_h+1})----\")\n",
        "    for idx_w in range(L_W):\n",
        "        print(data[idx_h:idx_h + W,\n",
        "                   idx_w:idx_w + W])\n",
        "    print(\"-\"*12)"
      ]
    },
    {
      "cell_type": "markdown",
      "metadata": {},
      "source": [
        "## x, y filter"
      ]
    },
    {
      "cell_type": "code",
      "execution_count": 4,
      "metadata": {},
      "outputs": [
        {
          "data": {
            "image/png": "[encoded data removed]",
            "text/plain": [
              "<Figure size 600x600 with 1 Axes>"
            ]
          },
          "metadata": {},
          "output_type": "display_data"
        }
      ],
      "source": [
        "import numpy as np\n",
        "import matplotlib.pyplot as plt\n",
        "\n",
        "white = 255\n",
        "black = 0\n",
        "\n",
        "white_patch = np.array(white).reshape(1, -1).repeat(10, axis=1)\n",
        "black_patch = np.array(black).reshape(1, -1).repeat(10, axis=1)\n",
        "\n",
        "top_img = np.hstack([white_patch, black_patch]).repeat(10, axis=0)\n",
        "bottom_img = np.hstack([black_patch, white_patch]).repeat(10, axis=0)\n",
        "\n",
        "data = np.tile(np.vstack([top_img, bottom_img]), reps=[2, 2])\n",
        "\n",
        "filter_x = np.array([(-1, 0, +1), (-2, 0, +2), (-1, 0, +1)])\n",
        "filter_y = np.array([(+1, +2, +1), (0, 0, 0), (-1, -2, -1)])\n",
        "\n",
        "W = 3\n",
        "H_, W_ = data.shape\n",
        "L_H = H_ - W + 1\n",
        "L_W = W_ - W + 1\n",
        "\n",
        "result_x = np.zeros(np.prod([L_H, L_W])).reshape((L_H, L_W))\n",
        "result_y = np.zeros(np.prod([L_H, L_W])).reshape((L_H, L_W))\n",
        "\n",
        "for idx_h in range(L_H):\n",
        "    for idx_w in range(L_W):\n",
        "        window = data[idx_h:idx_h + W,idx_w:idx_w + W] # (3, 3)\n",
        "        co_x_value = (window * filter_x).sum()\n",
        "        result_x[idx_h][idx_w] = co_x_value\n",
        "        co_y_value = (window * filter_y).sum()\n",
        "        result_y[idx_h][idx_w] = co_y_value\n",
        "\n",
        "fig, ax = plt.subplots(figsize=(6, 6))\n",
        "ax.imshow(data, cmap=\"gray\")\n",
        "ax.tick_params(left=False, labelleft=False, bottom=False, labelbottom=False)\n",
        "plt.show()"
      ]
    },
    {
      "cell_type": "markdown",
      "metadata": {},
      "source": [
        "### x filtering"
      ]
    },
    {
      "cell_type": "code",
      "execution_count": 2,
      "metadata": {},
      "outputs": [
        {
          "data": {
            "image/png": "[encoded data removed]",
            "text/plain": [
              "<Figure size 600x600 with 1 Axes>"
            ]
          },
          "metadata": {},
          "output_type": "display_data"
        }
      ],
      "source": [
        "fig, ax = plt.subplots(figsize=(6, 6))\n",
        "ax.imshow(result_x, cmap=\"gray\")\n",
        "ax.tick_params(left=False, labelleft=False, bottom=False, labelbottom=False)\n",
        "plt.show()"
      ]
    },
    {
      "cell_type": "markdown",
      "metadata": {},
      "source": [
        "### y filtering"
      ]
    },
    {
      "cell_type": "code",
      "execution_count": 3,
      "metadata": {},
      "outputs": [
        {
          "data": {
            "image/png": "[encoded data removed]",
            "text/plain": [
              "<Figure size 600x600 with 1 Axes>"
            ]
          },
          "metadata": {},
          "output_type": "display_data"
        }
      ],
      "source": [
        "fig, ax = plt.subplots(figsize=(6, 6))\n",
        "ax.imshow(result_y, cmap=\"gray\")\n",
        "ax.tick_params(left=False, labelleft=False, bottom=False, labelbottom=False)\n",
        "plt.show()"
      ]
    }
  ],
  "metadata": {
    "colab": {
      "provenance": []
    },
    "kernelspec": {
      "display_name": "Python 3",
      "name": "python3"
    },
    "language_info": {
      "codemirror_mode": {
        "name": "ipython",
        "version": 3
      },
      "file_extension": ".py",
      "mimetype": "text/x-python",
      "name": "python",
      "nbconvert_exporter": "python",
      "pygments_lexer": "ipython3",
      "version": "3.11.4"
    }
  },
  "nbformat": 4,
  "nbformat_minor": 0
}

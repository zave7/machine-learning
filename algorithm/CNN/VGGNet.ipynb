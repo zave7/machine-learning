{
  "nbformat": 4,
  "nbformat_minor": 0,
  "metadata": {
    "colab": {
      "provenance": []
    },
    "kernelspec": {
      "name": "python3",
      "display_name": "Python 3"
    },
    "language_info": {
      "name": "python"
    }
  },
  "cells": [
    {
      "cell_type": "markdown",
      "source": [
        "### VGG11"
      ],
      "metadata": {
        "id": "2tzk9tVXeqQm"
      }
    },
    {
      "cell_type": "code",
      "execution_count": 23,
      "metadata": {
        "colab": {
          "base_uri": "https://localhost:8080/"
        },
        "id": "TlPwromxenoc",
        "outputId": "7df8e1fb-2e7a-4882-96e3-18ac2e8998f8"
      },
      "outputs": [
        {
          "output_type": "stream",
          "name": "stdout",
          "text": [
            "feature shape = torch.Size([8, 512, 7, 7])\n",
            "feature_reshape shape = torch.Size([8, 25088])\n",
            "out shape = torch.Size([8, 1000])\n",
            "result shape torch.Size([8, 1000])\n"
          ]
        }
      ],
      "source": [
        "import torch\n",
        "import torch.nn as nn\n",
        "\n",
        "class VGGNet11(nn.Module):\n",
        "    def __init__(self):\n",
        "        super(VGGNet11, self).__init__()\n",
        "\n",
        "        self.feature = nn.Sequential(\n",
        "            nn.Conv2d(in_channels=3, out_channels=64, kernel_size=3, padding=1, stride=1),\n",
        "            nn.ReLU(),\n",
        "            nn.MaxPool2d(kernel_size=2, stride=2),\n",
        "\n",
        "            nn.Conv2d(in_channels=64, out_channels=128, kernel_size=3, padding=1, stride=1),\n",
        "            nn.ReLU(),\n",
        "            nn.MaxPool2d(kernel_size=2, stride=2),\n",
        "\n",
        "            nn.Conv2d(in_channels=128, out_channels=256, kernel_size=3, padding=1, stride=1),\n",
        "            nn.ReLU(),\n",
        "            nn.Conv2d(in_channels=256, out_channels=256, kernel_size=3, padding=1, stride=1),\n",
        "            nn.ReLU(),\n",
        "            nn.MaxPool2d(kernel_size=2, stride=2),\n",
        "\n",
        "            nn.Conv2d(in_channels=256, out_channels=512, kernel_size=3, padding=1, stride=1),\n",
        "            nn.ReLU(),\n",
        "            nn.Conv2d(in_channels=512, out_channels=512, kernel_size=3, padding=1, stride=1),\n",
        "            nn.ReLU(),\n",
        "            nn.MaxPool2d(kernel_size=2, stride=2),\n",
        "\n",
        "            nn.Conv2d(in_channels=512, out_channels=512, kernel_size=3, padding=1, stride=1),\n",
        "            nn.ReLU(),\n",
        "            nn.Conv2d(in_channels=512, out_channels=512, kernel_size=3, padding=1, stride=1),\n",
        "            nn.ReLU(),\n",
        "            nn.MaxPool2d(kernel_size=2, stride=2)\n",
        "        )\n",
        "\n",
        "        self.classifier = nn.Sequential(\n",
        "            nn.Linear(in_features=25088, out_features=4096),\n",
        "            nn.ReLU(),\n",
        "            nn.Linear(in_features=4096, out_features=4096),\n",
        "            nn.ReLU(),\n",
        "            nn.Linear(in_features=4096, out_features=1000),\n",
        "        )\n",
        "\n",
        "    def forward(self, x):\n",
        "        feature = self.feature(x)\n",
        "        print(f\"feature shape = {feature.shape}\")\n",
        "        feature_reshape = feature.view(feature.shape[0], -1)\n",
        "        print(f\"feature_reshape shape = {feature_reshape.shape}\")\n",
        "        out = self.classifier(feature_reshape)\n",
        "        print(f\"out shape = {out.shape}\")\n",
        "        return out\n",
        "\n",
        "test_shape = (8, 3, 224, 224)\n",
        "data = torch.randn(size=test_shape)\n",
        "\n",
        "result = VGGNet11()(data)\n",
        "print(f\"result shape {result.shape}\")"
      ]
    }
  ]
}
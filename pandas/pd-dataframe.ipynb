{
 "cells": [
  {
   "cell_type": "markdown",
   "metadata": {},
   "source": [
    "# 데이터 프레임"
   ]
  },
  {
   "cell_type": "markdown",
   "metadata": {},
   "source": [
    "- 2차원 데이터 구조이다.\n",
    "- 행과 열로 구성되어있다.\n",
    "- 각 열은 각각의 데이터 타입을 가진다."
   ]
  },
  {
   "cell_type": "markdown",
   "metadata": {},
   "source": [
    "### 1. 생성\n"
   ]
  },
  {
   "cell_type": "markdown",
   "metadata": {},
   "source": [
    "#### - list 를 통해 생성"
   ]
  },
  {
   "cell_type": "code",
   "execution_count": 35,
   "metadata": {},
   "outputs": [
    {
     "name": "stdout",
     "output_type": "stream",
     "text": [
      "   하나  둘  셋  넷  다섯\n",
      "0   1  2  3  4   5\n",
      "1   6  7  8  9  10\n"
     ]
    }
   ],
   "source": [
    "import pandas as pd\n",
    "\n",
    "data_list = [\n",
    "    [1, 2, 3, 4, 5],\n",
    "    [6, 7 , 8, 9, 10]\n",
    "]\n",
    "\n",
    "df_list = pd.DataFrame(data = data_list, columns = [\"하나\", \"둘\", \"셋\", \"넷\", \"다섯\"])\n",
    "print(df_list)"
   ]
  },
  {
   "cell_type": "markdown",
   "metadata": {},
   "source": [
    "#### - dictionary 를 통해 생성\n"
   ]
  },
  {
   "cell_type": "code",
   "execution_count": 38,
   "metadata": {},
   "outputs": [
    {
     "name": "stdout",
     "output_type": "stream",
     "text": [
      "    삼성전자  SK텔레콤\n",
      "0  10000  10500\n",
      "1  20000  20500\n",
      "2  30000  30500\n"
     ]
    }
   ],
   "source": [
    "data_dictionary = {\n",
    "    \"삼성전자\": [10000, 20000, 30000],\n",
    "    \"SK텔레콤\": [10500, 20500, 30500]\n",
    "}\n",
    "df_dictionary = pd.DataFrame(data_dictionary)\n",
    "print(df_dictionary)"
   ]
  },
  {
   "cell_type": "markdown",
   "metadata": {},
   "source": [
    "### 2. 속성"
   ]
  },
  {
   "cell_type": "markdown",
   "metadata": {},
   "source": [
    "DataFrame은 다음의 속성을 가진다.\n",
    "- index : index (기본 값을 RangeIndex\n",
    "- columns : column 명\n",
    "- values : numpy array 형식의 데이터 값\n",
    "- dtypes : column 별 데이터 타입\n",
    "- T : DataFrame을 전치(Transpose) - 행렬의 행과 열을 바꾸어 얻어낸 행렬"
   ]
  },
  {
   "cell_type": "code",
   "execution_count": 43,
   "metadata": {},
   "outputs": [
    {
     "name": "stdout",
     "output_type": "stream",
     "text": [
      "인덱스 : RangeIndex(start=0, stop=3, step=1)\n",
      "컬럼 : Index(['삼성전자', 'SK텔레콤'], dtype='object')\n",
      "값 : [[10000 10500]\n",
      " [20000 20500]\n",
      " [30000 30500]]\n",
      "데이터 타입 : 삼성전자     int64\n",
      "SK텔레콤    int64\n",
      "dtype: object\n",
      "전치 :            0      1      2\n",
      "삼성전자   10000  20000  30000\n",
      "SK텔레콤  10500  20500  30500\n"
     ]
    }
   ],
   "source": [
    "print(f\"인덱스 : {df_dictionary.index}\")\n",
    "print(f\"컬럼 : {df_dictionary.columns}\")\n",
    "print(f\"값 : {df_dictionary.values}\")\n",
    "print(f\"데이터 타입 : {df_dictionary.dtypes}\")\n",
    "print(f\"전치 : {df_dictionary.T}\")"
   ]
  },
  {
   "cell_type": "markdown",
   "metadata": {},
   "source": [
    "### 3. 조회"
   ]
  },
  {
   "cell_type": "markdown",
   "metadata": {},
   "source": [
    "- loc : index, 컬럼으로 데이터를 가져온다\n",
    "- iloc : 데이터 순서로 데이터를 가져온다"
   ]
  },
  {
   "cell_type": "code",
   "execution_count": 13,
   "metadata": {},
   "outputs": [
    {
     "name": "stdout",
     "output_type": "stream",
     "text": [
      "loc : \n",
      "0    10000\n",
      "1    20000\n",
      "2    30000\n",
      "Name: 삼성전자, dtype: int64\n",
      "iloc : \n",
      "10000\n"
     ]
    }
   ],
   "source": [
    "print(f\"loc : \\n{df_dictionary.loc[:, '삼성전자']}\")\n",
    "print(f\"iloc : \\n{df_dictionary.iloc[0, 0]}\")\n"
   ]
  },
  {
   "cell_type": "markdown",
   "metadata": {},
   "source": [
    "- 특정 컬럼 조회"
   ]
  },
  {
   "cell_type": "code",
   "execution_count": 32,
   "metadata": {},
   "outputs": [
    {
     "name": "stdout",
     "output_type": "stream",
     "text": [
      "컬럼 조회 : \n",
      "0    10500\n",
      "1    20500\n",
      "2    30500\n",
      "Name: SK텔레콤, dtype: int64\n",
      "컬럼 속성으로 조회 : \n",
      "0    10500\n",
      "1    20500\n",
      "2    30500\n",
      "Name: SK텔레콤, dtype: int64\n"
     ]
    }
   ],
   "source": [
    "print(f\"컬럼 조회 : \\n{df_dictionary['SK텔레콤']}\")\n",
    "print(f\"컬럼 속성으로 조회 : \\n{df_dictionary.SK텔레콤}\")"
   ]
  },
  {
   "cell_type": "markdown",
   "metadata": {},
   "source": [
    "### 3. Index 지정"
   ]
  },
  {
   "cell_type": "code",
   "execution_count": 56,
   "metadata": {},
   "outputs": [
    {
     "name": "stdout",
     "output_type": "stream",
     "text": [
      "<bound method DataFrame.__len__ of     삼성전자  SK텔레콤\n",
      "a  10000  10500\n",
      "b  20000  20500\n",
      "c  30000  30500>\n",
      "    삼성전자  SK텔레콤\n",
      "a  10000  10500\n",
      "b  20000  20500\n",
      "c  30000  30500\n"
     ]
    }
   ],
   "source": [
    "df_dictionary.index = list(\"abc\")\n",
    "print(df_dictionary)"
   ]
  },
  {
   "cell_type": "markdown",
   "metadata": {},
   "source": [
    "### 4. 컬럼 다루기"
   ]
  },
  {
   "cell_type": "markdown",
   "metadata": {},
   "source": [
    "DataFrame에 Key 값으로 column의 이름을 지정하여 column을 선택할 수 있다.\n",
    "\n",
    "1개의 column을 가져올 수 있으며, <b>1개의 column 선택시 Series</b>가 된다."
   ]
  },
  {
   "cell_type": "code",
   "execution_count": 110,
   "metadata": {},
   "outputs": [
    {
     "name": "stdout",
     "output_type": "stream",
     "text": [
      "a    10000\n",
      "b    20000\n",
      "c    30000\n",
      "Name: 삼성전자, dtype: int64\n",
      "<class 'pandas.core.series.Series'>\n"
     ]
    }
   ],
   "source": [
    "print(df_dictionary[\"삼성전자\"])\n",
    "print(type(df_dictionary[\"삼성전자\"]))"
   ]
  },
  {
   "cell_type": "markdown",
   "metadata": {},
   "source": [
    "2개 이상의 column 선택은 fancy indexing으로 가능하다."
   ]
  },
  {
   "cell_type": "code",
   "execution_count": 118,
   "metadata": {},
   "outputs": [
    {
     "name": "stdout",
     "output_type": "stream",
     "text": [
      "    삼성전자  SK텔레콤\n",
      "a  10000  10500\n",
      "b  20000  20500\n",
      "c  30000  30500\n",
      "<class 'pandas.core.frame.DataFrame'>\n",
      "a    10000\n",
      "b    20000\n",
      "c    30000\n",
      "Name: 삼성전자, dtype: int64\n"
     ]
    }
   ],
   "source": [
    "fancy_indexing = df_dictionary[[\"삼성전자\", \"SK텔레콤\"]]\n",
    "print(fancy_indexing)\n",
    "print(type(fancy_indexing))\n",
    "print(df_dictionary.loc[:, \"삼성전자\"])\n"
   ]
  },
  {
   "cell_type": "markdown",
   "metadata": {},
   "source": [
    "### 5. 시리즈, 데이터 프레임 확장"
   ]
  },
  {
   "cell_type": "markdown",
   "metadata": {},
   "source": [
    "#### 1) 시리즈 확장"
   ]
  },
  {
   "cell_type": "code",
   "execution_count": 64,
   "metadata": {},
   "outputs": [
    {
     "name": "stdout",
     "output_type": "stream",
     "text": [
      "axis 0 :\n",
      "1     1\n",
      "2     2\n",
      "3     3\n",
      "4     4\n",
      "5     5\n",
      "0     6\n",
      "1     7\n",
      "2     8\n",
      "3     9\n",
      "4    10\n",
      "dtype: int64\n"
     ]
    }
   ],
   "source": [
    "import pandas as pd\n",
    "\n",
    "series_concat_1 = pd.Series([1, 2, 3, 4, 5], index = [1, 2, 3, 4, 5])\n",
    "series_concat_2 = pd.Series([6, 7, 8, 9, 10])\n",
    "print(f\"axis 0 :\\n{pd.concat([series_concat_1, series_concat_2])}\") # axis 값이 0 이기 때문에"
   ]
  },
  {
   "cell_type": "markdown",
   "metadata": {},
   "source": [
    "기본 axis 값이 0 이기 때문에 행방향으로 합쳐졌다."
   ]
  },
  {
   "cell_type": "code",
   "execution_count": 68,
   "metadata": {},
   "outputs": [
    {
     "name": "stdout",
     "output_type": "stream",
     "text": [
      "axis = 1:\n",
      "     0     1\n",
      "1  1.0   7.0\n",
      "2  2.0   8.0\n",
      "3  3.0   9.0\n",
      "4  4.0  10.0\n",
      "5  5.0   NaN\n",
      "0  NaN   6.0\n"
     ]
    }
   ],
   "source": [
    "print(f\"axis = 1:\\n{pd.concat([series_concat_1, series_concat_2], axis = 1)}\")"
   ]
  },
  {
   "cell_type": "markdown",
   "metadata": {},
   "source": [
    "첫번째 시리즈를 기준으로 axis 1 방향으로 합쳐진 후 인덱스가 일치하지 않는 행의 경우 추가된다.<br>\n",
    "아래는 순서를 바꿔서 출력해보았다."
   ]
  },
  {
   "cell_type": "code",
   "execution_count": 87,
   "metadata": {},
   "outputs": [
    {
     "name": "stdout",
     "output_type": "stream",
     "text": [
      "axis = 1:\n",
      "      0    1\n",
      "0   6.0  NaN\n",
      "1   7.0  1.0\n",
      "2   8.0  2.0\n",
      "3   9.0  3.0\n",
      "4  10.0  4.0\n",
      "5   NaN  5.0\n"
     ]
    }
   ],
   "source": [
    "print(f\"axis = 1:\\n{pd.concat([series_concat_2, series_concat_1], axis = 1)}\")"
   ]
  },
  {
   "cell_type": "markdown",
   "metadata": {},
   "source": [
    "join으로 집합 연산을 할 수 있다. default는 \"outer\"이다."
   ]
  },
  {
   "cell_type": "code",
   "execution_count": 88,
   "metadata": {},
   "outputs": [
    {
     "name": "stdout",
     "output_type": "stream",
     "text": [
      "axis = 1:\n",
      "    0  1\n",
      "1   7  1\n",
      "2   8  2\n",
      "3   9  3\n",
      "4  10  4\n"
     ]
    }
   ],
   "source": [
    "# inner 교집합\n",
    "print(f\"axis = 1:\\n{pd.concat([series_concat_2, series_concat_1], axis = 1, join = 'inner')}\")"
   ]
  },
  {
   "cell_type": "code",
   "execution_count": 90,
   "metadata": {},
   "outputs": [
    {
     "name": "stdout",
     "output_type": "stream",
     "text": [
      "axis = 1:\n",
      "      0    1\n",
      "0   6.0  NaN\n",
      "1   7.0  1.0\n",
      "2   8.0  2.0\n",
      "3   9.0  3.0\n",
      "4  10.0  4.0\n",
      "5   NaN  5.0\n"
     ]
    }
   ],
   "source": [
    "# outer\n",
    "print(f\"axis = 1:\\n{pd.concat([series_concat_2, series_concat_1], axis = 1, join = 'outer')}\")"
   ]
  },
  {
   "cell_type": "markdown",
   "metadata": {},
   "source": [
    "### 6. 연산"
   ]
  },
  {
   "cell_type": "markdown",
   "metadata": {},
   "source": [
    "#### 1) 시리즈 연산"
   ]
  },
  {
   "cell_type": "markdown",
   "metadata": {},
   "source": [
    "- 사칙연산"
   ]
  },
  {
   "cell_type": "code",
   "execution_count": 78,
   "metadata": {},
   "outputs": [
    {
     "name": "stdout",
     "output_type": "stream",
     "text": [
      "더하기:\n",
      "0    3\n",
      "1    4\n",
      "2    5\n",
      "3    6\n",
      "4    7\n",
      "dtype: int64\n",
      "빼기:\n",
      "0   -1\n",
      "1    0\n",
      "2    1\n",
      "3    2\n",
      "4    3\n",
      "dtype: int64\n",
      "곱하기:\n",
      "0     2\n",
      "1     4\n",
      "2     6\n",
      "3     8\n",
      "4    10\n",
      "dtype: int64\n",
      "나누기:\n",
      "0    0.5\n",
      "1    1.0\n",
      "2    1.5\n",
      "3    2.0\n",
      "4    2.5\n",
      "dtype: float64\n"
     ]
    }
   ],
   "source": [
    "series_op = pd.Series([1, 2, 3, 4, 5])\n",
    "print(f\"더하기:\\n{series_op + 2}\")\n",
    "print(f\"빼기:\\n{series_op - 2}\")\n",
    "print(f\"곱하기:\\n{series_op * 2}\")\n",
    "print(f\"나누기:\\n{series_op / 2}\")"
   ]
  },
  {
   "cell_type": "markdown",
   "metadata": {},
   "source": [
    "- 시리즈 연산"
   ]
  },
  {
   "cell_type": "code",
   "execution_count": 81,
   "metadata": {},
   "outputs": [
    {
     "name": "stdout",
     "output_type": "stream",
     "text": [
      "시리즈 더하기:\n",
      "0    2\n",
      "1    3\n",
      "2    4\n",
      "3    5\n",
      "4    6\n",
      "dtype: int64\n",
      "시리즈 빼기:\n",
      "0    0\n",
      "1    1\n",
      "2    2\n",
      "3    3\n",
      "4    4\n",
      "dtype: int64\n",
      "시리즈 곱하기:\n",
      "0    1\n",
      "1    2\n",
      "2    3\n",
      "3    4\n",
      "4    5\n",
      "dtype: int64\n",
      "시리즈 나누기:\n",
      "0    1.0\n",
      "1    2.0\n",
      "2    3.0\n",
      "3    4.0\n",
      "4    5.0\n",
      "dtype: float64\n"
     ]
    }
   ],
   "source": [
    "series_op_2 = pd.Series([1, 1, 1, 1, 1])\n",
    "print(f\"시리즈 더하기:\\n{series_op + series_op_2}\")\n",
    "print(f\"시리즈 빼기:\\n{series_op - series_op_2}\")\n",
    "print(f\"시리즈 곱하기:\\n{series_op * series_op_2}\")\n",
    "print(f\"시리즈 나누기:\\n{series_op / series_op_2}\")"
   ]
  },
  {
   "cell_type": "markdown",
   "metadata": {},
   "source": [
    "#### 2) 데이터 프레임 연산"
   ]
  },
  {
   "cell_type": "markdown",
   "metadata": {},
   "source": [
    "- concat : 그냥 가져다 붙이는 경우\n",
    "- merge : 공통된 컬럼이나 인덱스가 있는 경우"
   ]
  },
  {
   "cell_type": "code",
   "execution_count": 91,
   "metadata": {},
   "outputs": [],
   "source": [
    "df_1 = pd.DataFrame({'a':['a0','a1','a2','a3'],\n",
    "                   'b':['b0','b1','b2','b3'],\n",
    "                   'c':['c0','c1','c2','c3']},\n",
    "                  index = [0,1,2,3])\n",
    "df_2 = pd.DataFrame({'a':['a2','a3','a4','a5'],\n",
    "                   'b':['b2','b3','b4','b5'],\n",
    "                   'c':['c2','c3','c4','c5'],\n",
    "                   'd':['d2','d3','d4','d5']},\n",
    "                   index = [2,3,4,5])"
   ]
  },
  {
   "cell_type": "markdown",
   "metadata": {},
   "source": [
    "concat 연산 (axis 0)"
   ]
  },
  {
   "cell_type": "code",
   "execution_count": 221,
   "metadata": {},
   "outputs": [
    {
     "name": "stdout",
     "output_type": "stream",
     "text": [
      "    a   b   c    d\n",
      "0  a0  b0  c0  NaN\n",
      "1  a1  b1  c1  NaN\n",
      "2  a2  b2  c2  NaN\n",
      "3  a3  b3  c3  NaN\n",
      "2  a2  b2  c2   d2\n",
      "3  a3  b3  c3   d3\n",
      "4  a4  b4  c4   d4\n",
      "5  a5  b5  c5   d5\n"
     ]
    }
   ],
   "source": [
    "concat_0 = pd.concat([df_1, df_2])\n",
    "print(concat_0)"
   ]
  },
  {
   "cell_type": "markdown",
   "metadata": {},
   "source": [
    "df1 기준으로 없는 열은 NaN 값이 채워진다.<br>\n",
    "다음은 axis 1 기준으로 concat 해보았다."
   ]
  },
  {
   "cell_type": "code",
   "execution_count": 147,
   "metadata": {},
   "outputs": [
    {
     "name": "stdout",
     "output_type": "stream",
     "text": [
      "     a    b    c    a    b    c    d\n",
      "0   a0   b0   c0  NaN  NaN  NaN  NaN\n",
      "1   a1   b1   c1  NaN  NaN  NaN  NaN\n",
      "2   a2   b2   c2   a2   b2   c2   d2\n",
      "3   a3   b3   c3   a3   b3   c3   d3\n",
      "4  NaN  NaN  NaN   a4   b4   c4   d4\n",
      "5  NaN  NaN  NaN   a5   b5   c5   d5\n"
     ]
    }
   ],
   "source": [
    "concat_1 = pd.concat([df_1, df_2], axis = 1)\n",
    "print(concat_1)"
   ]
  },
  {
   "cell_type": "markdown",
   "metadata": {},
   "source": [
    "인덱스 기준으로 합쳐졌으며 인덱스에 해당하는 값이 없는 경우 NaN으로 채워진다."
   ]
  },
  {
   "cell_type": "markdown",
   "metadata": {},
   "source": [
    "### 7. 결측치 처리"
   ]
  },
  {
   "cell_type": "markdown",
   "metadata": {},
   "source": [
    "- 제거 : dropna\n",
    "- 대체 : filna, interpolate"
   ]
  },
  {
   "cell_type": "markdown",
   "metadata": {},
   "source": [
    "#### dropna"
   ]
  },
  {
   "cell_type": "code",
   "execution_count": 120,
   "metadata": {},
   "outputs": [
    {
     "name": "stdout",
     "output_type": "stream",
     "text": [
      "<axis 0>:\n",
      "    a   b   c   d\n",
      "2  a2  b2  c2  d2\n",
      "3  a3  b3  c3  d3\n",
      "4  a4  b4  c4  d4\n",
      "5  a5  b5  c5  d5\n",
      "<axis 1>:\n",
      "    a   b   c\n",
      "0  a0  b0  c0\n",
      "1  a1  b1  c1\n",
      "2  a2  b2  c2\n",
      "3  a3  b3  c3\n",
      "2  a2  b2  c2\n",
      "3  a3  b3  c3\n",
      "4  a4  b4  c4\n",
      "5  a5  b5  c5\n"
     ]
    }
   ],
   "source": [
    "import numpy as np\n",
    "\n",
    "df_na = pd.concat([df_1, df_2])\n",
    "print(f\"<axis 0>:\\n{df_na.dropna()}\") # 결측값이 있는 행 제거\n",
    "print(f\"<axis 1>:\\n{df_na.dropna(axis = 1)}\") # 결측값이 있는 열 제거\n"
   ]
  },
  {
   "cell_type": "markdown",
   "metadata": {},
   "source": [
    "#### filna"
   ]
  },
  {
   "cell_type": "markdown",
   "metadata": {},
   "source": [
    "값 대체"
   ]
  },
  {
   "cell_type": "code",
   "execution_count": 123,
   "metadata": {},
   "outputs": [
    {
     "name": "stdout",
     "output_type": "stream",
     "text": [
      "<axis 0>:\n",
      "    a   b   c   d\n",
      "0  a0  b0  c0   0\n",
      "1  a1  b1  c1   0\n",
      "2  a2  b2  c2   0\n",
      "3  a3  b3  c3   0\n",
      "2  a2  b2  c2  d2\n",
      "3  a3  b3  c3  d3\n",
      "4  a4  b4  c4  d4\n",
      "5  a5  b5  c5  d5\n",
      "<axis 1>:\n",
      "    a   b   c   d\n",
      "0  a0  b0  c0   0\n",
      "1  a1  b1  c1   0\n",
      "2  a2  b2  c2   0\n",
      "3  a3  b3  c3   0\n",
      "2  a2  b2  c2  d2\n",
      "3  a3  b3  c3  d3\n",
      "4  a4  b4  c4  d4\n",
      "5  a5  b5  c5  d5\n"
     ]
    }
   ],
   "source": [
    "df_na = pd.concat([df_1, df_2])\n",
    "print(f\"<axis 0>:\\n{df_na.fillna(0)}\")\n",
    "print(f\"<axis 1>:\\n{df_na.fillna(0, axis = 1)}\")"
   ]
  },
  {
   "cell_type": "markdown",
   "metadata": {},
   "source": [
    "방향에 해당하는 값으로 대체"
   ]
  },
  {
   "cell_type": "code",
   "execution_count": 145,
   "metadata": {},
   "outputs": [
    {
     "name": "stdout",
     "output_type": "stream",
     "text": [
      "앞의 값으로 채우기 :     a   b   c    d\n",
      "0  a0  b0  c0  NaN\n",
      "1  a1  b1  c1  NaN\n",
      "2  a2  b2  c2  NaN\n",
      "3  a3  b3  c3  NaN\n",
      "2  a2  b2  c2   d2\n",
      "3  a3  b3  c3   d3\n",
      "4  a4  b4  c4   d4\n",
      "5  a5  b5  c5   d5\n",
      "뒤의 값으로 채우기 :     a   b   c   d\n",
      "0  a0  b0  c0  d2\n",
      "1  a1  b1  c1  d2\n",
      "2  a2  b2  c2  d2\n",
      "3  a3  b3  c3  d2\n",
      "2  a2  b2  c2  d2\n",
      "3  a3  b3  c3  d3\n",
      "4  a4  b4  c4  d4\n",
      "5  a5  b5  c5  d5\n"
     ]
    }
   ],
   "source": [
    "df_na = pd.concat([df_1, df_2])\n",
    "df_ffill = df_na.fillna(method = \"ffill\")\n",
    "df_bfill = df_na.fillna(method = \"bfill\")\n",
    "print(f\"앞의 값으로 채우기 : {df_ffill}\") # 첫 행부터는 값이 없으므로 그대로 결측치값이 남음\n",
    "print(f\"뒤의 값으로 채우기 : {df_bfill}\")"
   ]
  },
  {
   "cell_type": "markdown",
   "metadata": {},
   "source": [
    "앞/뒤 방향으로 결측값 채우는 횟수를 제한하기"
   ]
  },
  {
   "cell_type": "code",
   "execution_count": 146,
   "metadata": {},
   "outputs": [
    {
     "name": "stdout",
     "output_type": "stream",
     "text": [
      "뒤의 값으로 2개까지만 채우기 :     a   b   c    d\n",
      "0  a0  b0  c0  NaN\n",
      "1  a1  b1  c1  NaN\n",
      "2  a2  b2  c2   d2\n",
      "3  a3  b3  c3   d2\n",
      "2  a2  b2  c2   d2\n",
      "3  a3  b3  c3   d3\n",
      "4  a4  b4  c4   d4\n",
      "5  a5  b5  c5   d5\n"
     ]
    }
   ],
   "source": [
    "df_na = pd.concat([df_1, df_2])\n",
    "df_b_limmit = df_na.fillna(method = \"bfill\", limit = 2)\n",
    "print(f\"뒤의 값으로 2개까지만 채우기 : {df_b_limmit}\")"
   ]
  },
  {
   "cell_type": "markdown",
   "metadata": {},
   "source": [
    "결측값을 변수별 평균으로 대체하기"
   ]
  },
  {
   "cell_type": "code",
   "execution_count": 158,
   "metadata": {},
   "outputs": [
    {
     "name": "stdout",
     "output_type": "stream",
     "text": [
      "평균값 시리즈 :\n",
      "a     2.500000\n",
      "b     5.500000\n",
      "c     8.500000\n",
      "d    11.666667\n",
      "e    14.500000\n",
      "dtype: float64\n"
     ]
    },
    {
     "data": {
      "text/html": [
       "<div>\n",
       "<style scoped>\n",
       "    .dataframe tbody tr th:only-of-type {\n",
       "        vertical-align: middle;\n",
       "    }\n",
       "\n",
       "    .dataframe tbody tr th {\n",
       "        vertical-align: top;\n",
       "    }\n",
       "\n",
       "    .dataframe thead th {\n",
       "        text-align: right;\n",
       "    }\n",
       "</style>\n",
       "<table border=\"1\" class=\"dataframe\">\n",
       "  <thead>\n",
       "    <tr style=\"text-align: right;\">\n",
       "      <th></th>\n",
       "      <th>a</th>\n",
       "      <th>b</th>\n",
       "      <th>c</th>\n",
       "      <th>d</th>\n",
       "      <th>e</th>\n",
       "    </tr>\n",
       "  </thead>\n",
       "  <tbody>\n",
       "    <tr>\n",
       "      <th>0</th>\n",
       "      <td>1</td>\n",
       "      <td>4.0</td>\n",
       "      <td>7</td>\n",
       "      <td>10.000000</td>\n",
       "      <td>13</td>\n",
       "    </tr>\n",
       "    <tr>\n",
       "      <th>1</th>\n",
       "      <td>2</td>\n",
       "      <td>5.5</td>\n",
       "      <td>8</td>\n",
       "      <td>11.666667</td>\n",
       "      <td>14</td>\n",
       "    </tr>\n",
       "    <tr>\n",
       "      <th>2</th>\n",
       "      <td>3</td>\n",
       "      <td>5.5</td>\n",
       "      <td>9</td>\n",
       "      <td>12.000000</td>\n",
       "      <td>15</td>\n",
       "    </tr>\n",
       "    <tr>\n",
       "      <th>3</th>\n",
       "      <td>4</td>\n",
       "      <td>7.0</td>\n",
       "      <td>10</td>\n",
       "      <td>13.000000</td>\n",
       "      <td>16</td>\n",
       "    </tr>\n",
       "  </tbody>\n",
       "</table>\n",
       "</div>"
      ],
      "text/plain": [
       "   a    b   c          d   e\n",
       "0  1  4.0   7  10.000000  13\n",
       "1  2  5.5   8  11.666667  14\n",
       "2  3  5.5   9  12.000000  15\n",
       "3  4  7.0  10  13.000000  16"
      ]
     },
     "execution_count": 158,
     "metadata": {},
     "output_type": "execute_result"
    }
   ],
   "source": [
    "df_na = pd.DataFrame(\n",
    "    {\n",
    "        \"a\": [1, 2, 3, 4],\n",
    "        \"b\": [4, float('NaN'), float('NaN'), 7],\n",
    "        \"c\": [7, 8, 9, 10],\n",
    "        \"d\": [10, float('nan'), 12, 13],\n",
    "        \"e\": [13, 14, 15, 16]\n",
    "    }\n",
    ")\n",
    "df_m: pd.Series = df_na.mean()\n",
    "print(f\"평균값 시리즈 :\\n{df_m}\")\n",
    "df_na.fillna(df_m)"
   ]
  },
  {
   "cell_type": "markdown",
   "metadata": {},
   "source": [
    "특정 컬럼 평균으로 대체하기"
   ]
  },
  {
   "cell_type": "code",
   "execution_count": 188,
   "metadata": {},
   "outputs": [
    {
     "name": "stdout",
     "output_type": "stream",
     "text": [
      "1개 열 :\n",
      "   a    b   c     d   e\n",
      "0  1  4.0   7  10.0  13\n",
      "1  2  2.5   8   2.5  14\n",
      "2  3  2.5   9  12.0  15\n",
      "3  4  7.0  10  13.0  16\n",
      "여러개 열 :\n",
      "   a    b   c     d   e\n",
      "0  1  4.0   7  10.0  13\n",
      "1  2  5.5   8   NaN  14\n",
      "2  3  5.5   9  12.0  15\n",
      "3  4  7.0  10  13.0  16\n"
     ]
    }
   ],
   "source": [
    "df_na = pd.DataFrame(\n",
    "    {\n",
    "        \"a\": [1, 2, 3, 4],\n",
    "        \"b\": [4, float('NaN'), float('NaN'), 7],\n",
    "        \"c\": [7, 8, 9, 10],\n",
    "        \"d\": [10, float('nan'), 12, 13],\n",
    "        \"e\": [13, 14, 15, 16]\n",
    "    }\n",
    ")\n",
    "df_m: pd.Series = df_na.mean()\n",
    "print(f\"1개 열 :\\n{df_na.fillna(df_m['a'])}\")\n",
    "print(f\"여러개 열 :\\n{df_na.fillna(df_m['a':'b'])}\")\n"
   ]
  },
  {
   "cell_type": "markdown",
   "metadata": {},
   "source": [
    "결측값을 다른 변수의 값으로 대체"
   ]
  },
  {
   "cell_type": "code",
   "execution_count": 190,
   "metadata": {},
   "outputs": [
    {
     "data": {
      "text/html": [
       "<div>\n",
       "<style scoped>\n",
       "    .dataframe tbody tr th:only-of-type {\n",
       "        vertical-align: middle;\n",
       "    }\n",
       "\n",
       "    .dataframe tbody tr th {\n",
       "        vertical-align: top;\n",
       "    }\n",
       "\n",
       "    .dataframe thead th {\n",
       "        text-align: right;\n",
       "    }\n",
       "</style>\n",
       "<table border=\"1\" class=\"dataframe\">\n",
       "  <thead>\n",
       "    <tr style=\"text-align: right;\">\n",
       "      <th></th>\n",
       "      <th>a</th>\n",
       "      <th>b</th>\n",
       "      <th>c</th>\n",
       "      <th>d</th>\n",
       "      <th>e</th>\n",
       "      <th>b_new</th>\n",
       "    </tr>\n",
       "  </thead>\n",
       "  <tbody>\n",
       "    <tr>\n",
       "      <th>0</th>\n",
       "      <td>1</td>\n",
       "      <td>4.0</td>\n",
       "      <td>7</td>\n",
       "      <td>10.0</td>\n",
       "      <td>13</td>\n",
       "      <td>4.0</td>\n",
       "    </tr>\n",
       "    <tr>\n",
       "      <th>1</th>\n",
       "      <td>2</td>\n",
       "      <td>NaN</td>\n",
       "      <td>8</td>\n",
       "      <td>NaN</td>\n",
       "      <td>14</td>\n",
       "      <td>2.0</td>\n",
       "    </tr>\n",
       "    <tr>\n",
       "      <th>2</th>\n",
       "      <td>3</td>\n",
       "      <td>NaN</td>\n",
       "      <td>9</td>\n",
       "      <td>12.0</td>\n",
       "      <td>15</td>\n",
       "      <td>3.0</td>\n",
       "    </tr>\n",
       "    <tr>\n",
       "      <th>3</th>\n",
       "      <td>4</td>\n",
       "      <td>7.0</td>\n",
       "      <td>10</td>\n",
       "      <td>13.0</td>\n",
       "      <td>16</td>\n",
       "      <td>7.0</td>\n",
       "    </tr>\n",
       "  </tbody>\n",
       "</table>\n",
       "</div>"
      ],
      "text/plain": [
       "   a    b   c     d   e  b_new\n",
       "0  1  4.0   7  10.0  13    4.0\n",
       "1  2  NaN   8   NaN  14    2.0\n",
       "2  3  NaN   9  12.0  15    3.0\n",
       "3  4  7.0  10  13.0  16    7.0"
      ]
     },
     "execution_count": 190,
     "metadata": {},
     "output_type": "execute_result"
    }
   ],
   "source": [
    "df_na = pd.DataFrame(\n",
    "    {\n",
    "        \"a\": [1, 2, 3, 4],\n",
    "        \"b\": [4, float('NaN'), float('NaN'), 7],\n",
    "        \"c\": [7, 8, 9, 10],\n",
    "        \"d\": [10, float('nan'), 12, 13],\n",
    "        \"e\": [13, 14, 15, 16]\n",
    "    }\n",
    ")\n",
    "\n",
    "df_na[\"b_new\"] = np.where(pd.isnull(df_na[\"b\"]), df_na[\"a\"], df_na[\"b\"])\n",
    "df_na"
   ]
  },
  {
   "cell_type": "markdown",
   "metadata": {},
   "source": [
    "### interpolate"
   ]
  },
  {
   "cell_type": "markdown",
   "metadata": {},
   "source": [
    "데이터 결측치를 보간하여 대체"
   ]
  },
  {
   "cell_type": "code",
   "execution_count": 206,
   "metadata": {},
   "outputs": [],
   "source": [
    "df_interpolate = pd.DataFrame(\n",
    "    {\n",
    "        \"a\": [1, 6, 3, 4],\n",
    "        \"b\": [4, float('NaN'), 6, 7],\n",
    "        \"c\": [7, 8, 9, 10],\n",
    "        \"d\": [10, float('nan'), 12, 13],\n",
    "        \"e\": [13, 14, 15, 16]\n",
    "    }\n",
    ")"
   ]
  },
  {
   "cell_type": "markdown",
   "metadata": {},
   "source": [
    "선형 보간\n",
    "- [API reference](https://pandas.pydata.org/docs/reference/api/pandas.DataFrame.interpolate.html)"
   ]
  },
  {
   "cell_type": "code",
   "execution_count": 197,
   "metadata": {},
   "outputs": [
    {
     "name": "stdout",
     "output_type": "stream",
     "text": [
      "axis 0:\n",
      "   a    b   c     d   e\n",
      "0  1  4.0   7  10.0  13\n",
      "1  6  5.0   8  11.0  14\n",
      "2  3  6.0   9  12.0  15\n",
      "3  4  7.0  10  13.0  16\n",
      "axis 1:\n",
      "     a    b     c     d     e\n",
      "0  1.0  4.0   7.0  10.0  13.0\n",
      "1  6.0  7.0   8.0  11.0  14.0\n",
      "2  3.0  6.0   9.0  12.0  15.0\n",
      "3  4.0  7.0  10.0  13.0  16.0\n"
     ]
    }
   ],
   "source": [
    "print(f\"axis 0:\\n{df_interpolate.interpolate(axis = 0)}\") # method 기본값인 \"linear\", 값을 동일한 간격으로 처리\n",
    "print(f\"axis 1:\\n{df_interpolate.interpolate(axis = 1)}\")"
   ]
  },
  {
   "cell_type": "markdown",
   "metadata": {},
   "source": [
    "### 8. 중복 제거"
   ]
  },
  {
   "cell_type": "code",
   "execution_count": 222,
   "metadata": {},
   "outputs": [
    {
     "name": "stdout",
     "output_type": "stream",
     "text": [
      "중복 제거 전 :\n",
      "    a   b   c\n",
      "0  a0  b0  c0\n",
      "1  a1  b1  c1\n",
      "2  a2  b2  c2\n",
      "3  a3  b3  c3\n",
      "0  a0  b0  c0\n",
      "1  a1  b1  c1\n",
      "2  a2  b2  c2\n",
      "3  a3  b3  c3\n",
      "중복 제거 후 :\n",
      "    a   b   c\n",
      "0  a0  b0  c0\n",
      "1  a1  b1  c1\n",
      "2  a2  b2  c2\n",
      "3  a3  b3  c3\n",
      "id열 기준으로 중복 제거 :\n",
      "   id  name\n",
      "0   1     1\n",
      "1   2     2\n",
      "2   3     3\n",
      "3   4     4\n",
      "4   6     5\n",
      "7   8     8\n",
      "8   9     9\n",
      "9  10    10\n",
      "<class 'pandas.core.frame.DataFrame'>\n"
     ]
    }
   ],
   "source": [
    "df_duplicate = pd.concat([df_1, df_1])\n",
    "print(f\"중복 제거 전 :\\n{df_duplicate}\")\n",
    "\n",
    "df_duplicate_drop = pd.DataFrame(\n",
    "        {\n",
    "            'id': [1, 2, 3, 4, 6, 6, 6, 8, 9, 10],\n",
    "            'name': [1, 2, 3, 4, 5, 6, 7, 8, 9, 10],\n",
    "        }\n",
    "    ).drop_duplicates()\n",
    "print(f\"중복 제거 후 :\\n{df_duplicate.drop_duplicates()}\")\n",
    "\n",
    "# id열만 중복 제거하여 데이터 프레임으로 변환\n",
    "col_duplicate_drop = df_duplicate_drop.drop_duplicates(subset = \"id\", keep = \"first\") # keep : 'fisrt' - 중복 첫번째 행만 제외하고 삭제, 'last' - 중복 마지막 행만 제외하고 삭제, False - 중복되는 행을 모두 삭제\n",
    "print(f\"id열 기준으로 중복 제거 :\\n{col_duplicate_drop}\")"
   ]
  }
 ],
 "metadata": {
  "kernelspec": {
   "display_name": "ai2",
   "language": "python",
   "name": "python3"
  },
  "language_info": {
   "codemirror_mode": {
    "name": "ipython",
    "version": 3
   },
   "file_extension": ".py",
   "mimetype": "text/x-python",
   "name": "python",
   "nbconvert_exporter": "python",
   "pygments_lexer": "ipython3",
   "version": "3.11.4"
  },
  "orig_nbformat": 4
 },
 "nbformat": 4,
 "nbformat_minor": 2
}

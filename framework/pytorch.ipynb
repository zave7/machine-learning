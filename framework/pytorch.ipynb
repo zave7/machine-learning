{
  "cells": [
    {
      "cell_type": "markdown",
      "metadata": {
        "id": "S3KM0dE84HJx"
      },
      "source": [
        "# PyTorch"
      ]
    },
    {
      "cell_type": "markdown",
      "metadata": {
        "id": "DUWFqHBG4I9-"
      },
      "source": [
        "### Dataset"
      ]
    },
    {
      "cell_type": "code",
      "execution_count": 1,
      "metadata": {
        "colab": {
          "base_uri": "https://localhost:8080/"
        },
        "id": "z_8bM74W4CYd",
        "outputId": "8e38307b-42db-4c41-9d50-333af9a0b115"
      },
      "outputs": [
        {
          "name": "stdout",
          "output_type": "stream",
          "text": [
            "<class 'numpy.ndarray'> (2,) float64\n",
            "<class 'numpy.int64'> () int64\n"
          ]
        }
      ],
      "source": [
        "from sklearn.datasets import make_blobs\n",
        "import torch\n",
        "from torch.utils.data import TensorDataset\n",
        "\n",
        "n_sample = 100\n",
        "X, y = make_blobs(n_samples=n_sample, centers=2, n_features=2, cluster_std=0.7)\n",
        "\n",
        "dataset = TensorDataset(torch.FloatTensor(X), torch.FloatTensor(y))\n",
        "\n",
        "print(type(X[0]), X[0].shape, X[0].dtype)\n",
        "print(type(y[0]), y[0].shape, y[0].dtype)"
      ]
    },
    {
      "cell_type": "markdown",
      "metadata": {
        "id": "ERSSfvCB9sjR"
      },
      "source": [
        "### DataLoader"
      ]
    },
    {
      "cell_type": "code",
      "execution_count": 8,
      "metadata": {
        "colab": {
          "base_uri": "https://localhost:8080/"
        },
        "id": "EgRh6jhU9vX_",
        "outputId": "e05aa020-3472-43b2-db05-6b469c665487"
      },
      "outputs": [
        {
          "name": "stdout",
          "output_type": "stream",
          "text": [
            "<class 'torch.Tensor'> torch.Size([8, 2]) torch.float32\n",
            "<class 'torch.Tensor'> torch.Size([8]) torch.float32\n",
            "<class 'torch.Tensor'> torch.Size([8, 2]) torch.float32\n",
            "<class 'torch.Tensor'> torch.Size([8]) torch.float32\n",
            "<class 'torch.Tensor'> torch.Size([8, 2]) torch.float32\n",
            "<class 'torch.Tensor'> torch.Size([8]) torch.float32\n",
            "<class 'torch.Tensor'> torch.Size([8, 2]) torch.float32\n",
            "<class 'torch.Tensor'> torch.Size([8]) torch.float32\n",
            "<class 'torch.Tensor'> torch.Size([8, 2]) torch.float32\n",
            "<class 'torch.Tensor'> torch.Size([8]) torch.float32\n",
            "<class 'torch.Tensor'> torch.Size([8, 2]) torch.float32\n",
            "<class 'torch.Tensor'> torch.Size([8]) torch.float32\n",
            "<class 'torch.Tensor'> torch.Size([8, 2]) torch.float32\n",
            "<class 'torch.Tensor'> torch.Size([8]) torch.float32\n",
            "<class 'torch.Tensor'> torch.Size([8, 2]) torch.float32\n",
            "<class 'torch.Tensor'> torch.Size([8]) torch.float32\n",
            "<class 'torch.Tensor'> torch.Size([8, 2]) torch.float32\n",
            "<class 'torch.Tensor'> torch.Size([8]) torch.float32\n",
            "<class 'torch.Tensor'> torch.Size([8, 2]) torch.float32\n",
            "<class 'torch.Tensor'> torch.Size([8]) torch.float32\n",
            "<class 'torch.Tensor'> torch.Size([8, 2]) torch.float32\n",
            "<class 'torch.Tensor'> torch.Size([8]) torch.float32\n",
            "<class 'torch.Tensor'> torch.Size([8, 2]) torch.float32\n",
            "<class 'torch.Tensor'> torch.Size([8]) torch.float32\n",
            "<class 'torch.Tensor'> torch.Size([4, 2]) torch.float32\n",
            "<class 'torch.Tensor'> torch.Size([4]) torch.float32\n"
          ]
        }
      ],
      "source": [
        "from sklearn.datasets import make_blobs\n",
        "\n",
        "import torch\n",
        "from torch.utils.data import TensorDataset, DataLoader\n",
        "\n",
        "n_sample = 100\n",
        "X, y = make_blobs(n_samples=n_sample, centers=2, n_features=2, cluster_std=0.7)\n",
        "\n",
        "dataset = TensorDataset(torch.FloatTensor(X), torch.FloatTensor(y))\n",
        "\n",
        "BATCH_SIZE = 8 # 보통 2의 배수로 넣음\n",
        "data_loader = DataLoader(dataset, batch_size=BATCH_SIZE)\n",
        "\n",
        "for X_, y_ in data_loader:\n",
        "    print(type(X_), X_.shape, X_.dtype)\n",
        "    print(type(y_), y_.shape, y_.dtype)"
      ]
    },
    {
      "cell_type": "markdown",
      "metadata": {
        "id": "AXkMopUJ-yHo"
      },
      "source": [
        "### moon, batch 16"
      ]
    },
    {
      "cell_type": "code",
      "execution_count": 7,
      "metadata": {
        "colab": {
          "base_uri": "https://localhost:8080/"
        },
        "id": "bdFOEAQn-3Lj",
        "outputId": "59225d08-52b3-4e08-d3f4-f37e6317ff46"
      },
      "outputs": [
        {
          "name": "stdout",
          "output_type": "stream",
          "text": [
            "<torch.utils.data.dataset.TensorDataset object at 0x7c0855c853c0>\n"
          ]
        }
      ],
      "source": [
        "from sklearn.datasets import make_moons\n",
        "\n",
        "import torch\n",
        "from torch.utils.data import TensorDataset, DataLoader\n",
        "\n",
        "n = 100\n",
        "\n",
        "X, y = make_moons(n_samples=n)\n",
        "\n",
        "dataset = TensorDataset(torch.FloatTensor(X), torch.FloatTensor(y))\n",
        "print(dataset)"
      ]
    },
    {
      "cell_type": "markdown",
      "metadata": {
        "id": "jE034iA8ApbI"
      },
      "source": [
        "### Layer\n",
        "- fully connected"
      ]
    },
    {
      "cell_type": "code",
      "execution_count": 10,
      "metadata": {
        "colab": {
          "base_uri": "https://localhost:8080/"
        },
        "id": "vhUi812EBE0H",
        "outputId": "6c78780f-e19b-4faf-a069-3a321d5be916"
      },
      "outputs": [
        {
          "name": "stdout",
          "output_type": "stream",
          "text": [
            "torch.Size([4, 8])\n",
            "torch.Size([4])\n"
          ]
        }
      ],
      "source": [
        "import torch.nn as nn\n",
        "\n",
        "fc = nn.Linear(in_features=8, out_features=4)\n",
        "\n",
        "print(fc.weight.shape)\n",
        "print(fc.bias.shape)"
      ]
    },
    {
      "cell_type": "markdown",
      "metadata": {
        "id": "DFRWksREFRAP"
      },
      "source": [
        "### Sigmoid"
      ]
    },
    {
      "cell_type": "code",
      "execution_count": 12,
      "metadata": {
        "colab": {
          "base_uri": "https://localhost:8080/"
        },
        "id": "4geECuVzDXRt",
        "outputId": "c886d32b-3adf-4140-a3b1-61cfcf2d3c7d"
      },
      "outputs": [
        {
          "name": "stdout",
          "output_type": "stream",
          "text": [
            "===== Test Input =====\n",
            "tensor([[-0.3560, -0.6499, -0.1074],\n",
            "        [ 0.8543,  1.1365,  1.7497]]) \n",
            "\n",
            "===== nn.Sigmoid Output =====\n",
            "tensor([[0.4119, 0.3430, 0.4732],\n",
            "        [0.7015, 0.7570, 0.8519]]) \n",
            "\n",
            "===== Manual Computation =====\n",
            "tensor([[0.4119, 0.3430, 0.4732],\n",
            "        [0.7015, 0.7570, 0.8519]])\n"
          ]
        }
      ],
      "source": [
        "import torch\n",
        "import torch.nn as nn\n",
        "\n",
        "test_input = torch.randn(size=(2, 3))\n",
        "sigmoid = nn.Sigmoid()\n",
        "test_output = sigmoid(test_input)\n",
        "\n",
        "print(\"===== Test Input =====\")\n",
        "print(test_input, \"\\n\")\n",
        "\n",
        "print(\"===== nn.Sigmoid Output =====\")\n",
        "print(test_output, \"\\n\")\n",
        "\n",
        "print(\"===== Manual Computation =====\")\n",
        "print(1 / (1 + torch.exp(-test_input)))"
      ]
    },
    {
      "cell_type": "markdown",
      "metadata": {
        "id": "1Jhs72WjFSnj"
      },
      "source": [
        "### BCE Loss"
      ]
    },
    {
      "cell_type": "code",
      "execution_count": 15,
      "metadata": {
        "colab": {
          "base_uri": "https://localhost:8080/"
        },
        "id": "RF71cYHWFVYO",
        "outputId": "9cbcc3cc-a7cc-48bb-8385-216b3106145a"
      },
      "outputs": [
        {
          "name": "stdout",
          "output_type": "stream",
          "text": [
            "===== Test Input =====\n",
            "pred = tensor([0.8000])\n",
            "y = tensor([1.]) \n",
            "\n",
            "===== nn.BCELoss Output =====\n",
            "test_output = 0.2231435328722 \n",
            "\n",
            "===== Manual Computation =====\n",
            "tensor([0.2231])\n"
          ]
        }
      ],
      "source": [
        "import torch\n",
        "import torch.nn as nn\n",
        "\n",
        "test_pred = torch.tensor([0.8])\n",
        "test_y = torch.tensor([1.])\n",
        "\n",
        "loss_function = nn.BCELoss()\n",
        "test_output = loss_function(test_pred, test_y)\n",
        "\n",
        "print(\"===== Test Input =====\")\n",
        "print(f\"pred = {test_pred}\")\n",
        "print(f\"y = {test_y} \\n\")\n",
        "\n",
        "print(\"===== nn.BCELoss Output =====\")\n",
        "print(f\"test_output = {test_output} \\n\")\n",
        "\n",
        "print(\"===== Manual Computation =====\")\n",
        "print(-(test_y*torch.log(test_pred) + (1-test_y)*torch.log(1-test_pred)))"
      ]
    },
    {
      "cell_type": "markdown",
      "metadata": {
        "id": "pqrkA55BKFMu"
      },
      "source": [
        "### Model"
      ]
    },
    {
      "cell_type": "code",
      "execution_count": 17,
      "metadata": {
        "id": "iKI3NvXNKGll"
      },
      "outputs": [],
      "source": [
        "import torch.nn as nn\n",
        "\n",
        "class Model(nn.Module):\n",
        "\n",
        "  def __init__(self):\n",
        "    super(Model, self).__init_()\n",
        "\n",
        "  def forward(self, x):\n",
        "    pass"
      ]
    },
    {
      "cell_type": "markdown",
      "metadata": {
        "id": "v8bZdTVpqY3r"
      },
      "source": [
        "### R 10 space, neuron[5, 2, 1]"
      ]
    },
    {
      "cell_type": "code",
      "execution_count": 161,
      "metadata": {
        "colab": {
          "base_uri": "https://localhost:8080/"
        },
        "id": "9gJssd9nL0fJ",
        "outputId": "4e9046b1-942d-470f-d87a-f742064909a9"
      },
      "outputs": [
        {
          "name": "stdout",
          "output_type": "stream",
          "text": [
            "tensor([[0.5007],\n",
            "        [0.5015],\n",
            "        [0.5061],\n",
            "        [0.5016],\n",
            "        [0.5003],\n",
            "        [0.4965],\n",
            "        [0.5059],\n",
            "        [0.5003],\n",
            "        [0.4982],\n",
            "        [0.5016]], grad_fn=<SigmoidBackward0>)\n"
          ]
        }
      ],
      "source": [
        "import torch.nn as nn\n",
        "import torch\n",
        "\n",
        "class Model(nn.Module):\n",
        "\n",
        "  def __init__(self):\n",
        "    super(Model, self).__init__()\n",
        "    self.layer_1 = nn.Linear(in_features=10, out_features=5)\n",
        "    self.activation_1 = nn.Sigmoid()\n",
        "    self.layer_2 = nn.Linear(in_features=5, out_features=2)\n",
        "    self.activation_2 = nn.Sigmoid()\n",
        "    self.layer_3 = nn.Linear(in_features=2, out_features=1)\n",
        "    self.activation_3 = nn.Sigmoid()\n",
        "\n",
        "  def forward(self, x):\n",
        "    y_1 = self.layer_1(x)\n",
        "    y_2 = self.layer_2(self.activation_1(y_1))\n",
        "    y_3 = self.layer_3(self.activation_2(y_2))\n",
        "    return self.activation_3(y_3)\n",
        "\n",
        "model = Model()\n",
        "dataset = torch.FloatTensor(torch.randn(10, 10))\n",
        "y_hat = model(dataset)\n",
        "print(y_hat)\n"
      ]
    },
    {
      "cell_type": "markdown",
      "metadata": {
        "id": "l3g5Vs2Dq4Il"
      },
      "source": [
        "### Blobs Model"
      ]
    },
    {
      "cell_type": "code",
      "execution_count": 152,
      "metadata": {
        "id": "yJ9yBlbqq7C7"
      },
      "outputs": [],
      "source": [
        "from sklearn.datasets import make_blobs\n",
        "\n",
        "import torch\n",
        "import torch.nn as nn\n",
        "from torch.utils.data import TensorDataset, DataLoader\n",
        "\n",
        "n_sample = 100\n",
        "X, y = make_blobs(n_samples=n_sample, centers=2, n_features=2, cluster_std=0.7)\n",
        "dataset = TensorDataset(torch.FloatTensor(X), torch.FloatTensor(y))\n",
        "BATCH_SIZE = 10\n",
        "data_loader = DataLoader(dataset=dataset, batch_size=BATCH_SIZE)\n",
        "\n",
        "class BlobModel(nn.Module):\n",
        "\n",
        "  def __init__(self):\n",
        "    super(BlobModel, self).__init__()\n",
        "    self.layer_1 = nn.Linear(in_features=2, out_features=1)\n",
        "    self.activation = nn.Sigmoid()\n",
        "\n",
        "  def forward(self, x):\n",
        "    z = self.layer_1(x)\n",
        "    pred = self.activation(z)\n",
        "    return pred.view(-1)\n",
        "\n",
        "model = BlobModel()\n"
      ]
    },
    {
      "cell_type": "code",
      "execution_count": 162,
      "metadata": {
        "id": "WeMqVxRPvtgy"
      },
      "outputs": [],
      "source": [
        "from torch.optim import SGD\n",
        "\n",
        "LR = 0.1\n",
        "DEVICE = None\n",
        "if torch.cuda.is_available():\n",
        "  DEVICE = \"cuda\"\n",
        "elif torch.backends.mps.is_available():\n",
        "  DEVICE = \"mps\"\n",
        "else:\n",
        "  DEVICE = \"cpu\"\n",
        "\n",
        "model = BlobModel().to(DEVICE)\n",
        "loss_function = nn.BCELoss(reduction=\"mean\")\n",
        "optimizer = SGD(model.parameters(), lr=LR)"
      ]
    },
    {
      "cell_type": "markdown",
      "metadata": {
        "id": "JERHeUafw464"
      },
      "source": [
        "### Training"
      ]
    },
    {
      "cell_type": "code",
      "execution_count": 163,
      "metadata": {
        "colab": {
          "base_uri": "https://localhost:8080/"
        },
        "id": "RW1uAes6w5Pm",
        "outputId": "33ab5d4a-6246-4a7f-a94c-3a406774f8fa"
      },
      "outputs": [
        {
          "name": "stdout",
          "output_type": "stream",
          "text": [
            "Epoch: 1\n",
            "Loss: 0.2378\n",
            "\n",
            "Epoch: 2\n",
            "Loss: 0.0381\n",
            "\n",
            "Epoch: 3\n",
            "Loss: 0.0229\n",
            "\n",
            "Epoch: 4\n",
            "Loss: 0.0165\n",
            "\n",
            "Epoch: 5\n",
            "Loss: 0.0129\n",
            "\n",
            "Epoch: 6\n",
            "Loss: 0.0106\n",
            "\n",
            "Epoch: 7\n",
            "Loss: 0.0090\n",
            "\n",
            "Epoch: 8\n",
            "Loss: 0.0079\n",
            "\n",
            "Epoch: 9\n",
            "Loss: 0.0070\n",
            "\n",
            "Epoch: 10\n",
            "Loss: 0.0063\n",
            "\n"
          ]
        }
      ],
      "source": [
        "EPOCHS = 10\n",
        "e_list, accs = [], []\n",
        "for epoch in range(EPOCHS):\n",
        "  epoch_loss = 0.\n",
        "  n_corrects = 0\n",
        "  for X, y in data_loader:\n",
        "    X, y = X.to(DEVICE), y.to(DEVICE)\n",
        "\n",
        "    pred = model(X)\n",
        "    loss = loss_function(pred, y)\n",
        "\n",
        "    optimizer.zero_grad()\n",
        "    loss.backward()\n",
        "    optimizer.step()\n",
        "\n",
        "    epoch_loss += loss.item() * len(X)\n",
        "    proba = (pred > 0.5).type(torch.float)\n",
        "    n_corrects += (proba == y).sum().item()\n",
        "\n",
        "  epoch_loss /= n_sample\n",
        "  e_list.append(epoch_loss)\n",
        "  accs.append(n_corrects / n_sample)\n",
        "  print(f\"Epoch: {epoch + 1}\")\n",
        "  print(f\"Loss: {epoch_loss:.4f}\\n\")"
      ]
    },
    {
      "cell_type": "markdown",
      "metadata": {
        "id": "9HEEEcJ9z8l-"
      },
      "source": [
        "### Visualization"
      ]
    },
    {
      "cell_type": "code",
      "execution_count": 165,
      "metadata": {
        "colab": {
          "base_uri": "https://localhost:8080/",
          "height": 542
        },
        "id": "aJ_C1QS9z-uD",
        "outputId": "cb03f3f0-9965-49fa-c8a2-47a3d39ef15f"
      },
      "outputs": [
        {
          "data": {
            "image/png": "[encoded data removed]",
            "text/plain": [
              "<Figure size 600x600 with 2 Axes>"
            ]
          },
          "metadata": {},
          "output_type": "display_data"
        }
      ],
      "source": [
        "import matplotlib.pyplot as plt\n",
        "\n",
        "fig, axes = plt.subplots(figsize=(6, 6), nrows=2, ncols=1)\n",
        "axes[0].plot(range(len(e_list)), e_list)\n",
        "axes[1].plot(range(len(accs)), accs)\n",
        "axes[0].set_ylabel(\"BCE Loss\")\n",
        "axes[1].set_ylabel(\"Accuracy\")\n",
        "axes[1].set_xlabel(\"Epoch\")\n",
        "plt.show()"
      ]
    }
  ],
  "metadata": {
    "colab": {
      "provenance": []
    },
    "kernelspec": {
      "display_name": "Python 3",
      "name": "python3"
    },
    "language_info": {
      "codemirror_mode": {
        "name": "ipython",
        "version": 3
      },
      "file_extension": ".py",
      "mimetype": "text/x-python",
      "name": "python",
      "nbconvert_exporter": "python",
      "pygments_lexer": "ipython3",
      "version": "3.11.4"
    }
  },
  "nbformat": 4,
  "nbformat_minor": 0
}

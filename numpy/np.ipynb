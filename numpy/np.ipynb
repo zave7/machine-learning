{
 "cells": [
  {
   "cell_type": "markdown",
   "metadata": {},
   "source": [
    "# Numpy"
   ]
  },
  {
   "cell_type": "markdown",
   "metadata": {},
   "source": [
    "### 1. Vector Operations"
   ]
  },
  {
   "cell_type": "code",
   "execution_count": 12,
   "metadata": {},
   "outputs": [
    {
     "name": "stdout",
     "output_type": "stream",
     "text": [
      "plus list = [1, 2, 3, 4, 5, 6]\n",
      "plus vector = [5, 7, 9]\n",
      "plus vector (np) = [5 7 9]\n"
     ]
    }
   ],
   "source": [
    "import numpy as np\n",
    "\n",
    "# 파이썬 일반적인 더하기 연산\n",
    "u = [1, 2, 3]\n",
    "v = [4, 5, 6]\n",
    "print(f\"plus list = {u + v}\")\n",
    "\n",
    "# 벡터 덧셈 구현\n",
    "plus1 = [\n",
    "    u_val + v_val \n",
    "    for (u_val, v_val) in list(zip(u, v))\n",
    "]\n",
    "print(f\"plus vector = {plus1}\")\n",
    "\n",
    "# Numpy를 이용한 벡터 덧셈 (Numpy의 연산자 오버로딩)\n",
    "plus_np = np.array(u) + np.array(v)\n",
    "print(f\"plus vector (np) = {plus_np}\")"
   ]
  },
  {
   "cell_type": "markdown",
   "metadata": {},
   "source": [
    "### 2. Tensor"
   ]
  },
  {
   "cell_type": "code",
   "execution_count": 115,
   "metadata": {},
   "outputs": [
    {
     "name": "stdout",
     "output_type": "stream",
     "text": [
      "tensor shape: (2, 2, 0)\n",
      "tensor size: 0\n",
      "tensor shape: (2, 2, 1)\n",
      "tensor size: 4\n"
     ]
    }
   ],
   "source": [
    "import numpy as np\n",
    "\n",
    "empty_tensor = np.array([[[],[]],[[],[]]])\n",
    "print(f\"tensor shape: {empty_tensor.shape}\")\n",
    "print(f\"tensor size: {empty_tensor.size}\") # 2 x 2 x 0\n",
    "\n",
    "tensor = np.array([[[1],[2]],[[3],[4]]])\n",
    "print(f\"tensor shape: {tensor.shape}\")\n",
    "print(f\"tensor size: {tensor.size}\") # 2 x 2 x 1\n"
   ]
  },
  {
   "cell_type": "markdown",
   "metadata": {},
   "source": [
    "#### 1) reshape"
   ]
  },
  {
   "cell_type": "code",
   "execution_count": 124,
   "metadata": {},
   "outputs": [
    {
     "name": "stdout",
     "output_type": "stream",
     "text": [
      "shape = (2, 2, 1)\n",
      "reshape:\n",
      " [[[1 2]\n",
      "  [3 4]]]\n",
      "reshape:\n",
      " [[[1 2]\n",
      "  [3 4]]]\n"
     ]
    }
   ],
   "source": [
    "import numpy as np\n",
    "tensor = np.array([[[1],[2]],[[3],[4]]])\n",
    "print(f\"shape = {tensor.shape}\")\n",
    "print(\n",
    "    \"reshape:\\n\",\n",
    "    np.reshape(tensor, (1, 2, 2))\n",
    ")\n",
    "print(\n",
    "    \"reshape:\\n\",\n",
    "    np.reshape(tensor, (1, 2, -1))\n",
    ")"
   ]
  },
  {
   "cell_type": "markdown",
   "metadata": {},
   "source": [
    "### 3. Function"
   ]
  },
  {
   "cell_type": "markdown",
   "metadata": {},
   "source": [
    "#### 1) zeros"
   ]
  },
  {
   "cell_type": "code",
   "execution_count": 27,
   "metadata": {},
   "outputs": [
    {
     "name": "stdout",
     "output_type": "stream",
     "text": [
      "[[[0. 0.]\n",
      "  [0. 0.]\n",
      "  [0. 0.]]\n",
      "\n",
      " [[0. 0.]\n",
      "  [0. 0.]\n",
      "  [0. 0.]]\n",
      "\n",
      " [[0. 0.]\n",
      "  [0. 0.]\n",
      "  [0. 0.]]\n",
      "\n",
      " [[0. 0.]\n",
      "  [0. 0.]\n",
      "  [0. 0.]]]\n"
     ]
    }
   ],
   "source": [
    "import numpy as np\n",
    "\n",
    "print(\n",
    "    np.zeros((4, 3, 2))\n",
    ")"
   ]
  },
  {
   "cell_type": "markdown",
   "metadata": {},
   "source": [
    "#### 2) ones"
   ]
  },
  {
   "cell_type": "code",
   "execution_count": 30,
   "metadata": {},
   "outputs": [
    {
     "name": "stdout",
     "output_type": "stream",
     "text": [
      "[[[1. 1.]\n",
      "  [1. 1.]\n",
      "  [1. 1.]]\n",
      "\n",
      " [[1. 1.]\n",
      "  [1. 1.]\n",
      "  [1. 1.]]\n",
      "\n",
      " [[1. 1.]\n",
      "  [1. 1.]\n",
      "  [1. 1.]]\n",
      "\n",
      " [[1. 1.]\n",
      "  [1. 1.]\n",
      "  [1. 1.]]]\n"
     ]
    }
   ],
   "source": [
    "import numpy as np\n",
    "\n",
    "print(\n",
    "    np.ones((4, 3, 2))\n",
    ")"
   ]
  },
  {
   "cell_type": "markdown",
   "metadata": {},
   "source": [
    "#### 3) full"
   ]
  },
  {
   "cell_type": "code",
   "execution_count": 29,
   "metadata": {},
   "outputs": [
    {
     "name": "stdout",
     "output_type": "stream",
     "text": [
      "[[[40 40]\n",
      "  [40 40]\n",
      "  [40 40]]\n",
      "\n",
      " [[40 40]\n",
      "  [40 40]\n",
      "  [40 40]]\n",
      "\n",
      " [[40 40]\n",
      "  [40 40]\n",
      "  [40 40]]\n",
      "\n",
      " [[40 40]\n",
      "  [40 40]\n",
      "  [40 40]]]\n"
     ]
    }
   ],
   "source": [
    "import numpy as np\n",
    "\n",
    "print(\n",
    "    np.full((4, 3, 2), fill_value=40)\n",
    ")"
   ]
  },
  {
   "cell_type": "markdown",
   "metadata": {},
   "source": [
    "#### 4) range"
   ]
  },
  {
   "cell_type": "code",
   "execution_count": 33,
   "metadata": {},
   "outputs": [
    {
     "name": "stdout",
     "output_type": "stream",
     "text": [
      "[ 0  1  2  3  4  5  6  7  8  9 10 11 12 13 14]\n",
      "[15 16 17 18 19]\n",
      "[15 17 19]\n"
     ]
    }
   ],
   "source": [
    "import numpy as np\n",
    "\n",
    "print(\n",
    "    np.arange(15)\n",
    ")\n",
    "print(\n",
    "    np.arange(15, 20)\n",
    ")\n",
    "print(\n",
    "    np.arange(15, 20, 2)\n",
    ")"
   ]
  },
  {
   "cell_type": "markdown",
   "metadata": {},
   "source": [
    "#### 5) linspace"
   ]
  },
  {
   "cell_type": "code",
   "execution_count": 37,
   "metadata": {},
   "outputs": [
    {
     "name": "stdout",
     "output_type": "stream",
     "text": [
      "[ 0.  5. 10.]\n"
     ]
    }
   ],
   "source": [
    "import numpy as np\n",
    "\n",
    "print(\n",
    "    np.linspace(0, 10, 3) # 시작, 끝 값 포함\n",
    ")"
   ]
  },
  {
   "cell_type": "markdown",
   "metadata": {},
   "source": [
    "#### 6) normal\n",
    "- 정규분포에서 데이터를 추출"
   ]
  },
  {
   "cell_type": "code",
   "execution_count": 54,
   "metadata": {},
   "outputs": [
    {
     "name": "stdout",
     "output_type": "stream",
     "text": [
      "(1):\n",
      " [-1.95731126 -1.90675734  6.17352222 16.02351182  1.48539524 11.16237614\n",
      " -6.55725407  1.43203681  9.44325562  7.82157837]\n",
      "(4, 2):\n",
      " [[ -0.54754113   0.26006383]\n",
      " [ -1.81259151 -11.64953749]\n",
      " [ -0.70481288  -2.02977314]\n",
      " [ -1.12333622  -7.81040641]]\n"
     ]
    }
   ],
   "source": [
    "import numpy as np\n",
    "\n",
    "print(\n",
    "    \"(1):\\n\",\n",
    "    np.random.normal(\n",
    "        loc=0, # 평균\n",
    "        scale=5, # 표준편차\n",
    "        size=10 # 갯수\n",
    "    )\n",
    ")\n",
    "\n",
    "print(\n",
    "    \"(4, 2):\\n\",\n",
    "    np.random.normal(\n",
    "        loc=[0, 1], # 평균 / Union[bool, int, float]\n",
    "        scale=[1, 5], # 표준편차 / Union[bool, int, float]\n",
    "        size=(4, 2) # 갯수 / _ShapeLike = Union[SupportsIndex, Sequence[SupportsIndex]]\n",
    "    )\n",
    ") # "
   ]
  },
  {
   "cell_type": "markdown",
   "metadata": {},
   "source": [
    "#### 7) randn\n",
    "- 표준정규분포에서 값을 추출"
   ]
  },
  {
   "cell_type": "code",
   "execution_count": 42,
   "metadata": {},
   "outputs": [
    {
     "name": "stderr",
     "output_type": "stream",
     "text": [
      "/var/folders/mw/k_rydbt555l0d4t5g9pbrzrw0000gn/T/ipykernel_2707/1802700120.py:4: MatplotlibDeprecationWarning: The seaborn styles shipped by Matplotlib are deprecated since 3.6, as they no longer correspond to the styles shipped by seaborn. However, they will remain available as 'seaborn-v0_8-<style>'. Alternatively, directly use the seaborn API instead.\n",
      "  plt.style.use(\"seaborn\")\n"
     ]
    },
    {
     "data": {
      "image/png": "[encoded data removed]",
      "text/plain": [
       "<Figure size 1000x500 with 1 Axes>"
      ]
     },
     "metadata": {},
     "output_type": "display_data"
    }
   ],
   "source": [
    "import numpy as np\n",
    "import matplotlib.pyplot as plt\n",
    "\n",
    "plt.style.use(\"seaborn\")\n",
    "\n",
    "fig, ax = plt.subplots(figsize=(10, 5))\n",
    "\n",
    "random_values = np.random.randn(300)\n",
    "ax.hist(random_values, bins=20)\n",
    "plt.show()"
   ]
  },
  {
   "cell_type": "markdown",
   "metadata": {},
   "source": [
    "#### 8) rand\n",
    "- 전 구간 값의 추출 확률이 동일 (from Uniform Distribution)"
   ]
  },
  {
   "cell_type": "code",
   "execution_count": 60,
   "metadata": {},
   "outputs": [
    {
     "data": {
      "text/plain": [
       "(array([1., 0., 1., 0., 0., 1., 0., 1., 0., 1.]),\n",
       " array([0.16022057, 0.23987586, 0.31953114, 0.39918643, 0.47884171,\n",
       "        0.55849699, 0.63815228, 0.71780756, 0.79746285, 0.87711813,\n",
       "        0.95677342]),\n",
       " <BarContainer object of 10 artists>)"
      ]
     },
     "execution_count": 60,
     "metadata": {},
     "output_type": "execute_result"
    },
    {
     "data": {
      "image/png": "[encoded data removed]",
      "text/plain": [
       "<Figure size 1000x500 with 1 Axes>"
      ]
     },
     "metadata": {},
     "output_type": "display_data"
    }
   ],
   "source": [
    "import numpy as np\n",
    "import matplotlib.pyplot as plt\n",
    "\n",
    "fig, ax = plt.subplots(figsize=(10, 5))\n",
    "\n",
    "uniform = np.random.rand(5)\n",
    "ax.hist(uniform)"
   ]
  },
  {
   "cell_type": "markdown",
   "metadata": {},
   "source": [
    "#### 9) uniform\n",
    "- 지정한 범위 내에서 동일한 확률로 값을 추출 (from Uniform Distribution)"
   ]
  },
  {
   "cell_type": "code",
   "execution_count": 112,
   "metadata": {},
   "outputs": [
    {
     "data": {
      "text/plain": [
       "(array([1., 0., 0., 0., 0., 0., 1., 0., 0., 1.]),\n",
       " array([-3.83845224, -3.22220276, -2.60595328, -1.9897038 , -1.37345432,\n",
       "        -0.75720484, -0.14095535,  0.47529413,  1.09154361,  1.70779309,\n",
       "         2.32404257]),\n",
       " <BarContainer object of 10 artists>)"
      ]
     },
     "execution_count": 112,
     "metadata": {},
     "output_type": "execute_result"
    },
    {
     "data": {
      "image/png": "[encoded data removed]",
      "text/plain": [
       "<Figure size 1000x500 with 1 Axes>"
      ]
     },
     "metadata": {},
     "output_type": "display_data"
    }
   ],
   "source": [
    "import numpy as np\n",
    "import matplotlib.pyplot as plt\n",
    "\n",
    "fig, ax = plt.subplots(figsize=(10, 5))\n",
    "\n",
    "ax.hist(\n",
    "    np.random.uniform(low=-5, high=5, size=3)\n",
    ")"
   ]
  },
  {
   "cell_type": "markdown",
   "metadata": {},
   "source": [
    "#### 10) randint\n",
    "- 지정한 범위 내에서 동일한 확률로 값을 추출 (from Uniform Distribution)"
   ]
  },
  {
   "cell_type": "code",
   "execution_count": 110,
   "metadata": {},
   "outputs": [
    {
     "name": "stdout",
     "output_type": "stream",
     "text": [
      "[-3 -5 -1]\n"
     ]
    }
   ],
   "source": [
    "import numpy as np\n",
    "\n",
    "print(\n",
    "    np.random.randint(low=-5, high=5, size=3)\n",
    ")"
   ]
  },
  {
   "cell_type": "markdown",
   "metadata": {},
   "source": [
    "#### 11) flatten\n",
    "- vector 로 평탄화"
   ]
  },
  {
   "cell_type": "code",
   "execution_count": 131,
   "metadata": {},
   "outputs": [
    {
     "name": "stdout",
     "output_type": "stream",
     "text": [
      "[ 0  1  2  3  4  5  6  7  8  9 10 11 12 13 14 15]\n",
      "[0, 1, 2, 3, 4, 5, 6, 7, 8, 9, 10, 11, 12, 13, 14, 15]\n"
     ]
    }
   ],
   "source": [
    "import numpy as np\n",
    "\n",
    "print(\n",
    "    np\n",
    "        .arange(16)\n",
    "        .reshape(2, 4, 2)\n",
    "        .flatten()\n",
    ")\n",
    "\n",
    "print(\n",
    "    list(\n",
    "        np\n",
    "            .arange(16)\n",
    "            .reshape(2, 4, 2)\n",
    "            .flat\n",
    "    )\n",
    ")"
   ]
  },
  {
   "cell_type": "markdown",
   "metadata": {},
   "source": [
    "### 4. Operator Overriding\n",
    "- Numpy 는 ndarray 의 연산자 오버로딩이 구현되어 있다."
   ]
  },
  {
   "cell_type": "markdown",
   "metadata": {},
   "source": [
    "#### 1) vector - vector"
   ]
  },
  {
   "cell_type": "code",
   "execution_count": 172,
   "metadata": {},
   "outputs": [
    {
     "name": "stdout",
     "output_type": "stream",
     "text": [
      "a:  [1 1 2 1 1]\n",
      "b:  [3 3 3 3 3] \n",
      "\n",
      "a + b:  [4 4 5 4 4]\n",
      "a - b:  [-2 -2 -1 -2 -2]\n",
      "a * b:  [3 3 6 3 3]\n",
      "a / b:  [0.33333333 0.33333333 0.66666667 0.33333333 0.33333333]\n",
      "a // b:  [0 0 0 0 0]\n",
      "a % b:  [1 1 2 1 1]\n",
      "a ** b:  [1 1 8 1 1]\n"
     ]
    }
   ],
   "source": [
    "import numpy as np \n",
    "a = np.random.randint(1, 5, (5, )) \n",
    "b = np.random.randint(1, 5, (5, )) \n",
    "print(\"a: \", a) \n",
    "print(\"b: \", b, \"\\n\")\n",
    "print(\"a + b: \", a.__add__(b)) \n",
    "print(\"a - b: \", a.__sub__(b)) \n",
    "print(\"a * b: \", a.__mul__(b)) \n",
    "print(\"a / b: \", a.__truediv__(b)) \n",
    "print(\"a // b: \", a.__floordiv__(b)) \n",
    "print(\"a % b: \", a.__mod__(b)) \n",
    "print(\"a ** b: \", a.__pow__(b))"
   ]
  },
  {
   "cell_type": "markdown",
   "metadata": {},
   "source": [
    "#### 2) matrix - matrix"
   ]
  },
  {
   "cell_type": "code",
   "execution_count": 173,
   "metadata": {},
   "outputs": [
    {
     "name": "stdout",
     "output_type": "stream",
     "text": [
      "M: \n",
      " [[3 2 3]\n",
      " [3 2 2]]\n",
      "N: \n",
      " [[2 1 1]\n",
      " [2 3 2]] \n",
      "\n",
      "M + N: \n",
      " [[5 3 4]\n",
      " [5 5 4]]\n",
      "M - N: \n",
      " [[ 1  1  2]\n",
      " [ 1 -1  0]]\n",
      "M > N: \n",
      " [[ True  True  True]\n",
      " [ True False False]]\n",
      "M >= N: \n",
      " [[ True  True  True]\n",
      " [ True False  True]]\n"
     ]
    }
   ],
   "source": [
    "import numpy as np \n",
    "M = np.random.randint(1, 5, (2, 3)) \n",
    "N = np.random.randint(1, 5, (2, 3)) \n",
    "print(\"M: \\n\", M) \n",
    "print(\"N: \\n\", N, '\\n')\n",
    "print(\"M + N: \\n\", M + N) \n",
    "print(\"M - N: \\n\", M - N) \n",
    "print(\"M > N: \\n\", M > N) \n",
    "print(\"M >= N: \\n\", M >= N)"
   ]
  },
  {
   "cell_type": "markdown",
   "metadata": {},
   "source": [
    "### 5. Broadcasting\n",
    "- tensor의 차원, 원소의 갯수가 달라도 shape 에 매핑한 연산을 해주는 동작이다\n",
    "- shape의 매핑이 불가능한 경우에는 broadcasting 도 불가능하다."
   ]
  },
  {
   "cell_type": "markdown",
   "metadata": {},
   "source": [
    "#### 1) 같은 차원의 tensor"
   ]
  },
  {
   "cell_type": "code",
   "execution_count": 135,
   "metadata": {},
   "outputs": [
    {
     "name": "stdout",
     "output_type": "stream",
     "text": [
      "(3, 3)\n",
      "(1, 3)\n",
      "[[ 0 11 22]\n",
      " [ 3 14 25]\n",
      " [ 6 17 28]]\n"
     ]
    }
   ],
   "source": [
    "from imagehash import NDArray\n",
    "import numpy as np\n",
    "\n",
    "A = np.arange(9).reshape(3, 3)\n",
    "print(A.shape)\n",
    "B = 10 * np.arange(3).reshape(-1, 3)\n",
    "print(B.shape)\n",
    "C = A + B\n",
    "print(C)"
   ]
  },
  {
   "cell_type": "code",
   "execution_count": 142,
   "metadata": {},
   "outputs": [
    {
     "name": "stdout",
     "output_type": "stream",
     "text": [
      "[[[ 9.12953843  1.47175842 12.00193402]\n",
      "  [ 6.64098985 -4.40916224  5.29706066]\n",
      "  [ 0.95522031  4.3088853   5.61501793]]\n",
      "\n",
      " [[-1.28809693  5.12414976  0.70989106]\n",
      "  [ 3.16516936 -2.63488555 -4.27342152]\n",
      "  [ 4.68412939 -2.31744839  7.01588788]]]\n"
     ]
    }
   ],
   "source": [
    "import numpy as np\n",
    "\n",
    "shape = (2, 3, 3)\n",
    "tensor1 = np.random.normal(loc=0, scale=5, size=shape)\n",
    "tensor2 = np.linspace(start=0, stop=5, num=9).reshape(1, 3, 3)\n",
    "print(tensor1 + tensor2)"
   ]
  },
  {
   "cell_type": "markdown",
   "metadata": {},
   "source": [
    "#### 2) 다른 차원의 tensor"
   ]
  },
  {
   "cell_type": "code",
   "execution_count": 155,
   "metadata": {},
   "outputs": [
    {
     "name": "stdout",
     "output_type": "stream",
     "text": [
      "tensor_3:\n",
      "[[[0. 0. 0. 0.]\n",
      "  [0. 0. 0. 0.]\n",
      "  [0. 0. 0. 0.]]\n",
      "\n",
      " [[0. 0. 0. 0.]\n",
      "  [0. 0. 0. 0.]\n",
      "  [0. 0. 0. 0.]]]\n",
      "tensor_2:\n",
      "[[1.]\n",
      " [1.]\n",
      " [1.]]\n",
      "sum:\n",
      "[[[1. 1. 1. 1.]\n",
      "  [1. 1. 1. 1.]\n",
      "  [1. 1. 1. 1.]]\n",
      "\n",
      " [[1. 1. 1. 1.]\n",
      "  [1. 1. 1. 1.]\n",
      "  [1. 1. 1. 1.]]]\n"
     ]
    }
   ],
   "source": [
    "import numpy as np\n",
    "\n",
    "tensor_3d = np.zeros(shape=(2, 3, 4))\n",
    "tensor_2d = np.ones(shape=(3,1))\n",
    "print(f\"tensor_3:\\n{tensor_3d}\")\n",
    "print(f\"tensor_2:\\n{tensor_2d}\")\n",
    "print(f\"sum:\\n{tensor_3d + tensor_2d}\")"
   ]
  },
  {
   "cell_type": "markdown",
   "metadata": {},
   "source": [
    "### 6. Indexing and Slicing\n",
    "- tensor에 index를 통해 접근할 수 있다"
   ]
  },
  {
   "cell_type": "code",
   "execution_count": 171,
   "metadata": {},
   "outputs": [
    {
     "name": "stdout",
     "output_type": "stream",
     "text": [
      "tensor_3d:\n",
      "[[[ 0  1  2]\n",
      "  [ 3  4  5]\n",
      "  [ 6  7  8]]\n",
      "\n",
      " [[ 9 10 11]\n",
      "  [12 13 14]\n",
      "  [15 16 17]]\n",
      "\n",
      " [[18 19 20]\n",
      "  [21 22 23]\n",
      "  [24 25 26]]]\n",
      "tensor_3d[0][0][0]: 0\n",
      "tensor_3d[:2][0]: [[0 1 2]\n",
      " [3 4 5]\n",
      " [6 7 8]]\n",
      "tensor_3d[:2][0][:2]: [[0 1 2]\n",
      " [3 4 5]]\n"
     ]
    }
   ],
   "source": [
    "import numpy as np\n",
    "\n",
    "tensor_3d = np.arange(27).reshape(3, 3, 3)\n",
    "print(f\"tensor_3d:\\n{tensor_3d}\")\n",
    "\n",
    "print(f\"tensor_3d[0][0][0]: {tensor_3d[0][0][0]}\")\n",
    "print(f\"tensor_3d[:2][0]: {tensor_3d[:2][0]}\")\n",
    "print(f\"tensor_3d[:2][0][:2]: {tensor_3d[:2][0][:2]}\")"
   ]
  }
 ],
 "metadata": {
  "kernelspec": {
   "display_name": "ai2",
   "language": "python",
   "name": "python3"
  },
  "language_info": {
   "codemirror_mode": {
    "name": "ipython",
    "version": 3
   },
   "file_extension": ".py",
   "mimetype": "text/x-python",
   "name": "python",
   "nbconvert_exporter": "python",
   "pygments_lexer": "ipython3",
   "version": "3.11.4"
  },
  "orig_nbformat": 4
 },
 "nbformat": 4,
 "nbformat_minor": 2
}
